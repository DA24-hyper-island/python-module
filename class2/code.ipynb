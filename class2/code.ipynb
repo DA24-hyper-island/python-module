{
 "cells": [
  {
   "cell_type": "markdown",
   "id": "470b6e62",
   "metadata": {},
   "source": [
    "![ff](HI_Logotype_Black.high_.res_.jpg)"
   ]
  },
  {
   "cell_type": "markdown",
   "id": "9c7d252f",
   "metadata": {},
   "source": [
    "### Data Types, Variables, Expressions, and Statements.\n",
    "\n",
    "1. Data types.\n",
    "2. Data type operations.\n",
    "3. Variables as object stores - assignment, naming, swapping, deleting, updating, etc.\n",
    "4. Converting data types.\n",
    "5. Expressions and Statements.\n",
    "6. Arithmetic Operations.\n",
    "7. Commenting code.\n",
    "8. Debugging.\n",
    "9. Why!!"
   ]
  },
  {
   "cell_type": "markdown",
   "id": "6512fdb8",
   "metadata": {},
   "source": [
    "#### Python Data Types"
   ]
  },
  {
   "cell_type": "markdown",
   "id": "98cb6c4b",
   "metadata": {},
   "source": [
    "There are different types of data types in Python. Some built-in Python data types are:\n",
    "\n",
    "* Numeric data types: int, float, complex\n",
    "\n",
    "* String data types: str\n",
    "\n",
    "* Sequence types: list, tuple, range\n",
    "\n",
    "* Binary types: bytes, bytearray, memoryview\n",
    "\n",
    "* Mapping data type: dict\n",
    "\n",
    "* Boolean type: bool\n",
    "\n",
    "* Set data types: set, frozenset"
   ]
  },
  {
   "cell_type": "markdown",
   "id": "b41f7c93",
   "metadata": {},
   "source": [
    "#### 1. Python Numeric Data Type\n",
    "Python numeric data type is used to hold numeric values like;\n",
    "\n",
    "- int - holds signed integers of non-limited length.\n",
    "- long- holds long integers(exists in Python 2.x, deprecated in Python 3.x).\n",
    "- float- holds floating precision numbers and it’s accurate up to 15 decimal places.\n",
    "- complex- holds complex numbers.\n",
    "\n",
    "To see what type of numerical value is it holding right now, we can use <b>type()</b>, like this"
   ]
  },
  {
   "cell_type": "code",
   "execution_count": null,
   "id": "c71b366a",
   "metadata": {},
   "outputs": [],
   "source": [
    "#create a variable with integer value.\n",
    "a=100\n",
    "print(\"The type of variable having value\", a, \" is \", type(a))\n",
    "\n",
    "#create a variable with float value.\n",
    "b=10.2345\n",
    "print(\"The type of variable having value\", b, \" is \", type(b))\n",
    "\n",
    "#create a variable with complex value.\n",
    "c=100+3j\n",
    "print(\"The type of variable having value\", c, \" is \", type(c))"
   ]
  },
  {
   "cell_type": "markdown",
   "id": "9c359d7b",
   "metadata": {},
   "source": [
    "#### 2. Python String Data Type\n",
    "The string is a sequence of characters. Python supports Unicode characters. Generally, strings are represented by either single or double-quotes."
   ]
  },
  {
   "cell_type": "code",
   "execution_count": null,
   "id": "c664f755",
   "metadata": {},
   "outputs": [],
   "source": [
    "a = \"string in a double quote\"\n",
    "b= 'string in a single quote'\n",
    "print(a)\n",
    "print(b)\n",
    "\n",
    "# using ',' to concatenate the two or several strings\n",
    "print(a,\"concatenated with\",b)\n",
    "\n",
    "#using '+' to concate the two or several strings\n",
    "print(a+\" concated with \"+b)"
   ]
  },
  {
   "cell_type": "markdown",
   "id": "9aa8692c",
   "metadata": {},
   "source": [
    "#### Three ways to write strings"
   ]
  },
  {
   "cell_type": "code",
   "execution_count": null,
   "id": "c7211c11",
   "metadata": {},
   "outputs": [],
   "source": [
    "type('This is a string.')"
   ]
  },
  {
   "cell_type": "code",
   "execution_count": null,
   "id": "9096749f",
   "metadata": {},
   "outputs": [],
   "source": [
    "type(\"And so is this.\")"
   ]
  },
  {
   "cell_type": "code",
   "execution_count": null,
   "id": "11d13a38",
   "metadata": {},
   "outputs": [],
   "source": [
    "type(\"\"\"and this.\"\"\")"
   ]
  },
  {
   "cell_type": "code",
   "execution_count": null,
   "id": "b58cda85",
   "metadata": {},
   "outputs": [],
   "source": [
    "type('''and even this...''')"
   ]
  },
  {
   "cell_type": "markdown",
   "id": "b03f59e1",
   "metadata": {},
   "source": [
    "Double quoted strings can contain single quotes inside them, as in `\"Bruce's beard\"`, and single quoted strings can have double quotes inside them, as in `'The knights who say \"Ni!\"'`.\n",
    "\n",
    "Strings enclosed with three occurrences of either quote symbol are called triple quoted strings. They can contain either single or double quotes:"
   ]
  },
  {
   "cell_type": "code",
   "execution_count": null,
   "id": "04e2290d",
   "metadata": {},
   "outputs": [],
   "source": [
    "print('''\"Oh no,\" she exclaimed, \"Ben's bike is broken!\"''')"
   ]
  },
  {
   "cell_type": "markdown",
   "id": "a5d39a9e",
   "metadata": {},
   "source": [
    "Triple quoted strings can even span multiple lines:"
   ]
  },
  {
   "cell_type": "code",
   "execution_count": null,
   "id": "59a22636",
   "metadata": {},
   "outputs": [],
   "source": [
    "message = \"\"\"This message will\n",
    "... span several\n",
    "... lines.\"\"\"\n",
    "print(message)"
   ]
  },
  {
   "cell_type": "markdown",
   "id": "7b9b671a",
   "metadata": {},
   "source": [
    "#### String literals and escape sequences"
   ]
  },
  {
   "cell_type": "markdown",
   "id": "79a0e80b",
   "metadata": {},
   "source": [
    "A `literal` is a notation for representing a constant value of a built-in data type.\n",
    "\n",
    "In string literals, most characters represent themselves, so if we want the literal with letters s-t-r-i-n-g, we simply write 'string'.\n",
    "\n",
    "But what if we want to represent the literal for a linefeed (what you get when you press the <Enter> key on the keyboard), or a tab? These string literals are not printable the way an s or a t is. To solve this problem Python uses an `escape sequence` to represent these string literals.\n",
    "\n",
    "There are several of these escape sequences that are helpful to know."
   ]
  },
  {
   "cell_type": "markdown",
   "id": "727023a6",
   "metadata": {},
   "source": [
    "| Escape Sequence | Meaning\n",
    "| --- | --- \n",
    "|\\\\ |Backslash (\\)\n",
    "|\\' |Single quote (')\n",
    "|\\\" |Double quote (\")\n",
    "|\\b |Backspace\n",
    "|\\n |Linefeed\n",
    "|\\t |Tab"
   ]
  },
  {
   "cell_type": "markdown",
   "id": "6b22b210",
   "metadata": {},
   "source": [
    "\\n is the most frequently used of these. The following example will hopefully make what it does clear."
   ]
  },
  {
   "cell_type": "code",
   "execution_count": null,
   "id": "016bf757",
   "metadata": {},
   "outputs": [],
   "source": [
    "print(\"Line 1\\n\\n\\nLine 5\")"
   ]
  },
  {
   "cell_type": "markdown",
   "id": "11d5d582",
   "metadata": {},
   "source": [
    "#### 3. Python List Data Type\n",
    "The list is a versatile data type exclusive in Python. But the interesting thing about the list in Python is it can simultaneously hold different types of data. Formally list is an ordered sequence of some data written using square brackets<b>([])</b> and commas<b>(,)</b>."
   ]
  },
  {
   "cell_type": "code",
   "execution_count": null,
   "id": "ac398c7f",
   "metadata": {},
   "outputs": [],
   "source": [
    "#list of having only integers\n",
    "a= [1,2,3,4,5,6]\n",
    "print(a)\n",
    "\n",
    "#list of having only strings\n",
    "b=[\"hello\",\"john\",\"reese\"]\n",
    "print(b)\n",
    "\n",
    "#list of having both integers and strings\n",
    "c= [\"hey\",\"you\",1,2,3,\"go\"]\n",
    "print(c)"
   ]
  },
  {
   "cell_type": "markdown",
   "id": "c13d1d27",
   "metadata": {},
   "source": [
    "#### 4. Python Tuple\n",
    "The tuple is another data type which is a sequence of data similar to a list. But it is immutable. That means data in a tuple is write-protected. Data in a tuple is written using parenthesis and commas."
   ]
  },
  {
   "cell_type": "code",
   "execution_count": null,
   "id": "5eb8173d",
   "metadata": {},
   "outputs": [],
   "source": [
    "#tuple having only integer type of data.\n",
    "a=(1,2,3,4)\n",
    "print(a) #prints the whole tuple\n",
    "\n",
    "#tuple having multiple type of data.\n",
    "b=(\"hello\", 1,2,3,\"go\")\n",
    "print(b) #prints the whole tuple\n",
    "\n",
    "#index of tuples are also 0 based.\n",
    "\n",
    "print(b[4]) #this prints a single element in a tuple, in this case \"go\""
   ]
  },
  {
   "cell_type": "markdown",
   "id": "1d856577",
   "metadata": {},
   "source": [
    "#### 5. Python Dictionary\n",
    "Python Dictionary is an unordered sequence of data of key-value pair form. It is similar to the hash table type. Dictionaries are written within curly braces in the form key:value. It is very useful to retrieve data in an optimized way among a large amount of data."
   ]
  },
  {
   "cell_type": "code",
   "execution_count": null,
   "id": "b3a1c7d7",
   "metadata": {},
   "outputs": [],
   "source": [
    "#a sample dictionary variable\n",
    "\n",
    "a = {1:\"first name\",2:\"last name\", \"age\":33}\n",
    "\n",
    "#print value having key=1\n",
    "print(a[1])\n",
    "#print value having key=2\n",
    "print(a[2])\n",
    "#print value having key=\"age\"\n",
    "print(a[\"age\"])"
   ]
  },
  {
   "cell_type": "markdown",
   "id": "32cf8341",
   "metadata": {},
   "source": [
    "#### 6. Boolean Type, Boolean Context, and “Truthiness”\n",
    "Python 3 provides a Boolean data type. Objects of Boolean type may have one of two values, True or False:"
   ]
  },
  {
   "cell_type": "code",
   "execution_count": null,
   "id": "a174daea",
   "metadata": {},
   "outputs": [],
   "source": [
    "type(True)"
   ]
  },
  {
   "cell_type": "code",
   "execution_count": null,
   "id": "1ade14c3",
   "metadata": {},
   "outputs": [],
   "source": [
    "type(False)"
   ]
  },
  {
   "cell_type": "markdown",
   "id": "c5202109",
   "metadata": {},
   "source": [
    "#### 7. Python Set Data Type\n",
    "Set is an unordered collection of unique items. Set is defined by values separated by commas inside braces { }. For example,"
   ]
  },
  {
   "cell_type": "code",
   "execution_count": null,
   "id": "339190a8",
   "metadata": {},
   "outputs": [],
   "source": [
    "# create a set named student_id\n",
    "student_id = {112, 114, 116, 118, 115}\n",
    "\n",
    "# display student_id elements\n",
    "print(student_id)\n",
    "\n",
    "# display type of student_id\n",
    "print(type(student_id))"
   ]
  },
  {
   "cell_type": "markdown",
   "id": "e7761497",
   "metadata": {},
   "source": [
    "### Variables in Python"
   ]
  },
  {
   "cell_type": "markdown",
   "id": "8eaf1b17",
   "metadata": {},
   "source": [
    "* Variable Assignment\n",
    "* Variable Types in Python\n",
    "* Naming Variable\n",
    "* Object Identity\n",
    "* Delete Variables in Python\n",
    "* Updating Variables"
   ]
  },
  {
   "cell_type": "markdown",
   "id": "9ca0d7ad",
   "metadata": {},
   "source": [
    "#### Variable Assignment\n",
    "Think of a variable as a name attached to a particular object. In Python, variables need not be declared or defined in advance, as is the case in many other programming languages. To create a variable, you just assign it a value and then start using it. Assignment is done with a single equals sign `(=)`:"
   ]
  },
  {
   "cell_type": "code",
   "execution_count": null,
   "id": "cf3c3d5f",
   "metadata": {},
   "outputs": [],
   "source": [
    "n = 300"
   ]
  },
  {
   "cell_type": "markdown",
   "id": "c8841e94",
   "metadata": {},
   "source": [
    "This is read or interpreted as <b>“n is assigned the value 300.”</b> Once this is done, n can be used in a statement or expression, and its value will be substituted:"
   ]
  },
  {
   "cell_type": "code",
   "execution_count": null,
   "id": "477b55e0",
   "metadata": {},
   "outputs": [],
   "source": [
    "print(n)"
   ]
  },
  {
   "cell_type": "markdown",
   "id": "3e7b1228",
   "metadata": {},
   "source": [
    "Just as a literal value can be displayed directly from the interpreter prompt in a REPL session without the need for print(), so can a variable:"
   ]
  },
  {
   "cell_type": "code",
   "execution_count": null,
   "id": "176c25fd",
   "metadata": {},
   "outputs": [],
   "source": [
    "n"
   ]
  },
  {
   "cell_type": "markdown",
   "id": "07686b3a",
   "metadata": {},
   "source": [
    "Later, if you change the value of n and use it again, the new value will be substituted instead:"
   ]
  },
  {
   "cell_type": "code",
   "execution_count": null,
   "id": "aef69b61",
   "metadata": {},
   "outputs": [],
   "source": [
    "n = 1000\n",
    "print(n)"
   ]
  },
  {
   "cell_type": "markdown",
   "id": "3f34c220",
   "metadata": {},
   "source": [
    "Python also allows chained assignment, which makes it possible to assign the same value to several variables simultaneously:"
   ]
  },
  {
   "cell_type": "code",
   "execution_count": null,
   "id": "597f9abb",
   "metadata": {},
   "outputs": [],
   "source": [
    "a = b = c = 300\n",
    "print(a, b, c)"
   ]
  },
  {
   "cell_type": "markdown",
   "id": "e85004d9",
   "metadata": {},
   "source": [
    "#### Variable Types in Python"
   ]
  },
  {
   "cell_type": "markdown",
   "id": "ec9b6852",
   "metadata": {},
   "source": [
    "In many programming languages, variables are statically typed. That means a variable is initially declared to have a specific data type, and any value assigned to it during its lifetime must always have that type.\n",
    "\n",
    "Variables in Python are not subject to this restriction. In Python, a variable may be assigned a value of one type and then later re-assigned a value of a different type:"
   ]
  },
  {
   "cell_type": "code",
   "execution_count": null,
   "id": "22b914cf",
   "metadata": {},
   "outputs": [],
   "source": [
    "var = 23.5\n",
    "print(var)\n",
    "\n",
    "var = \"Now I'm a string\"\n",
    "print(var)"
   ]
  },
  {
   "cell_type": "markdown",
   "id": "b67102fa",
   "metadata": {},
   "source": [
    "Variables can represent any data type, not just integers and string:"
   ]
  },
  {
   "cell_type": "code",
   "execution_count": null,
   "id": "6481d3c0",
   "metadata": {},
   "outputs": [],
   "source": [
    "my_string = 'Hello, World!'\n",
    "my_flt = 45.06\n",
    "my_bool = 5 > 9 #A Boolean value will return either True or False\n",
    "my_list = ['item_1', 'item_2', 'item_3', 'item_4']\n",
    "my_tuple = ('one', 'two', 'three')\n",
    "my_dict = {'letter': 'g', 'number': 'seven', 'symbol': '&'}"
   ]
  },
  {
   "cell_type": "markdown",
   "id": "3b92c0c9",
   "metadata": {},
   "source": [
    "If you print any of the above variables, Python will return what that variable is equivalent to. For example, let’s work with the assignment statement for the `list data type` above:"
   ]
  },
  {
   "cell_type": "code",
   "execution_count": null,
   "id": "15059994",
   "metadata": {},
   "outputs": [],
   "source": [
    "my_list = ['item_1', 'item_2', 'item_3', 'item_4']\n",
    "print(my_list)"
   ]
  },
  {
   "cell_type": "markdown",
   "id": "c8723115",
   "metadata": {},
   "source": [
    "We passed the list value of `['item_1', 'item_2', 'item_3', 'item_4']` to the variable my_list, and then used the **print()** function to print out that value by calling `my_list`."
   ]
  },
  {
   "cell_type": "markdown",
   "id": "1bd3d129",
   "metadata": {},
   "source": [
    "Variables work by carving out a little area of memory within your computer which accepts specified values that are then associated with that space."
   ]
  },
  {
   "cell_type": "markdown",
   "id": "dcb67dda",
   "metadata": {},
   "source": [
    "#### Object Identity\n",
    "In Python, every object that is created is given a number that uniquely identifies it. It is guaranteed that no two objects will have the same identifier during any period in which their lifetimes overlap. Once an object’s reference count drops to zero and it is garbage collected, as happened to the 300 object above, then its identifying number becomes available and may be used again.\n",
    "\n",
    "The built-in Python function `id()` returns an object’s integer identifier. Using the `id()` function, you can verify that two variables indeed point to the same object:"
   ]
  },
  {
   "cell_type": "code",
   "execution_count": null,
   "id": "c43f9b77",
   "metadata": {},
   "outputs": [],
   "source": [
    "n = 300\n",
    "m = n\n",
    "id(n)"
   ]
  },
  {
   "cell_type": "code",
   "execution_count": null,
   "id": "9ccfeb85",
   "metadata": {},
   "outputs": [],
   "source": [
    "id(m)"
   ]
  },
  {
   "cell_type": "code",
   "execution_count": null,
   "id": "ecc7fbc3",
   "metadata": {},
   "outputs": [],
   "source": [
    "m = 400\n",
    "id(m)"
   ]
  },
  {
   "cell_type": "markdown",
   "id": "fc11025a",
   "metadata": {},
   "source": [
    "After the assignment `m = n`, `m` and `n` both point to the same `object`, confirmed by the fact that `id(m)` and `id(n)` return the same number. Once `m` is reassigned to `400`, `m` and `n` point to different objects with different identities."
   ]
  },
  {
   "cell_type": "markdown",
   "id": "9e469756",
   "metadata": {},
   "source": [
    "#### Naming Variables: Rules and Style\n",
    "The naming of variables is quite flexible, but there are some rules you need to keep in mind:\n",
    "\n",
    "* Variable names must only be one word (as in no spaces)\n",
    "* Variable names must be made up of only letters, numbers, and underscore (`_`)\n",
    "* Variable names cannot begin with a number\n",
    "\n",
    "Although it is legal to use uppercase letters, by convention we don’t. If you do, remember that case matters. day and Day would be different variables.\n",
    "\n",
    "The underscore character `( _)` can appear in a name. It is often used in names with multiple words, such as my_name or price_of_tea_in_china.\n",
    "\n",
    "There are some situations in which names beginning with an underscore have special meaning, so a safe rule for beginners is to start all names with a letter other than the underscore.\n",
    "\n",
    "If you give a variable an illegal name, you get a syntax error:"
   ]
  },
  {
   "cell_type": "code",
   "execution_count": null,
   "id": "ebbf16b6",
   "metadata": {},
   "outputs": [],
   "source": [
    "76trombones = \"big parade\""
   ]
  },
  {
   "cell_type": "code",
   "execution_count": null,
   "id": "2a2b864c",
   "metadata": {},
   "outputs": [],
   "source": [
    "more$ = 1000000"
   ]
  },
  {
   "cell_type": "code",
   "execution_count": null,
   "id": "5ad79a7d",
   "metadata": {},
   "outputs": [],
   "source": [
    "class = \"Computer Science 101\""
   ]
  },
  {
   "cell_type": "markdown",
   "id": "fcdff5ca",
   "metadata": {},
   "source": [
    "`76trombones` is illegal because it does not begin with a letter.`more$` is illegal because it contains an illegal character, the dollar sign. But what’s wrong with `class`?\n",
    "\n",
    "It turns out that `class` is one of the `Python keywords`. Keywords define the language’s syntax rules and structure, and they cannot be used as variable names."
   ]
  },
  {
   "cell_type": "markdown",
   "id": "e034bd1b",
   "metadata": {},
   "source": [
    "\n",
    "\n",
    "PythonKeyword |  | . | .\n",
    "-----|-----|----- |-----\n",
    "False|None|True|'and'|\n",
    "'as'|'assert'|'continue'|'def'|\n",
    "'del'|'elif'|'else'|'except'|\n",
    "'from'|'global'|'if'|'import'|\n",
    "'in'|'is'|'lambda'|'nonlocal'|\n",
    "'not'|'or'|'pass'|'raise'|'with'|\n",
    "'return'|'try'|'while'|'yield'|\n",
    "'finally'|'assert'|'break'|'class'|\n",
    "'for'| | |\n",
    "\n"
   ]
  },
  {
   "cell_type": "markdown",
   "id": "d579236d",
   "metadata": {},
   "source": [
    "#### Delete Variables in Python\n",
    "\n",
    "Using the `del` keyword\n",
    "Using the `'del'` command is the most known and easiest method to delete variables in Python. The `del` keyword deletes the `objects`. Since everything in Python is an `object`, therefore `lists, tuples and dictionaries` can also be deleted using `'del'`. It has a really simple syntax."
   ]
  },
  {
   "cell_type": "code",
   "execution_count": null,
   "id": "ee9abc99",
   "metadata": {},
   "outputs": [],
   "source": [
    "# Example -> Deleting a variable in Python using 'del' keyword\n",
    "\n",
    "# declaring variable\n",
    "a = 25\n",
    "print(\"variable: \", a)\n",
    "# deleting the variable\n",
    "del a\n",
    "\n",
    "# calling out the variable again\n",
    "print(\"variable: \", a)"
   ]
  },
  {
   "cell_type": "markdown",
   "id": "f61cd601",
   "metadata": {},
   "source": [
    "Notice the `NameError` error obtained on calling the variable `'a'` again, after deleting it. Hence, this proves that the variable `'a'` is deleted using the `del` keyword.\n",
    "\n",
    "While using the `del` keyword to delete variables in Python, you must be sure if you actually don't want to access the variable later on at any stage in your program. Unnecessary deletion of variables (objects) can lead to error. You won't be able to access these deleted variables, once deleted, from the program"
   ]
  },
  {
   "cell_type": "markdown",
   "id": "3c1832b7",
   "metadata": {},
   "source": [
    "#### Deleting Multiple Variables in Python\n",
    "You can also delete multiple variables together in Python using the `del` keyword. It is similar to initializing multiple variables in one line, separated by a `comma`."
   ]
  },
  {
   "cell_type": "code",
   "execution_count": null,
   "id": "f2267646",
   "metadata": {},
   "outputs": [],
   "source": [
    "# Example -> Deleting multiple variables in Python\n",
    "\n",
    "# declaring multiple variables\n",
    "a, b, c = 5, 10, 15\n",
    "print(\"variables: a: \", a, \" b: \", b, \" c: \", c)\n",
    "# deleting multiple variables\n",
    "del a, b, c\n",
    "\n",
    "# calling out the variable again\n",
    "print(\"variables: a: \", a, \" b: \", b, \" c: \", c)"
   ]
  },
  {
   "cell_type": "markdown",
   "id": "bafcb10d",
   "metadata": {},
   "source": [
    "#### Updating Variables"
   ]
  },
  {
   "cell_type": "markdown",
   "id": "7e306a28",
   "metadata": {},
   "source": [
    "One of the most common forms of reassignment is an update where the new value of the variable depends on the old. For example,\n",
    "\n",
    "``` x = x + 1 ```\n",
    "This means get the current value of `x`, add one, and then update `x` with the new value. The new value of `x` is the old value of `x` plus `1`. Although this assignment statement may look a bit strange, remember that executing assignment is a two-step process. First, evaluate the right-hand side expression. Second, let the variable name on the left-hand side refer to this new resulting object. The fact that `x` appears on both sides does not matter. The semantics of the assignment statement makes sure that there is no confusion as to the result. The visualizer makes this very clear."
   ]
  },
  {
   "cell_type": "code",
   "execution_count": null,
   "id": "acebf36a",
   "metadata": {},
   "outputs": [],
   "source": [
    "x = 6        # initialize x\n",
    "print(x)\n",
    "x = x + 1    # update x\n",
    "print(x)"
   ]
  },
  {
   "cell_type": "markdown",
   "id": "70bd5336",
   "metadata": {},
   "source": [
    "If you try to update a `variable` that doesn’t exist, you get an error because Python evaluates the expression on the right side of the assignment operator before it assigns the resulting value to the name on the left. Before you can update a variable, you have to initialize it, usually with a simple assignment. In the above example, `x` was initialized to `6`"
   ]
  },
  {
   "cell_type": "markdown",
   "id": "22ec2131",
   "metadata": {},
   "source": [
    "### Converting data types."
   ]
  },
  {
   "cell_type": "markdown",
   "id": "e2f15302",
   "metadata": {},
   "source": [
    "#### Converting Number Types\n",
    "\n",
    "In Python, there are two number data types: integers and floating-point numbers or floats. Sometimes you are working on someone else’s code and will need to convert an integer to a float or vice versa, or you may find that you have been using an integer when what you really need is a float. Python has built-in methods to allow you to easily convert integers to floats and floats to integers."
   ]
  },
  {
   "cell_type": "markdown",
   "id": "fc26c924",
   "metadata": {},
   "source": [
    "#### Converting Integers to Floats\n",
    "Python’s method `float()` will convert integers to floats. To use this function, add an integer inside of the parentheses:"
   ]
  },
  {
   "cell_type": "code",
   "execution_count": null,
   "id": "e7c36b49",
   "metadata": {},
   "outputs": [],
   "source": [
    "float(57)"
   ]
  },
  {
   "cell_type": "markdown",
   "id": "d1ba8dc2",
   "metadata": {},
   "source": [
    "In this case, `57` will be converted to `57.0`.\n",
    "\n",
    "You can also use this with a variable. Let’s declare `f` as equal to `57`, and then print out the new float:"
   ]
  },
  {
   "cell_type": "code",
   "execution_count": null,
   "id": "7bbb68a8",
   "metadata": {},
   "outputs": [],
   "source": [
    "f = 57\n",
    "print(float(f))"
   ]
  },
  {
   "cell_type": "markdown",
   "id": "911ba5a3",
   "metadata": {},
   "source": [
    "By using the `float()` function, we can convert `integers` to `floats`."
   ]
  },
  {
   "cell_type": "markdown",
   "id": "c6f0a42e",
   "metadata": {},
   "source": [
    "#### Converting Floats to Integers\n",
    "\n",
    "Python also has a built-in function to convert floats to integers: `int()`.\n",
    "\n",
    "The `int()` function works similarly to the `float()` function: you can add a floating-point number inside of the parentheses to convert it to an integer:"
   ]
  },
  {
   "cell_type": "code",
   "execution_count": null,
   "id": "cf2e4f87",
   "metadata": {},
   "outputs": [],
   "source": [
    "int(390.8)"
   ]
  },
  {
   "cell_type": "markdown",
   "id": "45044128",
   "metadata": {},
   "source": [
    "In this case, `390.8` will be converted to `390`.\n",
    "\n",
    "You can also use this with variables. Let’s declare `b` as equal to `125.0`, and c as equal to `390.8`, then print out the new floats:"
   ]
  },
  {
   "cell_type": "code",
   "execution_count": null,
   "id": "90fad4ee",
   "metadata": {},
   "outputs": [],
   "source": [
    "b = 125.0\n",
    "c = 390.8\n",
    "\n",
    "print(int(b))\n",
    "print(int(c))"
   ]
  },
  {
   "cell_type": "markdown",
   "id": "bcc6d3d0",
   "metadata": {},
   "source": [
    "When converting floats to integers with the `int()` function, Python cuts off the decimal and remaining numbers of a float to create an integer. Even though we may want to round `390.8` up to `391`, Python will not do this through the `int()` function."
   ]
  },
  {
   "cell_type": "markdown",
   "id": "ff5cdc4f",
   "metadata": {},
   "source": [
    "#### Numbers Converted Through Division\n",
    "\n",
    "In Python 3, relevant quotients are converted from integers to floats when doing division That is, when you divide `5` by `2`, in Python 3 you will get a float for an answer `(2.5)`:"
   ]
  },
  {
   "cell_type": "code",
   "execution_count": null,
   "id": "94d6781c",
   "metadata": {},
   "outputs": [],
   "source": [
    "a = 5 / 2\n",
    "print(a)"
   ]
  },
  {
   "cell_type": "markdown",
   "id": "b94b5fc2",
   "metadata": {},
   "source": [
    "#### Converting with Strings\n",
    "A `string` is a sequence of one or more characters (letters, numbers, symbols). Strings are a common form of data in computer programs, and we may need to convert strings to numbers or numbers to strings fairly often, especially when we are taking in user-generated data."
   ]
  },
  {
   "cell_type": "markdown",
   "id": "0fec72d2",
   "metadata": {},
   "source": [
    "We can convert numbers to strings through using the `str()` method. We’ll pass either a number or a variable into the parentheses of the method and then that numeric value will be converted into a string value.\n",
    "\n",
    "Let’s first look at converting integers. To convert the `integer 12` to a string value, you can pass `12` into the `str()` method:"
   ]
  },
  {
   "cell_type": "code",
   "execution_count": null,
   "id": "462f5ad8",
   "metadata": {},
   "outputs": [],
   "source": [
    "str(12)"
   ]
  },
  {
   "cell_type": "markdown",
   "id": "1d2ee9f7",
   "metadata": {},
   "source": [
    "The quotes around the number `12` signify that the number is no longer an `integer` but is now a `string` value.\n",
    "\n",
    "With variables we can begin to see how practical it can be to convert integers to strings. "
   ]
  },
  {
   "cell_type": "code",
   "execution_count": null,
   "id": "a24c5a5a",
   "metadata": {},
   "outputs": [],
   "source": [
    "user = \"Sammy\"\n",
    "lines = 50\n",
    "\n",
    "print(\"Congratulations, \" + user + \"! You just wrote \" + lines + \" lines of code.\")"
   ]
  },
  {
   "cell_type": "markdown",
   "id": "e9deae3b",
   "metadata": {},
   "source": [
    "When we run this code, we receive the following error:\n",
    "\n",
    "\n",
    "`TypeError: can only concatenate str (not \"int\") to str`"
   ]
  },
  {
   "cell_type": "markdown",
   "id": "d1820ecd",
   "metadata": {},
   "source": [
    "We’re not able to concatenate `strings` and `integers` in Python, so we’ll have to convert the variable lines to be a string value:"
   ]
  },
  {
   "cell_type": "code",
   "execution_count": null,
   "id": "37f926c9",
   "metadata": {},
   "outputs": [],
   "source": [
    "user = \"Sammy\"\n",
    "lines = 50\n",
    "\n",
    "print(\"Congratulations, \" + user + \"! You just wrote \" + str(lines) + \" lines of code.\")"
   ]
  },
  {
   "cell_type": "markdown",
   "id": "559e4c70",
   "metadata": {},
   "source": [
    "If we are looking to convert a `float` to a `string` rather than an `integer` to a `string`, we follow the same steps and format. When we pass a `float` into the `str()` method, a string value of the float will be returned. We can use either the float value itself or a variable:"
   ]
  },
  {
   "cell_type": "code",
   "execution_count": null,
   "id": "0828767c",
   "metadata": {},
   "outputs": [],
   "source": [
    "print(str(421.034))\n",
    "\n",
    "f = 5524.53\n",
    "print(str(f))"
   ]
  },
  {
   "cell_type": "markdown",
   "id": "35b314fa",
   "metadata": {},
   "source": [
    "#### Converting Strings to Numbers\n",
    "Strings can be converted to numbers by using the `int()` and `float()` methods.\n",
    "\n",
    "If your string does not have decimal places, you’ll most likely want to convert it to an integer by using the `int()` method.\n",
    "\n",
    "Let’s use the example of the user Sammy keeping track of lines of code written each day. We may want to manipulate those values with math to provide more interesting feedback for the user, but those values are currently stored in strings:"
   ]
  },
  {
   "cell_type": "code",
   "execution_count": null,
   "id": "80472795",
   "metadata": {},
   "outputs": [],
   "source": [
    "lines_yesterday = \"50\"\n",
    "lines_today = \"108\"\n",
    "\n",
    "lines_more = lines_today - lines_yesterday\n",
    "\n",
    "print(lines_more)"
   ]
  },
  {
   "cell_type": "markdown",
   "id": "71a404e2",
   "metadata": {},
   "source": [
    "`TypeError: unsupported operand type(s) for -: 'str' and 'str'`\n",
    "\n",
    "Because the two numeric values were stored in strings, we received an error. The operand `-` for subtraction is not a valid operand for two string values.\n",
    "\n",
    "Let’s modify the code to include the `int()` method that will convert the `strings to integers`, and allow us to do math with values these that were originally strings."
   ]
  },
  {
   "cell_type": "code",
   "execution_count": null,
   "id": "d48d2a3c",
   "metadata": {},
   "outputs": [],
   "source": [
    "lines_yesterday = \"50\"\n",
    "lines_today = \"108\"\n",
    "\n",
    "lines_more = int(lines_today) - int(lines_yesterday)\n",
    "\n",
    "print(lines_more)"
   ]
  },
  {
   "cell_type": "markdown",
   "id": "615ae18c",
   "metadata": {},
   "source": [
    "The variable `lines_more` is automatically an `integer`, and it is equal to the numeric value of `58` in this example.\n",
    "\n",
    "We can also convert the numbers in the example above to float values by using the `float()` method in place of the `int()` method. Instead of receiving the output of `58`, we’ll receive the output of `58.0`, a float.\n",
    "\n",
    "The user Sammy is earning points in decimal values"
   ]
  },
  {
   "cell_type": "code",
   "execution_count": null,
   "id": "641f42ed",
   "metadata": {},
   "outputs": [],
   "source": [
    "total_points = \"5524.53\"\n",
    "new_points = \"45.30\"\n",
    "\n",
    "new_total_points = total_points + new_points\n",
    "\n",
    "print(new_total_points)"
   ]
  },
  {
   "cell_type": "markdown",
   "id": "4e9313ad",
   "metadata": {},
   "source": [
    "In this case, using the `+` operand with two strings is a valid operation, but it is concatenating two strings rather than adding two numeric values together. So, our output looks unusual since it just places the two values next to each other.\n",
    "\n",
    "We’ll want to convert these `strings to floats` prior to performing any math with the `float()` met"
   ]
  },
  {
   "cell_type": "code",
   "execution_count": null,
   "id": "bc0c3be8",
   "metadata": {},
   "outputs": [],
   "source": [
    "total_points = \"5524.53\"\n",
    "new_points = \"45.30\"\n",
    "\n",
    "new_total_points = float(total_points) + float(new_points)\n",
    "\n",
    "print(new_total_points)"
   ]
  },
  {
   "cell_type": "markdown",
   "id": "6d37ea95",
   "metadata": {},
   "source": [
    "Now that we have converted the two `strings to floats`, we receive the anticipated result that adds `45.30 to 5524.53`.\n",
    "\n",
    "If we try to convert a string value with decimal places to an integer, we’ll receive an error:"
   ]
  },
  {
   "cell_type": "code",
   "execution_count": null,
   "id": "82b36660",
   "metadata": {},
   "outputs": [],
   "source": [
    "f = \"54.23\"\n",
    "print(int(f))"
   ]
  },
  {
   "cell_type": "markdown",
   "id": "55537eb5",
   "metadata": {},
   "source": [
    "`Output\n",
    "ValueError: invalid literal for int() with base 10: '54.23'`\n",
    "\n",
    "If we pass a decimal value in a string to the `int()` method we’ll receive an error because it will not convert to an integer.\n",
    "\n",
    "Converting strings to numbers enables us to quickly modify the data type we are working with so that we can perform operations on numeric values that were originally cast as strings."
   ]
  },
  {
   "cell_type": "markdown",
   "id": "95fe4a7a",
   "metadata": {},
   "source": [
    "#### Converting to Tuples and Lists\n",
    "You can use the methods `list()` and `tuple()` to convert the values passed to them into the list and tuple data type respectively. In Python:\n",
    "\n",
    "a list is a mutable ordered sequence of elements that is contained within square brackets `[ ]`.\n",
    "a tuple is an immutable ordered sequence of elements contained within parentheses `( )`.\n",
    "\n",
    "#### Converting to Tuples\n",
    "Let’s start with converting a list to a tuple. Converting a list to a tuple, because it’s an immutable data type, can allow substantial optimization to the programs that we create. When we use the method `tuple()` it will return the tuple version of the value passed to it."
   ]
  },
  {
   "cell_type": "code",
   "execution_count": null,
   "id": "b4111957",
   "metadata": {},
   "outputs": [],
   "source": [
    "print(tuple(['pull request', 'open source', 'repository', 'branch']))"
   ]
  },
  {
   "cell_type": "markdown",
   "id": "3c8f7a2c",
   "metadata": {},
   "source": [
    "We see that a `tuple` is printed out in the output, as the items are now contained within parentheses rather than square brackets.\n",
    "\n",
    "Let’s use `tuple()` with a variable that represents a `list`:"
   ]
  },
  {
   "cell_type": "code",
   "execution_count": null,
   "id": "1d378381",
   "metadata": {},
   "outputs": [],
   "source": [
    "sea_creatures = ['shark', 'cuttlefish', 'squid', 'mantis shrimp']\n",
    "print(tuple(sea_creatures))"
   ]
  },
  {
   "cell_type": "markdown",
   "id": "0ce36283",
   "metadata": {},
   "source": [
    "Again, we see that the list value is changed to a tuple value, indicated by the parentheses. We can convert any iterable type to a tuple, including strings:"
   ]
  },
  {
   "cell_type": "code",
   "execution_count": null,
   "id": "312bef49",
   "metadata": {},
   "outputs": [],
   "source": [
    "print(tuple('Sammy'))"
   ]
  },
  {
   "cell_type": "markdown",
   "id": "6c787d36",
   "metadata": {},
   "source": [
    "Because we can iterate through `strings`, we can convert them to tuples with the `tuple()` method. With data types that are not iterable, however, like `integers and floats`, we will receive a type error:"
   ]
  },
  {
   "cell_type": "code",
   "execution_count": null,
   "id": "26cd970a",
   "metadata": {},
   "outputs": [],
   "source": [
    "print(tuple(5000))"
   ]
  },
  {
   "cell_type": "markdown",
   "id": "fa3b6af1",
   "metadata": {},
   "source": [
    "While it is possible to convert the integer to a string and then convert to a tuple, as in `tuple(str(5000))`, it is best to opt for readable code over complicated conversions."
   ]
  },
  {
   "cell_type": "markdown",
   "id": "5bb3c59a",
   "metadata": {},
   "source": [
    "#### Converting to Lists\n",
    "Converting values, especially tuples, to lists can be useful when you need to have a mutable version of that value.\n",
    "\n",
    "We’ll use the `list()` method to convert the following `tuple to a list`. Because the syntax for creating a list uses parentheses, be sure to include the parentheses of the `list()` method, and in this case the `print()` method as well:"
   ]
  },
  {
   "cell_type": "code",
   "execution_count": null,
   "id": "e21b07bc",
   "metadata": {},
   "outputs": [],
   "source": [
    "print(list(('blue coral', 'staghorn coral', 'pillar coral')))"
   ]
  },
  {
   "cell_type": "markdown",
   "id": "918cab58",
   "metadata": {},
   "source": [
    "The square brackets signal that a list has been returned from the original tuple value that was passed through the `list()` method.\n",
    "\n",
    "To make the code more readable, we can remove one of the pairs of parentheses by using a variable:"
   ]
  },
  {
   "cell_type": "code",
   "execution_count": null,
   "id": "258c26a9",
   "metadata": {},
   "outputs": [],
   "source": [
    "coral = ('blue coral', 'staghorn coral', 'pillar coral')\n",
    "list(coral)"
   ]
  },
  {
   "cell_type": "code",
   "execution_count": null,
   "id": "ae93fd00",
   "metadata": {},
   "outputs": [],
   "source": [
    "print(list('shark'))"
   ]
  },
  {
   "cell_type": "markdown",
   "id": "fa980817",
   "metadata": {},
   "source": [
    "Here the string 'shark' was converted to a list, providing a mutable version of the original value."
   ]
  },
  {
   "cell_type": "markdown",
   "id": "0478787b",
   "metadata": {},
   "source": [
    "### Expressions and Statements\n",
    "\n",
    "A **statement** is an instruction that the Python interpreter can execute. We have only seen the `assignment statement` so far. Some other kinds of statements that we’ll see shortly are `while statements`, `for statements`, `if statements`, and `import statements`. (There are other kinds too!)\n",
    "\n",
    "An **expression** is a combination of values, variables, operators, and calls to functions. Expressions need to be evaluated. If you ask Python to print an expression, the interpreter evaluates the expression and displays the result."
   ]
  },
  {
   "cell_type": "markdown",
   "id": "2d146803",
   "metadata": {},
   "source": [
    "When you type a **statement** , Python executes it and displays the result, if there is one. The result of a print statement is a value. **Assignment statements** don't produce a result.\n",
    "\n",
    "A script usually contains a sequence of statements. If there is more than one statement, the results appear one at a time as the statements execute.\n",
    "\n",
    "For example, the script"
   ]
  },
  {
   "cell_type": "code",
   "execution_count": null,
   "id": "1de00a09",
   "metadata": {},
   "outputs": [],
   "source": [
    "print (1)\n",
    "x = 2\n",
    "print (x)"
   ]
  },
  {
   "cell_type": "markdown",
   "id": "716f85f5",
   "metadata": {},
   "source": [
    "statement is a unit of code that has an effect, like creating a variable or displaying a value.\n",
    "\n",
    "`x = 2`\n",
    "\n",
    "`print(x)`"
   ]
  },
  {
   "cell_type": "markdown",
   "id": "ca385967",
   "metadata": {},
   "source": [
    "### Arithmetic Operations"
   ]
  },
  {
   "cell_type": "markdown",
   "id": "6784647d",
   "metadata": {},
   "source": [
    "| Operator\t| Description\t| Example\n",
    "-----|-----|----- \n",
    "|+\t|used to add two numbers\t|sum = a + b\n",
    "|–\t|used for subtraction\t|difference = a – b\n",
    "|*\t|used to multiply two numbers. If a string and int is multiplied then the string is repeated the int times.\tmul = |a*b>>> “Hi”*5 >>>‘HiHiHiHiHi’\t\t\n",
    "|/\t|used to divide two numbers\t|div = b/a\n",
    "|%\t|modulus operator, returns the remainder of division\t|mod = a%b\n",
    "|**\t|exponent operator | 2** 2 >> 4"
   ]
  },
  {
   "cell_type": "code",
   "execution_count": null,
   "id": "11e89168",
   "metadata": {},
   "outputs": [],
   "source": [
    "#create two variables\n",
    "a=100\n",
    "b=200\n",
    "\n",
    "# addition (+) operator\n",
    "print(a+b) \n",
    "\n",
    "# subtraction (-) operator\n",
    "print(a-b) \n",
    "\n",
    "# multiplication (*) operator\n",
    "print(a*b)\n",
    "\n",
    "# division (/) operator\n",
    "print(b/a)\n",
    "\n",
    "# modulus (%) operator\n",
    "print(a%b) # prints the remainder of a/b\n",
    "\n",
    "# exponent (**) operator\n",
    "print(a**b) #prints a^b"
   ]
  },
  {
   "cell_type": "markdown",
   "id": "ee1f8092",
   "metadata": {},
   "source": [
    "#### Comparison Operators"
   ]
  },
  {
   "cell_type": "markdown",
   "id": "06cafb61",
   "metadata": {},
   "source": [
    "|Operator\t|Description\t|Example\n",
    "-----|-----|----- \n",
    "|==\t|returns True if two operands are equal, otherwise False.\t|flag = a == b\n",
    "|!=\t|returns True if two operands are not equal, otherwise False.\t|flag = a != b\n",
    "|>\t|returns True if left operand is greater than the right operand, otherwise False.\t|flag = a > b\n",
    "|<\t|returns True if left operand is smaller than the right operand, otherwise False.\t|flag = a < b\n",
    "|>=\t|returns True if left operand is greater than or equal to the right operand, otherwise False.\t|flag = a > b\n",
    "|<=\t|returns True if left operand is smaller than or equal to the right operand, otherwise False.\t|flag = a < b"
   ]
  },
  {
   "cell_type": "code",
   "execution_count": null,
   "id": "45f4c008",
   "metadata": {},
   "outputs": [],
   "source": [
    "# create two variables\n",
    "a=100\n",
    "b=200\n",
    "\n",
    "# (==) operator, checks if two operands are equal or not\n",
    "print(a==b)\n",
    "\n",
    "# (!=) operator, checks if two operands are not equal\n",
    "print(a!=b)\n",
    "\n",
    "# (>) operator, checks left operand is greater than right operand or not\n",
    "print(a>b)\n",
    "\n",
    "# (<) operator, checks left operand is less than right operand or not\n",
    "print(a<b)\n",
    "#(>=) operator, checks left operand is greater than or equal to right operand or not\n",
    "print(a>=b)\n",
    "\n",
    "# (<=) operator, checks left operand is less than or equal to right operand or not\n",
    "print(a<=b)"
   ]
  },
  {
   "cell_type": "markdown",
   "id": "43c6feaa",
   "metadata": {},
   "source": [
    "#### Bitwise Operators"
   ]
  },
  {
   "cell_type": "markdown",
   "id": "2927bb82",
   "metadata": {},
   "source": [
    "|Operator\t|Description\t|Example\n",
    "-----|-----|----- \n",
    "|&\t|Binary AND Operator\t|x = 10 & 7 =2\n",
    "| l |Binary OR Operator   |x = 10 l 7 = 15\n",
    "|^\t|Binary XOR Operator\t|x = 10 ^ 7 = 13\n",
    "|~\t|Binary ONEs Compliment Operator\t|x = ~10 = -11\n",
    "|<<\t|Binary Left Shift operator\t|x = 10<<1 = 20\n",
    "|>>\t|Binary Right Shift Operator\t|x = 10>>1 = 5"
   ]
  },
  {
   "cell_type": "code",
   "execution_count": null,
   "id": "48f1a9cb",
   "metadata": {},
   "outputs": [],
   "source": [
    "#create two variables\n",
    "a=10 # binary 1010\n",
    "b=7  # binary 0111\n",
    "\n",
    "# Binary AND (&) operator, done binary AND operation\n",
    "print(a&b)\n",
    "\n",
    "# Binary OR (|) operator, done binary OR operation\n",
    "print(a|b)\n",
    "\n",
    "# Binary XOR (^) operator, done binary XOR operation\n",
    "print(a^b)\n",
    "\n",
    "# Binary ONEs Compliment (~) operator, done binary One's Compliment operation\n",
    "print(~a)\n",
    "\n",
    "# Binary Left Shift (<<) operator, done binary Left Shift operation\n",
    "print(a<<1) \n",
    "# Binary Right Shift (>>) operator, done binary Right Shift operation\n",
    "print(a>>1)"
   ]
  },
  {
   "cell_type": "markdown",
   "id": "13e45c2c",
   "metadata": {},
   "source": [
    "#### Logical Operators"
   ]
  },
  {
   "cell_type": "markdown",
   "id": "edc21312",
   "metadata": {},
   "source": [
    "|Operator\t|Description\t|Example\n",
    "-----|-----|----- \n",
    "|and\t|Logical AND Operator\t|flag = exp1 and exp2\n",
    "|or\t|Logical OR Operator\t|flag = exp1 or exp2\n",
    "|not\t|Logical NOT Operator\t|flag = not(True) = False"
   ]
  },
  {
   "cell_type": "markdown",
   "id": "e13e5287",
   "metadata": {},
   "source": [
    "#### Python Operator Precedence\n",
    "Precedence of these operators means the priority level of operators. This becomes vital when an expression has multiple operators in it. For example consider the following expression:"
   ]
  },
  {
   "cell_type": "code",
   "execution_count": null,
   "id": "f272d982",
   "metadata": {},
   "outputs": [],
   "source": [
    "2+3*4"
   ]
  },
  {
   "cell_type": "markdown",
   "id": "47573ea8",
   "metadata": {},
   "source": [
    "Now, what do you think the series of operation would be? We can add 2 and 3, then multiply the result by 4. Also, we can multiply 3 and 4 first, then add 2 with it. Here we can see that the operators’ precedence is important.\n",
    "\n",
    "Below is a list of operators indicating the precedence level. It’s in descending order. That means the upper group has more precedence than that of the lower group.\n",
    "\n",
    "1. Parenthesis – `()`\n",
    "2. Exponentiation – `**`\n",
    "3. Compliment, unary plus and minus `– ~, +, -`\n",
    "4. Multiply, Divide, modulo – `*, /, %`\n",
    "5. Addition and Subtraction – `+, -`\n",
    "6. Right and Left Shift – `>>, <<`\n",
    "7. Bitwise AND – `&`\n",
    "8. Bitwise OR and XOR – `|, ^`\n",
    "9. Comparison Operators – `==, !=, >, <, >=, <=`\n",
    "10. Assignment Operator- `=`"
   ]
  },
  {
   "cell_type": "markdown",
   "id": "903c1a4d",
   "metadata": {},
   "source": [
    "### Commenting code\n",
    "\n",
    "How to Comment out Code in Python\n",
    "\n",
    "The syntax for comments differs in each programming language. In this section, we'll see how to add comments using Python.\n",
    "\n",
    "Comments in Python start with the `#` symbol. Here's an example:"
   ]
  },
  {
   "cell_type": "code",
   "execution_count": null,
   "id": "90f03c6a",
   "metadata": {},
   "outputs": [],
   "source": [
    "#The code below prints Hello World! to the console\n",
    "print(\"Hello World!\")"
   ]
  },
  {
   "cell_type": "markdown",
   "id": "d63f48e2",
   "metadata": {},
   "source": [
    "In the code above, I have used a comment to explain what the code does. When the code is being executed, the interpreter will ignore the comment and run the `print()` function."
   ]
  },
  {
   "cell_type": "markdown",
   "id": "c884b9c8",
   "metadata": {},
   "source": [
    "We can also comment out actual code. That is:"
   ]
  },
  {
   "cell_type": "code",
   "execution_count": null,
   "id": "fa6931ee",
   "metadata": {},
   "outputs": [],
   "source": [
    "# print(\"Hello World!\")\n",
    "print(\"Happy coding!\")"
   ]
  },
  {
   "cell_type": "markdown",
   "id": "5a3de605",
   "metadata": {},
   "source": [
    "When we run the code, only the second line will be interpreted.\n",
    "\n",
    "You don't always have to place comments above the line of code they're referencing. You can also put them on the same line. That is:"
   ]
  },
  {
   "cell_type": "code",
   "execution_count": null,
   "id": "829d4348",
   "metadata": {},
   "outputs": [],
   "source": [
    "print(\"Hello world\") # Prints Hello World"
   ]
  },
  {
   "cell_type": "markdown",
   "id": "fa9b3c7b",
   "metadata": {},
   "source": [
    "#### How to Write Multi-Line Comments in Python"
   ]
  },
  {
   "cell_type": "markdown",
   "id": "ea47dc23",
   "metadata": {},
   "source": [
    "In this section, we'll see how to write comments that span across multiple lines.\n",
    "\n",
    "Python has no built-in syntax for creating multi-line comments.\n",
    "\n",
    "Fortunately, there are two ways we can work around that. Here's the first:"
   ]
  },
  {
   "cell_type": "code",
   "execution_count": null,
   "id": "dd53cc93",
   "metadata": {},
   "outputs": [],
   "source": [
    "# When this code runs,\n",
    "# you will see Hello World! \n",
    "# in the console. \n",
    "print(\"Hello world\")"
   ]
  },
  {
   "cell_type": "markdown",
   "id": "d02ef6a5",
   "metadata": {},
   "source": [
    "Above, we placed the `#` symbol on each line to continue writing our comment.\n",
    "\n",
    "In this next example, we are going to use multi-line strings (starts and ends with three quotation marks) to nest our comment.\n",
    "\n",
    "When you use multi-line strings in Python without assigning the string to a variable, that part of the code will be ignored.\n",
    "\n",
    "Here's an example:"
   ]
  },
  {
   "cell_type": "code",
   "execution_count": null,
   "id": "39485a5e",
   "metadata": {},
   "outputs": [],
   "source": [
    "\"\"\"\n",
    "When this code runs,\n",
    "you will see Hello World! \n",
    "in the console.\n",
    "\"\"\"\n",
    "print(\"Hello World!\")"
   ]
  }
 ],
 "metadata": {
  "kernelspec": {
   "display_name": "Python 3 (ipykernel)",
   "language": "python",
   "name": "python3"
  },
  "language_info": {
   "codemirror_mode": {
    "name": "ipython",
    "version": 3
   },
   "file_extension": ".py",
   "mimetype": "text/x-python",
   "name": "python",
   "nbconvert_exporter": "python",
   "pygments_lexer": "ipython3",
   "version": "3.9.12"
  }
 },
 "nbformat": 4,
 "nbformat_minor": 5
}
