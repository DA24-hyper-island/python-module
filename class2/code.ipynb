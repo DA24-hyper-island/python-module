{
 "cells": [
  {
   "cell_type": "markdown",
   "id": "ee211d29",
   "metadata": {},
   "source": [
    "<a href='https://ibb.co/W34pJdv'> <img src=\"https://i.ibb.co/z5THvLV/HI-Logotype-Black-high-res.jpg\" /></a>"
   ]
  },
  {
   "cell_type": "markdown",
   "id": "9c7d252f",
   "metadata": {},
   "source": [
    "### Data Types, Variables, Expressions, and Statements.\n",
    "\n",
    "1. Data types.\n",
    "2. Data type operations.\n",
    "3. Variables as object stores - assignment, naming, swapping, deleting, updating, etc.\n",
    "4. Converting data types.\n",
    "5. Expressions and Statements.\n",
    "6. Arithmetic Operations.\n",
    "7. Commenting code.\n",
    "8. Debugging.\n",
    "9. Why!!"
   ]
  },
  {
   "cell_type": "markdown",
   "id": "6512fdb8",
   "metadata": {},
   "source": [
    "#### Python Data Types"
   ]
  },
  {
   "cell_type": "markdown",
   "id": "98cb6c4b",
   "metadata": {},
   "source": [
    "There are different types of data types in Python. Some built-in Python data types are:\n",
    "\n",
    "* Numeric data types: int, float, complex\n",
    "\n",
    "* String data types: str\n",
    "\n",
    "* Sequence types: list, tuple, range\n",
    "\n",
    "* Binary types: bytes, bytearray, memoryview\n",
    "\n",
    "* Mapping data type: dict\n",
    "\n",
    "* Boolean type: bool\n",
    "\n",
    "* Set data types: set, frozenset"
   ]
  },
  {
   "cell_type": "markdown",
   "id": "b41f7c93",
   "metadata": {},
   "source": [
    "#### 1. Python Numeric Data Type\n",
    "Python numeric data type is used to hold numeric values like;\n",
    "\n",
    "- int - holds signed integers of non-limited length.\n",
    "- long- holds long integers(exists in Python 2.x, deprecated in Python 3.x).\n",
    "- float- holds floating precision numbers and it’s accurate up to 15 decimal places.\n",
    "- complex- holds complex numbers.\n",
    "\n",
    "To see what type of numerical value is it holding right now, we can use <b>type()</b>, like this"
   ]
  },
  {
   "cell_type": "code",
   "execution_count": null,
   "id": "c71b366a",
   "metadata": {},
   "outputs": [],
   "source": [
    "#create a variable with integer value.\n",
    "a=100\n",
    "print(\"The type of variable having value\", a, \" is \", type(a))\n",
    "\n",
    "#create a variable with float value.\n",
    "b=10.2345\n",
    "print(\"The type of variable having value\", b, \" is \", type(b))\n",
    "\n",
    "#create a variable with complex value.\n",
    "c=100+3j\n",
    "print(\"The type of variable having value\", c, \" is \", type(c))"
   ]
  },
  {
   "cell_type": "markdown",
   "id": "9c359d7b",
   "metadata": {},
   "source": [
    "#### 2. Python String Data Type\n",
    "The string is a sequence of characters. Python supports Unicode characters. Generally, strings are represented by either single or double-quotes."
   ]
  },
  {
   "cell_type": "code",
   "execution_count": null,
   "id": "c664f755",
   "metadata": {},
   "outputs": [],
   "source": [
    "a = \"string in a double quote\"\n",
    "b= 'string in a single quote'\n",
    "print(a)\n",
    "print(b)\n",
    "\n",
    "# using ',' to concatenate the two or several strings\n",
    "print(a,\"concatenated with\",b)\n",
    "\n",
    "#using '+' to concate the two or several strings\n",
    "print(a+\" concated with \"+b)"
   ]
  },
  {
   "cell_type": "markdown",
   "id": "b3292fde",
   "metadata": {},
   "source": [
    "#### Three ways to write strings"
   ]
  },
  {
   "cell_type": "code",
   "execution_count": null,
   "id": "1e8ddad0",
   "metadata": {},
   "outputs": [],
   "source": [
    "type('This is a string.')"
   ]
  },
  {
   "cell_type": "code",
   "execution_count": null,
   "id": "ef798ad7",
   "metadata": {},
   "outputs": [],
   "source": [
    "type(\"And so is this.\")"
   ]
  },
  {
   "cell_type": "code",
   "execution_count": null,
   "id": "e16c6f47",
   "metadata": {},
   "outputs": [],
   "source": [
    "type(\"\"\"and this.\"\"\")"
   ]
  },
  {
   "cell_type": "code",
   "execution_count": null,
   "id": "a9f18df2",
   "metadata": {},
   "outputs": [],
   "source": [
    "type('''and even this...''')"
   ]
  },
  {
   "cell_type": "markdown",
   "id": "b78b3018",
   "metadata": {},
   "source": [
    "Double quoted strings can contain single quotes inside them, as in `\"Bruce's beard\"`, and single quoted strings can have double quotes inside them, as in `'The knights who say \"Ni!\"'`.\n",
    "\n",
    "Strings enclosed with three occurrences of either quote symbol are called triple quoted strings. They can contain either single or double quotes:"
   ]
  },
  {
   "cell_type": "code",
   "execution_count": null,
   "id": "a8a16c16",
   "metadata": {},
   "outputs": [],
   "source": [
    "print('''\"Oh no,\" she exclaimed, \"Ben's bike is broken!\"''')"
   ]
  },
  {
   "cell_type": "markdown",
   "id": "343f4330",
   "metadata": {},
   "source": [
    "Triple quoted strings can even span multiple lines:"
   ]
  },
  {
   "cell_type": "code",
   "execution_count": null,
   "id": "76e51eed",
   "metadata": {},
   "outputs": [],
   "source": [
    "message = \"\"\"This message will\n",
    "... span several\n",
    "... lines.\"\"\"\n",
    "print(message)"
   ]
  },
  {
   "cell_type": "markdown",
   "id": "539ee293",
   "metadata": {},
   "source": [
    "#### String literals and escape sequences"
   ]
  },
  {
   "cell_type": "markdown",
   "id": "8f4cd1e3",
   "metadata": {},
   "source": [
    "A `literal` is a notation for representing a constant value of a built-in data type.\n",
    "\n",
    "In string literals, most characters represent themselves, so if we want the literal with letters s-t-r-i-n-g, we simply write 'string'.\n",
    "\n",
    "But what if we want to represent the literal for a linefeed (what you get when you press the <Enter> key on the keyboard), or a tab? These string literals are not printable the way an s or a t is. To solve this problem Python uses an `escape sequence` to represent these string literals.\n",
    "\n",
    "There are several of these escape sequences that are helpful to know."
   ]
  },
  {
   "cell_type": "markdown",
   "id": "e6898ba0",
   "metadata": {},
   "source": [
    "| Escape Sequence | Meaning\n",
    "| --- | --- \n",
    "|\\\\ |Backslash (\\)\n",
    "|\\' |Single quote (')\n",
    "|\\\" |Double quote (\")\n",
    "|\\b |Backspace\n",
    "|\\n |Linefeed\n",
    "|\\t |Tab"
   ]
  },
  {
   "cell_type": "markdown",
   "id": "54a40e82",
   "metadata": {},
   "source": [
    "\\n is the most frequently used of these. The following example will hopefully make what it does clear."
   ]
  },
  {
   "cell_type": "code",
   "execution_count": null,
   "id": "f037690c",
   "metadata": {},
   "outputs": [],
   "source": [
    "print(\"Line 1\\n\\n\\nLine 5\")"
   ]
  },
  {
   "cell_type": "markdown",
   "id": "32cf8341",
   "metadata": {},
   "source": [
    "#### 3. Boolean Type, Boolean Context, and “Truthiness”\n",
    "Python 3 provides a Boolean data type. Objects of Boolean type may have one of two values, True or False:"
   ]
  },
  {
   "cell_type": "code",
   "execution_count": null,
   "id": "a174daea",
   "metadata": {},
   "outputs": [],
   "source": [
    "type(True)"
   ]
  },
  {
   "cell_type": "code",
   "execution_count": null,
   "id": "1ade14c3",
   "metadata": {},
   "outputs": [],
   "source": [
    "type(False)"
   ]
  },
  {
   "cell_type": "markdown",
   "id": "0148d108",
   "metadata": {},
   "source": [
    "### Data type Operations \n"
   ]
  },
  {
   "cell_type": "markdown",
   "id": "2be2ef55",
   "metadata": {},
   "source": [
    "#### Int and float Operations"
   ]
  },
  {
   "cell_type": "markdown",
   "id": "fe975d7d",
   "metadata": {},
   "source": [
    "We already know the following operators which may be applied to numbers: `+, -, * and **` . The division operator `/` for integers gives a floating-point real number (an object of type float). The exponentiation `**` also returns a float when the power is negative:"
   ]
  },
  {
   "cell_type": "code",
   "execution_count": null,
   "id": "0e0c12c9",
   "metadata": {},
   "outputs": [],
   "source": [
    "print(17 / 3)  # gives 5.66666666667\n",
    "print(2 ** 4)  # gives 16\n",
    "print(2 ** -2) # gives 0.25"
   ]
  },
  {
   "cell_type": "markdown",
   "id": "1476706b",
   "metadata": {},
   "source": []
  },
  {
   "cell_type": "markdown",
   "id": "3dcba13f",
   "metadata": {},
   "source": [
    "#### String Operations\n",
    "\n",
    "In general, you can’t perform mathematical operations on strings, even if the strings look like numbers, so the following are illegal: '2'-'1' 'eggs'/'easy' 'third'*'a charm' But there are two exceptions, + and *.The + operator performs string concatenation, which means it joins the strings bylinking them end-to-end. For example:\n"
   ]
  },
  {
   "cell_type": "code",
   "execution_count": null,
   "id": "2a2a2dec",
   "metadata": {},
   "outputs": [],
   "source": [
    "first = 'throat'\n",
    "second = 'warbler'\n",
    "first + second"
   ]
  },
  {
   "cell_type": "markdown",
   "id": "cb31b6e1",
   "metadata": {},
   "source": [
    "The `*` operator also works on strings; it performs repetition. For example, `'Spam'*3` is `'SpamSpamSpam'`. If one of the values is a string, the other has to be an integer.This use of `+` and `*` makes sense by analogy with addition and multiplication. Just as `4*3` is equivalent to `4+4+4`, we expect `'Spam'*3` to be the same as `'Spam'+'Spam'+'Spam'`, and it is. On the other hand, there is a significant way in which string concatenation and repetition are different from integer addition and multiplication."
   ]
  },
  {
   "cell_type": "code",
   "execution_count": null,
   "id": "720a4a20",
   "metadata": {},
   "outputs": [],
   "source": [
    "a = 'Spam'\n",
    "a*3"
   ]
  },
  {
   "cell_type": "markdown",
   "id": "a56d2406",
   "metadata": {},
   "source": [
    "Python string is a sequence of Unicode characters that is enclosed in the quotations marks. In this article, we will discuss the **in-built function** i.e. the functions provided by the Python to operate on strings. \n",
    "\n",
    "Note: Every string method does not change the original string instead returns a new string with the changed attributes. \n",
    "\n",
    "Case Changing of Strings\n",
    "The below functions are used to change the case of the strings.\n",
    "\n",
    "* `lower()`: Converts all uppercase characters in a string into lowercase\n",
    "* `upper()`: Converts all lowercase characters in a string into uppercase\n",
    "* `title()`: Convert string to title case\n",
    "\n",
    "Example: Changing the case of Python Strings."
   ]
  },
  {
   "cell_type": "code",
   "execution_count": null,
   "id": "2c02c41d",
   "metadata": {},
   "outputs": [],
   "source": [
    "# working of upper() function\n",
    "text = 'Sweden is a countRY'\n",
    "\n",
    "# upper() function to convert\n",
    "# string to upper case\n",
    "print(\"\\nConverted String:\")\n",
    "print(text.upper())\n",
    "\n",
    "# lower() function to convert\n",
    "# string to lower case\n",
    "print(\"\\nConverted String:\")\n",
    "print(text.lower())\n",
    "\n",
    "# converts the first character to\n",
    "# upper case and rest to lower case\n",
    "print(\"\\nConverted String:\")\n",
    "print(text.title())\n",
    "\n",
    "# original string never changes\n",
    "print(\"\\nOriginal String\")\n",
    "print(text)\n"
   ]
  },
  {
   "cell_type": "markdown",
   "id": "43f287c3",
   "metadata": {},
   "source": [
    "|Method\t|Description\n",
    "-----|-----\n",
    "|capitalize()\t|Converts the first character to upper case\n",
    "|casefold()\t|Converts string into lower case\n",
    "|center()\t|Returns a centered string\n",
    "|count()\t|Returns the number of times a specified value occurs in a string\n",
    "|encode()\t|Returns an encoded version of the string\n",
    "|endswith()\t|Returns true if the string ends with the specified value\n",
    "|expandtabs()\t|Sets the tab size of the string\n",
    "|find()\t|Searches the string for a specified value and returns the position of where it was found\n",
    "|format()\t|Formats specified values in a string\n",
    "|format_map()\t|Formats specified values in a string\n",
    "|index()\t|Searches the string for a specified value and returns the position of where it was found\n",
    "|isalnum()\t|Returns True if all characters in the string are alphanumeric\n",
    "|isalpha()\t|Returns True if all characters in the string are in the alphabet\n",
    "|isascii()\t|Returns True if all characters in the string are ascii characters\n",
    "|isdecimal()\t|Returns True if all characters in the string are decimals\n",
    "|isdigit()\t|Returns True if all characters in the string are digits\n",
    "|isidentifier()\t|Returns True if the string is an identifier\n",
    "|islower()\t|Returns True if all characters in the string are lower case\n",
    "|isnumeric()\t|Returns True if all characters in the string are numeric\n",
    "|isprintable()\t|Returns True if all characters in the string are printable\n",
    "|isspace()\t|Returns True if all characters in the string are whitespaces\n",
    "|istitle()\t|Returns True if the string follows the rules of a title\n",
    "|isupper()\t|Returns True if all characters in the string are upper case\n",
    "|join()\t|Converts the elements of an iterable into a string\n",
    "|ljust()\t|Returns a left justified version of the string\n",
    "|lower()\t|Converts a string into lower case\n",
    "|lstrip()\t|Returns a left trim version of the string\n",
    "|maketrans()\t|Returns a translation table to be used in translations\n",
    "|partition()\t|Returns a tuple where the string is parted into three parts\n",
    "|replace()\t|Returns a string where a specified value is replaced with a specified value\n",
    "|rfind()\t|Searches the string for a specified value and returns the last position of where it was found\n",
    "|rindex()\t|Searches the string for a specified value and returns the last position of where it was found\n",
    "|rjust()\t|Returns a right justified version of the string\n",
    "|rpartition()\t|Returns a tuple where the string is parted into three parts\n",
    "|rsplit()\t|Splits the string at the specified separator, and returns a list\n",
    "|rstrip()\t|Returns a right trim version of the string\n",
    "|split()\t|Splits the string at the specified separator, and returns a list\n",
    "|splitlines()\t|Splits the string at line breaks and returns a list\n",
    "|startswith()\t|Returns true if the string starts with the specified value\n",
    "|strip()\t|Returns a trimmed version of the string\n",
    "|swapcase()\t|Swaps cases, lower case becomes upper case and vice versa\n",
    "|title()\t|Converts the first character of each word to upper case\n",
    "|translate()\t|Returns a translated string\n",
    "|upper()\t|Converts a string into upper case\n",
    "|zfill()\t|Fills the string with a specified number of 0 values at the beginning"
   ]
  },
  {
   "cell_type": "markdown",
   "id": "e7761497",
   "metadata": {},
   "source": [
    "### Variables in Python"
   ]
  },
  {
   "cell_type": "markdown",
   "id": "8eaf1b17",
   "metadata": {},
   "source": [
    "* Variable Assignment\n",
    "* Variable Types in Python\n",
    "* Naming Variable\n",
    "* Object Identity\n",
    "* Delete Variables in Python\n",
    "* Updating Variables"
   ]
  },
  {
   "cell_type": "markdown",
   "id": "9ca0d7ad",
   "metadata": {},
   "source": [
    "#### Variable Assignment\n",
    "Think of a variable as a name attached to a particular object. In Python, variables need not be declared or defined in advance, as is the case in many other programming languages. To create a variable, you just assign it a value and then start using it. Assignment is done with a single equals sign `(=)`:"
   ]
  },
  {
   "cell_type": "code",
   "execution_count": null,
   "id": "cf3c3d5f",
   "metadata": {},
   "outputs": [],
   "source": [
    "n = 300"
   ]
  },
  {
   "cell_type": "markdown",
   "id": "c8841e94",
   "metadata": {},
   "source": [
    "This is read or interpreted as <b>“n is assigned the value 300.”</b> Once this is done, n can be used in a statement or expression, and its value will be substituted:"
   ]
  },
  {
   "cell_type": "code",
   "execution_count": null,
   "id": "477b55e0",
   "metadata": {},
   "outputs": [],
   "source": [
    "print(n)"
   ]
  },
  {
   "cell_type": "markdown",
   "id": "3e7b1228",
   "metadata": {},
   "source": [
    "Just as a literal value can be displayed directly from the interpreter prompt in a REPL session without the need for print(), so can a variable:"
   ]
  },
  {
   "cell_type": "code",
   "execution_count": null,
   "id": "176c25fd",
   "metadata": {},
   "outputs": [],
   "source": [
    "n"
   ]
  },
  {
   "cell_type": "markdown",
   "id": "07686b3a",
   "metadata": {},
   "source": [
    "Later, if you change the value of n and use it again, the new value will be substituted instead:"
   ]
  },
  {
   "cell_type": "code",
   "execution_count": null,
   "id": "aef69b61",
   "metadata": {},
   "outputs": [],
   "source": [
    "n = 1000\n",
    "print(n)"
   ]
  },
  {
   "cell_type": "markdown",
   "id": "3f34c220",
   "metadata": {},
   "source": [
    "Python also allows chained assignment, which makes it possible to assign the same value to several variables simultaneously:"
   ]
  },
  {
   "cell_type": "code",
   "execution_count": null,
   "id": "597f9abb",
   "metadata": {},
   "outputs": [],
   "source": [
    "a = b = c = 300\n",
    "print(a, b, c)"
   ]
  },
  {
   "cell_type": "markdown",
   "id": "e85004d9",
   "metadata": {},
   "source": [
    "#### Variable Types in Python"
   ]
  },
  {
   "cell_type": "markdown",
   "id": "ec9b6852",
   "metadata": {},
   "source": [
    "In many programming languages, variables are statically typed. That means a variable is initially declared to have a specific data type, and any value assigned to it during its lifetime must always have that type.\n",
    "\n",
    "Variables in Python are not subject to this restriction. In Python, a variable may be assigned a value of one type and then later re-assigned a value of a different type:"
   ]
  },
  {
   "cell_type": "code",
   "execution_count": null,
   "id": "22b914cf",
   "metadata": {},
   "outputs": [],
   "source": [
    "var = 23.5\n",
    "print(var)\n",
    "\n",
    "var = \"Now I'm a string\"\n",
    "print(var)"
   ]
  },
  {
   "cell_type": "markdown",
   "id": "b67102fa",
   "metadata": {},
   "source": [
    "Variables can represent any data type, not just integers and string:"
   ]
  },
  {
   "cell_type": "code",
   "execution_count": null,
   "id": "6481d3c0",
   "metadata": {},
   "outputs": [],
   "source": [
    "my_string = 'Hello, World!'\n",
    "my_flt = 45.06\n",
    "my_bool = 5 > 9 #A Boolean value will return either True or False\n",
    "my_list = ['item_1', 'item_2', 'item_3', 'item_4']\n",
    "my_tuple = ('one', 'two', 'three')\n",
    "my_dict = {'letter': 'g', 'number': 'seven', 'symbol': '&'}"
   ]
  },
  {
   "cell_type": "markdown",
   "id": "3b92c0c9",
   "metadata": {},
   "source": [
    "If you print any of the above variables, Python will return what that variable is equivalent to. For example, let’s work with the assignment statement for the `list data type` above:"
   ]
  },
  {
   "cell_type": "code",
   "execution_count": null,
   "id": "15059994",
   "metadata": {},
   "outputs": [],
   "source": [
    "my_list = ['item_1', 'item_2', 'item_3', 'item_4']\n",
    "print(my_list)"
   ]
  },
  {
   "cell_type": "markdown",
   "id": "c8723115",
   "metadata": {},
   "source": [
    "We passed the list value of `['item_1', 'item_2', 'item_3', 'item_4']` to the variable my_list, and then used the **print()** function to print out that value by calling `my_list`."
   ]
  },
  {
   "cell_type": "markdown",
   "id": "1bd3d129",
   "metadata": {},
   "source": [
    "Variables work by carving out a little area of memory within your computer which accepts specified values that are then associated with that space."
   ]
  },
  {
   "cell_type": "markdown",
   "id": "f9fbdc01",
   "metadata": {},
   "source": [
    "#### Object Identity\n",
    "In Python, every object that is created is given a number that uniquely identifies it. It is guaranteed that no two objects will have the same identifier during any period in which their lifetimes overlap. Once an object’s reference count drops to zero and it is garbage collected, as happened to the 300 object above, then its identifying number becomes available and may be used again.\n",
    "\n",
    "The built-in Python function `id()` returns an object’s integer identifier. Using the `id()` function, you can verify that two variables indeed point to the same object:"
   ]
  },
  {
   "cell_type": "code",
   "execution_count": null,
   "id": "513e40c2",
   "metadata": {},
   "outputs": [],
   "source": [
    "n = 300\n",
    "m = n\n",
    "id(n)"
   ]
  },
  {
   "cell_type": "code",
   "execution_count": null,
   "id": "666b2df5",
   "metadata": {},
   "outputs": [],
   "source": [
    "id(m)"
   ]
  },
  {
   "cell_type": "code",
   "execution_count": null,
   "id": "592a786f",
   "metadata": {},
   "outputs": [],
   "source": [
    "m = 400\n",
    "id(m)"
   ]
  },
  {
   "cell_type": "markdown",
   "id": "176a98a6",
   "metadata": {},
   "source": [
    "After the assignment `m = n`, `m` and `n` both point to the same `object`, confirmed by the fact that `id(m)` and `id(n)` return the same number. Once `m` is reassigned to `400`, `m` and `n` point to different objects with different identities."
   ]
  },
  {
   "cell_type": "markdown",
   "id": "9e469756",
   "metadata": {},
   "source": [
    "#### Naming Variables: Rules and Style\n",
    "The naming of variables is quite flexible, but there are some rules you need to keep in mind:\n",
    "\n",
    "* Variable names must only be one word (as in no spaces)\n",
    "* Variable names must be made up of only letters, numbers, and underscore (`_`)\n",
    "* Variable names cannot begin with a number\n",
    "\n",
    "Although it is legal to use uppercase letters, by convention we don’t. If you do, remember that case matters. day and Day would be different variables.\n",
    "\n",
    "The underscore character `( _)` can appear in a name. It is often used in names with multiple words, such as my_name or price_of_tea_in_china.\n",
    "\n",
    "There are some situations in which names beginning with an underscore have special meaning, so a safe rule for beginners is to start all names with a letter other than the underscore.\n",
    "\n",
    "If you give a variable an illegal name, you get a syntax error:"
   ]
  },
  {
   "cell_type": "code",
   "execution_count": null,
   "id": "eed4cf54",
   "metadata": {},
   "outputs": [],
   "source": [
    "76trombones = \"big parade\""
   ]
  },
  {
   "cell_type": "code",
   "execution_count": null,
   "id": "98d1cf62",
   "metadata": {},
   "outputs": [],
   "source": [
    "more$ = 1000000"
   ]
  },
  {
   "cell_type": "code",
   "execution_count": null,
   "id": "f2dedbf2",
   "metadata": {},
   "outputs": [],
   "source": [
    "class = \"Computer Science 101\""
   ]
  },
  {
   "cell_type": "markdown",
   "id": "84cb0270",
   "metadata": {},
   "source": [
    "`76trombones` is illegal because it does not begin with a letter.`more$` is illegal because it contains an illegal character, the dollar sign. But what’s wrong with `class`?\n",
    "\n",
    "It turns out that `class` is one of the `Python keywords`. Keywords define the language’s syntax rules and structure, and they cannot be used as variable names."
   ]
  },
  {
   "cell_type": "markdown",
   "id": "55757dba",
   "metadata": {},
   "source": [
    "\n",
    "\n",
    "PythonKeyword |  | . | .\n",
    "-----|-----|----- |-----\n",
    "False|None|True|'and'|\n",
    "'as'|'assert'|'continue'|'def'|\n",
    "'del'|'elif'|'else'|'except'|\n",
    "'from'|'global'|'if'|'import'|\n",
    "'in'|'is'|'lambda'|'nonlocal'|\n",
    "'not'|'or'|'pass'|'raise'|'with'|\n",
    "'return'|'try'|'while'|'yield'|\n",
    "'finally'|'assert'|'break'|'class'|\n",
    "'for'| | |\n",
    "\n"
   ]
  },
  {
   "cell_type": "markdown",
   "id": "d39313bf",
   "metadata": {},
   "source": [
    "#### Delete Variables in Python\n",
    "\n",
    "Using the `del` keyword\n",
    "Using the `'del'` command is the most known and easiest method to delete variables in Python. The `del` keyword deletes the `objects`. Since everything in Python is an `object`, therefore `lists, tuples and dictionaries` can also be deleted using `'del'`. It has a really simple syntax."
   ]
  },
  {
   "cell_type": "code",
   "execution_count": null,
   "id": "ca03b585",
   "metadata": {},
   "outputs": [],
   "source": [
    "# Example -> Deleting a variable in Python using 'del' keyword\n",
    "\n",
    "# declaring variable\n",
    "a = 25\n",
    "print(\"variable: \", a)\n",
    "# deleting the variable\n",
    "del a\n",
    "\n",
    "# calling out the variable again\n",
    "print(\"variable: \", a)"
   ]
  },
  {
   "cell_type": "markdown",
   "id": "3c3a1978",
   "metadata": {},
   "source": [
    "Notice the `NameError` error obtained on calling the variable `'a'` again, after deleting it. Hence, this proves that the variable `'a'` is deleted using the `del` keyword.\n",
    "\n",
    "While using the `del` keyword to delete variables in Python, you must be sure if you actually don't want to access the variable later on at any stage in your program. Unnecessary deletion of variables (objects) can lead to error. You won't be able to access these deleted variables, once deleted, from the program"
   ]
  },
  {
   "cell_type": "markdown",
   "id": "8703cdad",
   "metadata": {},
   "source": [
    "#### Deleting Multiple Variables in Python\n",
    "You can also delete multiple variables together in Python using the `del` keyword. It is similar to initializing multiple variables in one line, separated by a `comma`."
   ]
  },
  {
   "cell_type": "code",
   "execution_count": null,
   "id": "427ae1d5",
   "metadata": {},
   "outputs": [],
   "source": [
    "# Example -> Deleting multiple variables in Python\n",
    "\n",
    "# declaring multiple variables\n",
    "a, b, c = 5, 10, 15\n",
    "print(\"variables: a: \", a, \" b: \", b, \" c: \", c)\n",
    "# deleting multiple variables\n",
    "del a, b, c\n",
    "\n",
    "# calling out the variable again\n",
    "print(\"variables: a: \", a, \" b: \", b, \" c: \", c)"
   ]
  },
  {
   "cell_type": "markdown",
   "id": "38f95b89",
   "metadata": {},
   "source": [
    "#### Updating Variables"
   ]
  },
  {
   "cell_type": "markdown",
   "id": "c60ae694",
   "metadata": {},
   "source": [
    "One of the most common forms of reassignment is an update where the new value of the variable depends on the old. For example,\n",
    "\n",
    "``` x = x + 1 ```\n",
    "This means get the current value of `x`, add one, and then update `x` with the new value. The new value of `x` is the old value of `x` plus `1`. Although this assignment statement may look a bit strange, remember that executing assignment is a two-step process. First, evaluate the right-hand side expression. Second, let the variable name on the left-hand side refer to this new resulting object. The fact that `x` appears on both sides does not matter. The semantics of the assignment statement makes sure that there is no confusion as to the result. The visualizer makes this very clear."
   ]
  },
  {
   "cell_type": "code",
   "execution_count": null,
   "id": "e89c50f2",
   "metadata": {},
   "outputs": [],
   "source": [
    "x = 6        # initialize x\n",
    "print(x)\n",
    "x = x + 1    # update x\n",
    "print(x)"
   ]
  },
  {
   "cell_type": "markdown",
   "id": "1d60163f",
   "metadata": {},
   "source": [
    "If you try to update a `variable` that doesn’t exist, you get an error because Python evaluates the expression on the right side of the assignment operator before it assigns the resulting value to the name on the left. Before you can update a variable, you have to initialize it, usually with a simple assignment. In the above example, `x` was initialized to `6`"
   ]
  },
  {
   "cell_type": "markdown",
   "id": "22ec2131",
   "metadata": {},
   "source": [
    "### Converting data types."
   ]
  },
  {
   "cell_type": "markdown",
   "id": "e2f15302",
   "metadata": {},
   "source": [
    "#### Converting Number Types\n",
    "\n",
    "In Python, there are two number data types: integers and floating-point numbers or floats. Sometimes you are working on someone else’s code and will need to convert an integer to a float or vice versa, or you may find that you have been using an integer when what you really need is a float. Python has built-in methods to allow you to easily convert integers to floats and floats to integers."
   ]
  },
  {
   "cell_type": "markdown",
   "id": "fc26c924",
   "metadata": {},
   "source": [
    "#### Converting Integers to Floats\n",
    "Python’s method `float()` will convert integers to floats. To use this function, add an integer inside of the parentheses:"
   ]
  },
  {
   "cell_type": "code",
   "execution_count": null,
   "id": "e7c36b49",
   "metadata": {},
   "outputs": [],
   "source": [
    "float(57)"
   ]
  },
  {
   "cell_type": "markdown",
   "id": "d1ba8dc2",
   "metadata": {},
   "source": [
    "In this case, `57` will be converted to `57.0`.\n",
    "\n",
    "You can also use this with a variable. Let’s declare `f` as equal to `57`, and then print out the new float:"
   ]
  },
  {
   "cell_type": "code",
   "execution_count": null,
   "id": "7bbb68a8",
   "metadata": {},
   "outputs": [],
   "source": [
    "f = 57\n",
    "print(float(f))"
   ]
  },
  {
   "cell_type": "markdown",
   "id": "911ba5a3",
   "metadata": {},
   "source": [
    "By using the `float()` function, we can convert `integers` to `floats`."
   ]
  },
  {
   "cell_type": "markdown",
   "id": "c6f0a42e",
   "metadata": {},
   "source": [
    "#### Converting Floats to Integers\n",
    "\n",
    "Python also has a built-in function to convert floats to integers: `int()`.\n",
    "\n",
    "The `int()` function works similarly to the `float()` function: you can add a floating-point number inside of the parentheses to convert it to an integer:"
   ]
  },
  {
   "cell_type": "code",
   "execution_count": null,
   "id": "cf2e4f87",
   "metadata": {},
   "outputs": [],
   "source": [
    "int(390.8)"
   ]
  },
  {
   "cell_type": "markdown",
   "id": "45044128",
   "metadata": {},
   "source": [
    "In this case, `390.8` will be converted to `390`.\n",
    "\n",
    "You can also use this with variables. Let’s declare `b` as equal to `125.0`, and c as equal to `390.8`, then print out the new floats:"
   ]
  },
  {
   "cell_type": "code",
   "execution_count": null,
   "id": "90fad4ee",
   "metadata": {},
   "outputs": [],
   "source": [
    "b = 125.0\n",
    "c = 390.8\n",
    "\n",
    "print(int(b))\n",
    "print(int(c))"
   ]
  },
  {
   "cell_type": "markdown",
   "id": "bcc6d3d0",
   "metadata": {},
   "source": [
    "When converting floats to integers with the `int()` function, Python cuts off the decimal and remaining numbers of a float to create an integer. Even though we may want to round `390.8` up to `391`, Python will not do this through the `int()` function."
   ]
  },
  {
   "cell_type": "markdown",
   "id": "ff5cdc4f",
   "metadata": {},
   "source": [
    "#### Numbers Converted Through Division\n",
    "\n",
    "In Python 3, relevant quotients are converted from integers to floats when doing division That is, when you divide `5` by `2`, in Python 3 you will get a float for an answer `(2.5)`:"
   ]
  },
  {
   "cell_type": "code",
   "execution_count": null,
   "id": "94d6781c",
   "metadata": {},
   "outputs": [],
   "source": [
    "a = 5 / 2\n",
    "print(a)"
   ]
  },
  {
   "cell_type": "markdown",
   "id": "b94b5fc2",
   "metadata": {},
   "source": [
    "#### Converting with Strings\n",
    "A `string` is a sequence of one or more characters (letters, numbers, symbols). Strings are a common form of data in computer programs, and we may need to convert strings to numbers or numbers to strings fairly often, especially when we are taking in user-generated data."
   ]
  },
  {
   "cell_type": "markdown",
   "id": "0fec72d2",
   "metadata": {},
   "source": [
    "We can convert numbers to strings through using the `str()` method. We’ll pass either a number or a variable into the parentheses of the method and then that numeric value will be converted into a string value.\n",
    "\n",
    "Let’s first look at converting integers. To convert the `integer 12` to a string value, you can pass `12` into the `str()` method:"
   ]
  },
  {
   "cell_type": "code",
   "execution_count": null,
   "id": "462f5ad8",
   "metadata": {},
   "outputs": [],
   "source": [
    "str(12)"
   ]
  },
  {
   "cell_type": "markdown",
   "id": "1d2ee9f7",
   "metadata": {},
   "source": [
    "The quotes around the number `12` signify that the number is no longer an `integer` but is now a `string` value.\n",
    "\n",
    "With variables we can begin to see how practical it can be to convert integers to strings. "
   ]
  },
  {
   "cell_type": "code",
   "execution_count": null,
   "id": "a24c5a5a",
   "metadata": {},
   "outputs": [],
   "source": [
    "user = \"Sammy\"\n",
    "lines = 50\n",
    "\n",
    "print(\"Congratulations, \" + user + \"! You just wrote \" + lines + \" lines of code.\")"
   ]
  },
  {
   "cell_type": "markdown",
   "id": "e9deae3b",
   "metadata": {},
   "source": [
    "When we run this code, we receive the following error:\n",
    "\n",
    "\n",
    "`TypeError: can only concatenate str (not \"int\") to str`"
   ]
  },
  {
   "cell_type": "markdown",
   "id": "d1820ecd",
   "metadata": {},
   "source": [
    "We’re not able to concatenate `strings` and `integers` in Python, so we’ll have to convert the variable lines to be a string value:"
   ]
  },
  {
   "cell_type": "code",
   "execution_count": null,
   "id": "37f926c9",
   "metadata": {},
   "outputs": [],
   "source": [
    "user = \"Sammy\"\n",
    "lines = 50\n",
    "\n",
    "print(\"Congratulations, \" + user + \"! You just wrote \" + str(lines) + \" lines of code.\")"
   ]
  },
  {
   "cell_type": "markdown",
   "id": "559e4c70",
   "metadata": {},
   "source": [
    "If we are looking to convert a `float` to a `string` rather than an `integer` to a `string`, we follow the same steps and format. When we pass a `float` into the `str()` method, a string value of the float will be returned. We can use either the float value itself or a variable:"
   ]
  },
  {
   "cell_type": "code",
   "execution_count": null,
   "id": "0828767c",
   "metadata": {},
   "outputs": [],
   "source": [
    "print(str(421.034))\n",
    "\n",
    "f = 5524.53\n",
    "print(str(f))"
   ]
  },
  {
   "cell_type": "markdown",
   "id": "35b314fa",
   "metadata": {},
   "source": [
    "#### Converting Strings to Numbers\n",
    "Strings can be converted to numbers by using the `int()` and `float()` methods.\n",
    "\n",
    "If your string does not have decimal places, you’ll most likely want to convert it to an integer by using the `int()` method.\n",
    "\n",
    "Let’s use the example of the user Sammy keeping track of lines of code written each day. We may want to manipulate those values with math to provide more interesting feedback for the user, but those values are currently stored in strings:"
   ]
  },
  {
   "cell_type": "code",
   "execution_count": null,
   "id": "80472795",
   "metadata": {},
   "outputs": [],
   "source": [
    "lines_yesterday = \"50\"\n",
    "lines_today = \"108\"\n",
    "\n",
    "lines_more = lines_today - lines_yesterday\n",
    "\n",
    "print(lines_more)"
   ]
  },
  {
   "cell_type": "markdown",
   "id": "71a404e2",
   "metadata": {},
   "source": [
    "`TypeError: unsupported operand type(s) for -: 'str' and 'str'`\n",
    "\n",
    "Because the two numeric values were stored in strings, we received an error. The operand `-` for subtraction is not a valid operand for two string values.\n",
    "\n",
    "Let’s modify the code to include the `int()` method that will convert the `strings to integers`, and allow us to do math with values these that were originally strings."
   ]
  },
  {
   "cell_type": "code",
   "execution_count": null,
   "id": "d48d2a3c",
   "metadata": {},
   "outputs": [],
   "source": [
    "lines_yesterday = \"50\"\n",
    "lines_today = \"108\"\n",
    "\n",
    "lines_more = int(lines_today) - int(lines_yesterday)\n",
    "\n",
    "print(lines_more)"
   ]
  },
  {
   "cell_type": "markdown",
   "id": "615ae18c",
   "metadata": {},
   "source": [
    "The variable `lines_more` is automatically an `integer`, and it is equal to the numeric value of `58` in this example.\n",
    "\n",
    "We can also convert the numbers in the example above to float values by using the `float()` method in place of the `int()` method. Instead of receiving the output of `58`, we’ll receive the output of `58.0`, a float.\n",
    "\n",
    "The user Sammy is earning points in decimal values"
   ]
  },
  {
   "cell_type": "code",
   "execution_count": null,
   "id": "641f42ed",
   "metadata": {},
   "outputs": [],
   "source": [
    "total_points = \"5524.53\"\n",
    "new_points = \"45.30\"\n",
    "\n",
    "new_total_points = total_points + new_points\n",
    "\n",
    "print(new_total_points)"
   ]
  },
  {
   "cell_type": "markdown",
   "id": "4e9313ad",
   "metadata": {},
   "source": [
    "In this case, using the `+` operand with two strings is a valid operation, but it is concatenating two strings rather than adding two numeric values together. So, our output looks unusual since it just places the two values next to each other.\n",
    "\n",
    "We’ll want to convert these `strings to floats` prior to performing any math with the `float()` met"
   ]
  },
  {
   "cell_type": "code",
   "execution_count": null,
   "id": "bc0c3be8",
   "metadata": {},
   "outputs": [],
   "source": [
    "total_points = \"5524.53\"\n",
    "new_points = \"45.30\"\n",
    "\n",
    "new_total_points = float(total_points) + float(new_points)\n",
    "\n",
    "print(new_total_points)"
   ]
  },
  {
   "cell_type": "markdown",
   "id": "6d37ea95",
   "metadata": {},
   "source": [
    "Now that we have converted the two `strings to floats`, we receive the anticipated result that adds `45.30 to 5524.53`.\n",
    "\n",
    "If we try to convert a string value with decimal places to an integer, we’ll receive an error:"
   ]
  },
  {
   "cell_type": "code",
   "execution_count": null,
   "id": "82b36660",
   "metadata": {},
   "outputs": [],
   "source": [
    "f = \"54.23\"\n",
    "print(int(f))"
   ]
  },
  {
   "cell_type": "markdown",
   "id": "55537eb5",
   "metadata": {},
   "source": [
    "`Output\n",
    "ValueError: invalid literal for int() with base 10: '54.23'`\n",
    "\n",
    "If we pass a decimal value in a string to the `int()` method we’ll receive an error because it will not convert to an integer.\n",
    "\n",
    "Converting strings to numbers enables us to quickly modify the data type we are working with so that we can perform operations on numeric values that were originally cast as strings."
   ]
  },
  {
   "cell_type": "markdown",
   "id": "95fe4a7a",
   "metadata": {},
   "source": [
    "#### Converting to Tuples and Lists\n",
    "You can use the methods `list()` and `tuple()` to convert the values passed to them into the list and tuple data type respectively. In Python:\n",
    "\n",
    "a list is a mutable ordered sequence of elements that is contained within square brackets `[ ]`.\n",
    "a tuple is an immutable ordered sequence of elements contained within parentheses `( )`.\n",
    "\n",
    "#### Converting to Tuples\n",
    "Let’s start with converting a list to a tuple. Converting a list to a tuple, because it’s an immutable data type, can allow substantial optimization to the programs that we create. When we use the method `tuple()` it will return the tuple version of the value passed to it."
   ]
  },
  {
   "cell_type": "code",
   "execution_count": null,
   "id": "b4111957",
   "metadata": {},
   "outputs": [],
   "source": [
    "print(tuple(['pull request', 'open source', 'repository', 'branch']))"
   ]
  },
  {
   "cell_type": "markdown",
   "id": "3c8f7a2c",
   "metadata": {},
   "source": [
    "We see that a `tuple` is printed out in the output, as the items are now contained within parentheses rather than square brackets.\n",
    "\n",
    "Let’s use `tuple()` with a variable that represents a `list`:"
   ]
  },
  {
   "cell_type": "code",
   "execution_count": null,
   "id": "1d378381",
   "metadata": {},
   "outputs": [],
   "source": [
    "sea_creatures = ['shark', 'cuttlefish', 'squid', 'mantis shrimp']\n",
    "print(tuple(sea_creatures))"
   ]
  },
  {
   "cell_type": "markdown",
   "id": "0ce36283",
   "metadata": {},
   "source": [
    "Again, we see that the list value is changed to a tuple value, indicated by the parentheses. We can convert any iterable type to a tuple, including strings:"
   ]
  },
  {
   "cell_type": "code",
   "execution_count": null,
   "id": "312bef49",
   "metadata": {},
   "outputs": [],
   "source": [
    "print(tuple('Sammy'))"
   ]
  },
  {
   "cell_type": "markdown",
   "id": "6c787d36",
   "metadata": {},
   "source": [
    "Because we can iterate through `strings`, we can convert them to tuples with the `tuple()` method. With data types that are not iterable, however, like `integers and floats`, we will receive a type error:"
   ]
  },
  {
   "cell_type": "code",
   "execution_count": null,
   "id": "26cd970a",
   "metadata": {},
   "outputs": [],
   "source": [
    "print(tuple(5000))"
   ]
  },
  {
   "cell_type": "markdown",
   "id": "fa3b6af1",
   "metadata": {},
   "source": [
    "While it is possible to convert the integer to a string and then convert to a tuple, as in `tuple(str(5000))`, it is best to opt for readable code over complicated conversions."
   ]
  },
  {
   "cell_type": "markdown",
   "id": "5bb3c59a",
   "metadata": {},
   "source": [
    "#### Converting to Lists\n",
    "Converting values, especially tuples, to lists can be useful when you need to have a mutable version of that value.\n",
    "\n",
    "We’ll use the `list()` method to convert the following `tuple to a list`. Because the syntax for creating a list uses parentheses, be sure to include the parentheses of the `list()` method, and in this case the `print()` method as well:"
   ]
  },
  {
   "cell_type": "code",
   "execution_count": null,
   "id": "e21b07bc",
   "metadata": {},
   "outputs": [],
   "source": [
    "print(list(('blue coral', 'staghorn coral', 'pillar coral')))"
   ]
  },
  {
   "cell_type": "markdown",
   "id": "918cab58",
   "metadata": {},
   "source": [
    "The square brackets signal that a list has been returned from the original tuple value that was passed through the `list()` method.\n",
    "\n",
    "To make the code more readable, we can remove one of the pairs of parentheses by using a variable:"
   ]
  },
  {
   "cell_type": "code",
   "execution_count": null,
   "id": "258c26a9",
   "metadata": {},
   "outputs": [],
   "source": [
    "coral = ('blue coral', 'staghorn coral', 'pillar coral')\n",
    "list(coral)"
   ]
  },
  {
   "cell_type": "code",
   "execution_count": null,
   "id": "ae93fd00",
   "metadata": {},
   "outputs": [],
   "source": [
    "print(list('shark'))"
   ]
  },
  {
   "cell_type": "markdown",
   "id": "fa980817",
   "metadata": {},
   "source": [
    "Here the string 'shark' was converted to a list, providing a mutable version of the original value."
   ]
  },
  {
   "cell_type": "markdown",
   "id": "0478787b",
   "metadata": {},
   "source": [
    "### Expressions and Statements\n",
    "\n",
    "A **statement** is an instruction that the Python interpreter can execute. We have only seen the `assignment statement` so far. Some other kinds of statements that we’ll see shortly are `while statements`, `for statements`, `if statements`, and `import statements`. (There are other kinds too!)\n",
    "\n",
    "An **expression** is a combination of values, variables, operators, and calls to functions. Expressions need to be evaluated. If you ask Python to print an expression, the interpreter evaluates the expression and displays the result."
   ]
  },
  {
   "cell_type": "markdown",
   "id": "40d1b8af",
   "metadata": {},
   "source": [
    "When you type a **statement** , Python executes it and displays the result, if there is one. The result of a print statement is a value. **Assignment statements** don't produce a result.\n",
    "\n",
    "A script usually contains a sequence of statements. If there is more than one statement, the results appear one at a time as the statements execute.\n",
    "\n",
    "For example, the script"
   ]
  },
  {
   "cell_type": "code",
   "execution_count": null,
   "id": "3f062e78",
   "metadata": {},
   "outputs": [],
   "source": [
    "print (1)\n",
    "x = 2\n",
    "print (x)"
   ]
  },
  {
   "cell_type": "markdown",
   "id": "ffa1f0d8",
   "metadata": {},
   "source": [
    "statement is a unit of code that has an effect, like creating a variable or displaying a value.\n",
    "\n",
    "`x = 2`\n",
    "\n",
    "`print(x)`"
   ]
  },
  {
   "cell_type": "markdown",
   "id": "77851009",
   "metadata": {},
   "source": [
    "### Arithmetic Operations"
   ]
  },
  {
   "cell_type": "markdown",
   "id": "f0c1d956",
   "metadata": {},
   "source": [
    "| Operator\t| Description\t| Example\n",
    "-----|-----|----- \n",
    "|+\t|used to add two numbers\t|sum = a + b\n",
    "|–\t|used for subtraction\t|difference = a – b\n",
    "|*\t|used to multiply two numbers. If a string and int is multiplied then the string is repeated the int times.\tmul = |a*b>>> “Hi”*5 >>>‘HiHiHiHiHi’\t\t\n",
    "|/\t|used to divide two numbers\t|div = b/a\n",
    "|%\t|modulus operator, returns the remainder of division\t|mod = a%b\n",
    "|**\t|exponent operator | 2** 2 >> 4"
   ]
  },
  {
   "cell_type": "code",
   "execution_count": null,
   "id": "12588cdc",
   "metadata": {},
   "outputs": [],
   "source": [
    "#create two variables\n",
    "a=100\n",
    "b=200\n",
    "\n",
    "# addition (+) operator\n",
    "print(a+b) \n",
    "\n",
    "# subtraction (-) operator\n",
    "print(a-b) \n",
    "\n",
    "# multiplication (*) operator\n",
    "print(a*b)\n",
    "\n",
    "# division (/) operator\n",
    "print(b/a)\n",
    "\n",
    "# modulus (%) operator\n",
    "print(a%b) # prints the remainder of a/b\n",
    "\n",
    "# exponent (**) operator\n",
    "print(a**b) #prints a^b"
   ]
  },
  {
   "cell_type": "markdown",
   "id": "9ac9cab7",
   "metadata": {},
   "source": [
    "#### Python Operator Precedence\n",
    "When an expression contains more than one operator, the order of evaluation depends on the order of operations. For mathematical operators, Python follows mathematical convention. The acronym **PEMDAS** is a useful way to remember the rules:\n",
    "\n",
    "1. Parenthesis – `()`\n",
    "2. Exponentiation – `**`\n",
    "3. Compliment, unary plus and minus `– ~, +, -`\n",
    "4. Multiply, Divide, modulo – `*, /, %`\n",
    "5. Addition and Subtraction – `+, -`\n",
    "\n"
   ]
  },
  {
   "cell_type": "markdown",
   "id": "d8b9e473",
   "metadata": {},
   "source": [
    "* **Parentheses** have the highest precedence and can be used to force an expression\n",
    "to evaluate in the order you want. Since expressions in parentheses are evaluated first, `2 * (3-1) is 4, and (1+1)** (5-2) is 8`. You can also use parentheses to make an expression easier to read, as in `(minute * 100) / 60`, even if it doesn’tchange the result.\n",
    "\n"
   ]
  },
  {
   "cell_type": "code",
   "execution_count": null,
   "id": "48906fd3",
   "metadata": {},
   "outputs": [],
   "source": [
    "2 * (3-1) "
   ]
  },
  {
   "cell_type": "code",
   "execution_count": null,
   "id": "df4f11d9",
   "metadata": {},
   "outputs": [],
   "source": [
    "(1+1)** (5-2)"
   ]
  },
  {
   "cell_type": "markdown",
   "id": "f9367d3a",
   "metadata": {},
   "source": [
    "* **Exponentiation** has the next highest precedence, so `1 + 2** 3 is 9`, not `27, and 2 * 3** 2 is 18, not 36`."
   ]
  },
  {
   "cell_type": "code",
   "execution_count": null,
   "id": "12dc1e0e",
   "metadata": {},
   "outputs": [],
   "source": [
    "1 + 2** 3"
   ]
  },
  {
   "cell_type": "code",
   "execution_count": null,
   "id": "a8975741",
   "metadata": {},
   "outputs": [],
   "source": [
    "2 * 3** 2"
   ]
  },
  {
   "cell_type": "markdown",
   "id": "77347bd0",
   "metadata": {},
   "source": [
    "* **Multiplication and Division** have higher precedence than Addition and Subtraction. So `2 * 3-1 is 5, not 4`, and `6+4/2` is `8`, not `5`."
   ]
  },
  {
   "cell_type": "code",
   "execution_count": null,
   "id": "ce3a6b0e",
   "metadata": {},
   "outputs": [],
   "source": [
    "2 * 3-1"
   ]
  },
  {
   "cell_type": "code",
   "execution_count": null,
   "id": "d554b938",
   "metadata": {},
   "outputs": [],
   "source": [
    "6+4/2"
   ]
  },
  {
   "cell_type": "markdown",
   "id": "6436cc31",
   "metadata": {},
   "source": [
    "* Operators with the same precedence are evaluated from left to right (except exponentiation). So in the expression degrees / 2 * pi, the division happens first and the result is multiplied by pi. To divide by 2π, you can use parentheses or write degrees / 2 / pi."
   ]
  },
  {
   "cell_type": "markdown",
   "id": "350b3b76",
   "metadata": {},
   "source": [
    "Now, what do you think the series of operation would be? We can add 2 and 3, then multiply the result by 4. Also, we can multiply 3 and 4 first, then add 2 with it. Above we can see that the operators’ precedence is important.\n"
   ]
  },
  {
   "cell_type": "code",
   "execution_count": null,
   "id": "d5cb3a90",
   "metadata": {},
   "outputs": [],
   "source": [
    "2+3*4"
   ]
  },
  {
   "cell_type": "markdown",
   "id": "7c7b3baa",
   "metadata": {},
   "source": [
    "### Commenting code\n",
    "\n",
    "How to Comment out Code in Python\n",
    "\n",
    "The syntax for comments differs in each programming language. In this section, we'll see how to add comments using Python.\n",
    "\n",
    "Comments in Python start with the `#` symbol. Here's an example:"
   ]
  },
  {
   "cell_type": "code",
   "execution_count": null,
   "id": "e7b06a17",
   "metadata": {},
   "outputs": [],
   "source": [
    "#The code below prints Hello World! to the console\n",
    "print(\"Hello World!\")"
   ]
  },
  {
   "cell_type": "markdown",
   "id": "dd05fb4c",
   "metadata": {},
   "source": [
    "In the code above, I have used a comment to explain what the code does. When the code is being executed, the interpreter will ignore the comment and run the `print()` function."
   ]
  },
  {
   "cell_type": "markdown",
   "id": "9e2b1d1c",
   "metadata": {},
   "source": [
    "We can also comment out actual code. That is:"
   ]
  },
  {
   "cell_type": "code",
   "execution_count": null,
   "id": "06818df6",
   "metadata": {},
   "outputs": [],
   "source": [
    "# print(\"Hello World!\")\n",
    "print(\"Happy coding!\")"
   ]
  },
  {
   "cell_type": "markdown",
   "id": "3a3c3281",
   "metadata": {},
   "source": [
    "When we run the code, only the second line will be interpreted.\n",
    "\n",
    "You don't always have to place comments above the line of code they're referencing. You can also put them on the same line. That is:"
   ]
  },
  {
   "cell_type": "code",
   "execution_count": null,
   "id": "2588dd99",
   "metadata": {},
   "outputs": [],
   "source": [
    "print(\"Hello world\") # Prints Hello World"
   ]
  },
  {
   "cell_type": "markdown",
   "id": "44ece7ca",
   "metadata": {},
   "source": [
    "#### How to Write Multi-Line Comments in Python"
   ]
  },
  {
   "cell_type": "markdown",
   "id": "0aa79311",
   "metadata": {},
   "source": [
    "In this section, we'll see how to write comments that span across multiple lines.\n",
    "\n",
    "Python has no built-in syntax for creating multi-line comments. Fortunately, there are two ways we can work around that. Here's the first:"
   ]
  },
  {
   "cell_type": "code",
   "execution_count": null,
   "id": "1e1efeb5",
   "metadata": {},
   "outputs": [],
   "source": [
    "# When this code runs,\n",
    "# you will see Hello World! \n",
    "# in the console. \n",
    "print(\"Hello world\")"
   ]
  },
  {
   "cell_type": "markdown",
   "id": "12fa152d",
   "metadata": {},
   "source": [
    "Above, we placed the `#` symbol on each line to continue writing our comment.\n",
    "\n",
    "In this next example, we are going to use multi-line strings (starts and ends with three quotation marks) to nest our comment.\n",
    "\n",
    "When you use multi-line strings in Python without assigning the string to a variable, that part of the code will be ignored.\n",
    "\n",
    "Here's an example:"
   ]
  },
  {
   "cell_type": "code",
   "execution_count": null,
   "id": "b44cfda0",
   "metadata": {},
   "outputs": [],
   "source": [
    "\"\"\"\n",
    "When this code runs,\n",
    "you will see Hello World! \n",
    "in the console.\n",
    "\"\"\"\n",
    "print(\"Hello World!\")"
   ]
  },
  {
   "cell_type": "markdown",
   "id": "af347e7b",
   "metadata": {},
   "source": [
    "### Debugging\n"
   ]
  },
  {
   "cell_type": "markdown",
   "id": "fc05a60f",
   "metadata": {},
   "source": [
    "\n",
    "Three kinds of errors can occur in a program: `syntax errors`, `runtime errors`, and\n",
    "`semantic errors`. It is useful to distinguish between them in order to track them down\n",
    "more quickly.\n",
    "\n",
    "* **Syntax error**: `“Syntax”` refers to the structure of a program and the rules about that structure.\n",
    "For example, the code below has a syntax error:\n",
    "\n",
    "`print(\"Hello\"`\n",
    "\n",
    "To fix it, you should first run the code and read the error message the code produces:\n",
    "\n",
    "  `print(\"Hello\"\n",
    "         ^\n",
    "SyntaxError: '(' was never closed`\n",
    "\n",
    "The message gives will give you clues about the bug. In our example, it indicates that the first parenthesis was never closed. Using your knowledge and experience, you should go back to your code and add the parenthesis to fix the bug. In our case, the correct code with the bug fixed would be this:\n",
    "\n",
    "`print(\"Hello\")`\n",
    "\n",
    "\n",
    "* **Runtime error**: The second type of error is a `runtime error`, so called because the error does not\n",
    "appear until after the program has started running. These errors are also called\n",
    "exceptions because they usually indicate that something exceptional (and bad)\n",
    "has happened. Runtime errors are rare in the simple programs you will see in the first few chap‐\n",
    "ters, so it might be a while before you encounter one.\n",
    "\n",
    "* **Semantic error**: The third type of error is `“semantic”`, which means related to meaning. If there is\n",
    "a semantic error in your program, it will run without generating error messages,\n",
    "but it will not do the right thing. It will do something else. Specifically, it will do\n",
    "what you told it to do. Identifying semantic errors can be tricky because it requires you to work back‐\n",
    "ward by looking at the output of the program and trying to figure out what it is\n",
    "doing\n",
    "\n",
    "Run the above code, and you will see that it returns the expected output, which is Hello. That means the bug has been fixed. Let's do some bug-fixing exercises below."
   ]
  },
  {
   "cell_type": "markdown",
   "id": "d1c12fbe",
   "metadata": {},
   "source": [
    "#### Bug-Fixing Exercise 1"
   ]
  },
  {
   "cell_type": "code",
   "execution_count": null,
   "id": "55517dad",
   "metadata": {},
   "outputs": [],
   "source": [
    "#The following code has a syntax error. Try to fix it.\n",
    "\n",
    "answers = ['Yes', 'No', 'Yes', 'No', 'No'\n",
    "\n",
    "#The steps to complete a bug-fixing exercise: \n",
    "\n",
    "#1. Look carefully at the code and try to spot the bug.\n",
    "\n",
    "#2. If you cannot spot the bug visually, try to run the code and read the syntax error. The error can give some clues on what the problem is.\n",
    "\n",
    "#3. Once you know the problem, fix it, and then compare your code to the code provided by the instructor located inside the given solution links.\n"
   ]
  },
  {
   "cell_type": "markdown",
   "id": "db3b5343",
   "metadata": {},
   "source": [
    "#### Bug-Fixing Exercise 2"
   ]
  },
  {
   "cell_type": "code",
   "execution_count": null,
   "id": "2c037192",
   "metadata": {},
   "outputs": [],
   "source": [
    "#The following code has a syntax error. Try to fix it.\n",
    "\n",
    "my_answer = input(\"What is your answer?\")\n",
    "answers = ['Yes', 'No', 'Yes' 'No' my_answer]"
   ]
  },
  {
   "cell_type": "markdown",
   "id": "4fbc57e4",
   "metadata": {},
   "source": [
    "#### Bug-Fixing Exercise 3"
   ]
  },
  {
   "cell_type": "code",
   "execution_count": null,
   "id": "d747d31e",
   "metadata": {},
   "outputs": [],
   "source": [
    "#The following code has a syntax error. Try to fix it.\n",
    "\n",
    "my_answer = input(What is your answer?)\n",
    "answers = ['Yes', 'No', 'Yes', 'No', my_answer]"
   ]
  },
  {
   "cell_type": "markdown",
   "id": "6eb1915c",
   "metadata": {},
   "source": [
    "#### Bug-Fixing Exercise 4"
   ]
  },
  {
   "cell_type": "code",
   "execution_count": null,
   "id": "99535e87",
   "metadata": {},
   "outputs": [],
   "source": [
    "#The following code has a syntax error. Try to fix it.\n",
    "\n",
    "my_answer = input[\"What is your answer?\"]\n",
    "answers = ['Yes', 'No', 'Yes', 'No', my_answer]"
   ]
  },
  {
   "cell_type": "markdown",
   "id": "d1131467",
   "metadata": {},
   "source": [
    "### Exercises 1"
   ]
  },
  {
   "cell_type": "markdown",
   "id": "301a85d2",
   "metadata": {},
   "source": [
    "* We’ve seen that `n = 42` is legal. What about `42 = n?`\n",
    "* How about `x = y = 1?`\n",
    "* In some languages every statement ends with a semicolon, ;. What happens if you put a semicolon at the end of a Python statement\n",
    "* What if you put a period at the end of a statement?\n",
    "* In math notation you can multiply x and y like this: xy. What happens if you try that in Python?"
   ]
  },
  {
   "cell_type": "markdown",
   "id": "7fbb6f34",
   "metadata": {},
   "source": [
    "### Exercise 2\n"
   ]
  },
  {
   "cell_type": "markdown",
   "id": "b110e939",
   "metadata": {},
   "source": [
    "#### Practice using the Python interpreter as a calculator:\n"
   ]
  },
  {
   "cell_type": "markdown",
   "id": "d47835a4",
   "metadata": {},
   "source": [
    "1. The volume of a sphere with radius r is $\\frac {4}{3}πr^3 \\\\$ . \n",
    "What is the volume of a sphere with radius 5. $.$\n",
    "\n",
    "2. Suppose the cover price of a book is $$24.95 , but bookstores get a 40% discount. Shipping costs $3 for the first copy and 75 cents for each additional copy. What is the total wholesale cost for 60 copies?\n",
    "\n",
    "3. If I leave my house at 6:52 am and run 1 mile at an easy pace (8:15 per mile), then\n",
    "3 miles at tempo (7:12 per mile) and 1 mile at an easy pace again, what time do I\n",
    "get home for breakfast?\n"
   ]
  },
  {
   "cell_type": "code",
   "execution_count": null,
   "id": "19be96e4",
   "metadata": {},
   "outputs": [],
   "source": []
  }
 ],
 "metadata": {
  "kernelspec": {
   "display_name": "Python 3 (ipykernel)",
   "language": "python",
   "name": "python3"
  },
  "language_info": {
   "codemirror_mode": {
    "name": "ipython",
    "version": 3
   },
   "file_extension": ".py",
   "mimetype": "text/x-python",
   "name": "python",
   "nbconvert_exporter": "python",
   "pygments_lexer": "ipython3",
   "version": "3.9.12"
  }
 },
 "nbformat": 4,
 "nbformat_minor": 5
}
