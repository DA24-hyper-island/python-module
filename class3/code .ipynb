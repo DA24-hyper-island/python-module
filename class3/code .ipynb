{
 "cells": [
  {
   "cell_type": "markdown",
   "id": "83e1b1aa",
   "metadata": {},
   "source": [
    "<a href='https://ibb.co/W34pJdv'> <img src=\"https://i.ibb.co/z5THvLV/HI-Logotype-Black-high-res.jpg\" /></a>"
   ]
  },
  {
   "cell_type": "markdown",
   "id": "34ac6adb",
   "metadata": {},
   "source": [
    "## Data Structures as Collections and their Operations.\n",
    "\n",
    "We have understood the fundamentals, let us layer the fundamentals on each other to derive secondary complex patterns.\n",
    "\n",
    "1. Lists - list operations.\n",
    "2. Tuples - tuple operations.\n",
    "3. Sets - set operations.\n",
    "4. Dictionaries - dictionary operations.\n",
    "5. Collection operations - converting data structures.\n",
    "6. Further characteristics.\n",
    "7. Debugging.\n",
    "8. Why!!"
   ]
  },
  {
   "cell_type": "markdown",
   "id": "7c1e2c10",
   "metadata": {},
   "source": [
    "### Lists"
   ]
  },
  {
   "cell_type": "markdown",
   "id": "004db3cb",
   "metadata": {},
   "source": [
    "**A List Is a Sequence**\n",
    "\n",
    "Like a string, a list is a sequence of values. Lists are ordered, like strings. Elements are stored linearly at a **specific index**. In a string, the values are characters; in a\n",
    "list, they can be any type. The values in a list are called elements or sometimes items.\n",
    "There are several ways to create a new list; the simplest is to enclose the elements in\n",
    "square brackets (`[ and ]`):\n",
    "\n",
    "`[10, 20, 30, 40]`\n",
    "\n",
    "`['crunchy frog', 'ram bladder', 'lark vomit']`\n",
    "\n",
    "The first example is a list of four integers. The second is a list of three strings. The\n",
    "elements of a list don’t have to be the same type. The following list contains a string, a\n",
    "float, an integer, and (lo!) another list:\n",
    "`['spam', 2.0, 5, [10, 20]]`\n",
    "\n",
    "A list within another list is nested.\n",
    "\n",
    "A list that contains no elements is called an empty list; you can create one with ***empty\n",
    "brackets**, `[]`.\n",
    "\n",
    "As you might expect, you can assign list values to variables:\n",
    "\n",
    "\n"
   ]
  },
  {
   "cell_type": "code",
   "execution_count": 1,
   "id": "df9132b9",
   "metadata": {},
   "outputs": [
    {
     "name": "stdout",
     "output_type": "stream",
     "text": [
      "['Cheddar', 'Edam', 'Gouda'] [42, 123] []\n"
     ]
    }
   ],
   "source": [
    "cheeses = ['Cheddar', 'Edam', 'Gouda']\n",
    "numbers = [42, 123]\n",
    "empty = []\n",
    "print(cheeses, numbers, empty)"
   ]
  },
  {
   "cell_type": "markdown",
   "id": "ec5f18f2",
   "metadata": {},
   "source": [
    "### String Lists\n",
    "\n",
    "To get started, let’s deepdive into string "
   ]
  },
  {
   "cell_type": "markdown",
   "id": "084f1da0",
   "metadata": {},
   "source": [
    "#### A String Is a Sequence\n",
    "\n",
    "A string is a sequence of characters. You can access the characters one at a time with the bracket operator:\n"
   ]
  },
  {
   "cell_type": "code",
   "execution_count": 5,
   "id": "e73259ee",
   "metadata": {},
   "outputs": [],
   "source": [
    "fruit = 'banana'\n",
    "letter = fruit[0]\n"
   ]
  },
  {
   "cell_type": "code",
   "execution_count": 3,
   "id": "b61e6140",
   "metadata": {},
   "outputs": [
    {
     "name": "stdout",
     "output_type": "stream",
     "text": [
      "banana\n"
     ]
    }
   ],
   "source": [
    "print(fruit)"
   ]
  },
  {
   "cell_type": "code",
   "execution_count": 6,
   "id": "3d341ea7",
   "metadata": {},
   "outputs": [
    {
     "data": {
      "text/plain": [
       "'b'"
      ]
     },
     "execution_count": 6,
     "metadata": {},
     "output_type": "execute_result"
    }
   ],
   "source": [
    "letter"
   ]
  },
  {
   "cell_type": "markdown",
   "id": "e57527af",
   "metadata": {},
   "source": [
    "The second statement selects character number `1` from `fruit` and assigns it to `letter`.\n",
    "\n",
    "The expression in brackets is called an `index`. The `index` indicates which character in the `sequence` you want **(hence the name)**.\n",
    "\n",
    "But you might not get what you expect:"
   ]
  },
  {
   "cell_type": "code",
   "execution_count": null,
   "id": "6d61f174",
   "metadata": {},
   "outputs": [],
   "source": [
    "print(letter)"
   ]
  },
  {
   "cell_type": "markdown",
   "id": "27aa417a",
   "metadata": {},
   "source": [
    "For most people, `the first letter of` **'banana'** is *b*, not *a*. But for computer scientists,\n",
    "the index is an offset from the beginning of the string, and the offset of the first letter\n",
    "is **zero**."
   ]
  },
  {
   "cell_type": "code",
   "execution_count": 7,
   "id": "2c1f0455",
   "metadata": {},
   "outputs": [
    {
     "data": {
      "text/plain": [
       "'b'"
      ]
     },
     "execution_count": 7,
     "metadata": {},
     "output_type": "execute_result"
    }
   ],
   "source": [
    "letter = fruit[0]\n",
    "letter"
   ]
  },
  {
   "cell_type": "markdown",
   "id": "3b256dd8",
   "metadata": {},
   "source": [
    "So `b` is the `0th` letter **(“zero-eth”)** of **'banana'**, `a` is the `1th` letter **(“one-eth”)**, and `n` is\n",
    "the `2th` letter **(“two-eth”)**.\n",
    "As an index, you can use an expression that contains variables and operators:\n"
   ]
  },
  {
   "cell_type": "code",
   "execution_count": 9,
   "id": "2c3d0d8c",
   "metadata": {},
   "outputs": [
    {
     "data": {
      "text/plain": [
       "'b'"
      ]
     },
     "execution_count": 9,
     "metadata": {},
     "output_type": "execute_result"
    }
   ],
   "source": [
    "i = 0\n",
    "fruit[i]"
   ]
  },
  {
   "cell_type": "code",
   "execution_count": 12,
   "id": "404cee56",
   "metadata": {},
   "outputs": [
    {
     "name": "stdout",
     "output_type": "stream",
     "text": [
      "banana\n"
     ]
    }
   ],
   "source": [
    "print(fruit)"
   ]
  },
  {
   "cell_type": "code",
   "execution_count": 11,
   "id": "59474fb1",
   "metadata": {},
   "outputs": [
    {
     "data": {
      "text/plain": [
       "'a'"
      ]
     },
     "execution_count": 11,
     "metadata": {},
     "output_type": "execute_result"
    }
   ],
   "source": [
    "fruit[i+3] "
   ]
  },
  {
   "cell_type": "code",
   "execution_count": 13,
   "id": "869783a5",
   "metadata": {},
   "outputs": [
    {
     "ename": "TypeError",
     "evalue": "string indices must be integers",
     "output_type": "error",
     "traceback": [
      "\u001b[1;31m---------------------------------------------------------------------------\u001b[0m",
      "\u001b[1;31mTypeError\u001b[0m                                 Traceback (most recent call last)",
      "Input \u001b[1;32mIn [13]\u001b[0m, in \u001b[0;36m<cell line: 1>\u001b[1;34m()\u001b[0m\n\u001b[1;32m----> 1\u001b[0m letter \u001b[38;5;241m=\u001b[39m \u001b[43mfruit\u001b[49m\u001b[43m[\u001b[49m\u001b[38;5;241;43m1.5\u001b[39;49m\u001b[43m]\u001b[49m\n\u001b[0;32m      2\u001b[0m \u001b[38;5;28mprint\u001b[39m(letter)\n",
      "\u001b[1;31mTypeError\u001b[0m: string indices must be integers"
     ]
    }
   ],
   "source": [
    "letter = fruit[1.5]\n",
    "print(letter)"
   ]
  },
  {
   "cell_type": "markdown",
   "id": "5c6f1c0f",
   "metadata": {},
   "source": [
    "The value of the index has to be an integer. Otherwise you get:\n",
    "`TypeError: string indices must be integer`"
   ]
  },
  {
   "cell_type": "markdown",
   "id": "cd87a67d",
   "metadata": {},
   "source": [
    "**len**\n",
    "\n",
    "len is a built-in function that returns the number of characters in a string:"
   ]
  },
  {
   "cell_type": "code",
   "execution_count": 14,
   "id": "7d7e491a",
   "metadata": {},
   "outputs": [
    {
     "data": {
      "text/plain": [
       "6"
      ]
     },
     "execution_count": 14,
     "metadata": {},
     "output_type": "execute_result"
    }
   ],
   "source": [
    "fruit = 'banana'\n",
    "len(fruit)"
   ]
  },
  {
   "cell_type": "markdown",
   "id": "bf1c3438",
   "metadata": {},
   "source": [
    "To get the last letter of a string, you might be tempted to try something like this:"
   ]
  },
  {
   "cell_type": "code",
   "execution_count": 18,
   "id": "e3c73a68",
   "metadata": {},
   "outputs": [],
   "source": [
    "length = len(fruit) \n",
    "last = fruit[length]"
   ]
  },
  {
   "cell_type": "markdown",
   "id": "0257c7b3",
   "metadata": {},
   "source": [
    "`IndexError: string index out of range`\n",
    "    \n",
    "The reason for the `IndexError` is that there is no **letter in 'banana'** with the index `6`.\n",
    "Since we started counting at `zero`, the `six letters` are numbered `0 to 5`. To get the last\n",
    "character, you have to **subtract 1 from length**:"
   ]
  },
  {
   "cell_type": "code",
   "execution_count": null,
   "id": "70e48f73",
   "metadata": {},
   "outputs": [],
   "source": [
    "last = fruit[length-1]\n",
    "last"
   ]
  },
  {
   "cell_type": "markdown",
   "id": "5c0da75c",
   "metadata": {},
   "source": [
    "Or you can use negative indices, which count backward from the end of the string.\n",
    "The expression `fruit[-1]` yields the last letter, `fruit[-2]` yields the second to last,\n",
    "and so on"
   ]
  },
  {
   "cell_type": "markdown",
   "id": "6bd63f2d",
   "metadata": {},
   "source": [
    "**String Slices**\n",
    "\n",
    "A segment of a string is called a `slice`. Selecting a `slice` is similar to selecting a character"
   ]
  },
  {
   "cell_type": "code",
   "execution_count": 21,
   "id": "63cb17a3",
   "metadata": {},
   "outputs": [
    {
     "data": {
      "text/plain": [
       "'MontyP'"
      ]
     },
     "execution_count": 21,
     "metadata": {},
     "output_type": "execute_result"
    }
   ],
   "source": [
    "s = 'MontyPython'\n",
    "M=0\n",
    "o=1\n",
    "n=2\n",
    "t=3\n",
    "y=4\n",
    "P=5\n",
    "y=6\n",
    "t=7\n",
    "h=8\n",
    "o=9\n",
    "n=10"
   ]
  },
  {
   "cell_type": "code",
   "execution_count": 24,
   "id": "d9ad75bc",
   "metadata": {},
   "outputs": [
    {
     "data": {
      "text/plain": [
       "'Pytho'"
      ]
     },
     "execution_count": 24,
     "metadata": {},
     "output_type": "execute_result"
    }
   ],
   "source": [
    "s[5:11]"
   ]
  },
  {
   "cell_type": "markdown",
   "id": "97594f0a",
   "metadata": {},
   "source": [
    "The operator `[n:m]` returns the part of the string from the **“n-eth”** character to the\n",
    "**“m-eth”** character, including the first but excluding the last. This behavior is counter‐\n",
    "intuitive, but it might help to imagine the indices pointing between the characters, as\n",
    "in Table.\n",
    "\n",
    "|‘B’\t|‘a’\t|‘n’\t|‘a’\t|‘n’ |‘a’\n",
    "-----|-----|----- |----- |-----  |-----\n",
    "|0\t|1\t|2\t|3\t|4 | 5\n",
    "\n",
    "If you omit the first index **(before the colon)**, the slice starts at the beginning of the\n",
    "string. If you omit the **second index**, the slice goes to the end of the string:"
   ]
  },
  {
   "cell_type": "code",
   "execution_count": 28,
   "id": "f174ccb8",
   "metadata": {},
   "outputs": [
    {
     "data": {
      "text/plain": [
       "'ban'"
      ]
     },
     "execution_count": 28,
     "metadata": {},
     "output_type": "execute_result"
    }
   ],
   "source": [
    "fruit = 'banana'\n",
    "fruit[:3]"
   ]
  },
  {
   "cell_type": "code",
   "execution_count": 31,
   "id": "933bb553",
   "metadata": {},
   "outputs": [
    {
     "data": {
      "text/plain": [
       "''"
      ]
     },
     "execution_count": 31,
     "metadata": {},
     "output_type": "execute_result"
    }
   ],
   "source": [
    "fruit[4:3]"
   ]
  },
  {
   "cell_type": "markdown",
   "id": "6c642025",
   "metadata": {},
   "source": [
    "If the first index is **greater than or equal to the second** the result is an empty string,\n",
    "represented by two quotation marks:"
   ]
  },
  {
   "cell_type": "code",
   "execution_count": 34,
   "id": "91ad74cf",
   "metadata": {},
   "outputs": [
    {
     "data": {
      "text/plain": [
       "'an'"
      ]
     },
     "execution_count": 34,
     "metadata": {},
     "output_type": "execute_result"
    }
   ],
   "source": [
    "fruit = 'banana'\n",
    "fruit[3:5]"
   ]
  },
  {
   "cell_type": "markdown",
   "id": "cbecf96f",
   "metadata": {},
   "source": [
    "An **empty string** contains no characters and has **length 0**, but other than that, it is the same as any other string.\n",
    "Continuing this example, what do you think `fruit[:]` means? Try it and see."
   ]
  },
  {
   "cell_type": "markdown",
   "id": "e2b52ec1",
   "metadata": {},
   "source": [
    "**Strings Are Immutable**\n",
    "\n",
    "It is tempting to use the `[]` operator on the left side of an assignment, with the intention of changing a character in a string. For example:\n"
   ]
  },
  {
   "cell_type": "code",
   "execution_count": 36,
   "id": "fc1e9843",
   "metadata": {},
   "outputs": [
    {
     "ename": "TypeError",
     "evalue": "'str' object does not support item assignment",
     "output_type": "error",
     "traceback": [
      "\u001b[1;31m---------------------------------------------------------------------------\u001b[0m",
      "\u001b[1;31mTypeError\u001b[0m                                 Traceback (most recent call last)",
      "Input \u001b[1;32mIn [36]\u001b[0m, in \u001b[0;36m<cell line: 2>\u001b[1;34m()\u001b[0m\n\u001b[0;32m      1\u001b[0m greeting \u001b[38;5;241m=\u001b[39m \u001b[38;5;124m'\u001b[39m\u001b[38;5;124mHello, world!\u001b[39m\u001b[38;5;124m'\u001b[39m\n\u001b[1;32m----> 2\u001b[0m greeting[\u001b[38;5;241m0\u001b[39m] \u001b[38;5;241m=\u001b[39m \u001b[38;5;124m'\u001b[39m\u001b[38;5;124mJ\u001b[39m\u001b[38;5;124m'\u001b[39m\n",
      "\u001b[1;31mTypeError\u001b[0m: 'str' object does not support item assignment"
     ]
    }
   ],
   "source": [
    "greeting = 'Hello, world!'\n",
    "greeting[0] = 'J'"
   ]
  },
  {
   "cell_type": "markdown",
   "id": "733dec4a",
   "metadata": {},
   "source": [
    "`TypeError: 'str' object does not support item assignment`\n",
    "    \n",
    "The reason for the error is that strings are **immutable**, which means you **can’t change\n",
    "an existing string**. The best you can do is create a new string that is a variation on the\n",
    "original:\n"
   ]
  },
  {
   "cell_type": "code",
   "execution_count": 38,
   "id": "b79c1488",
   "metadata": {},
   "outputs": [
    {
     "data": {
      "text/plain": [
       "'Jello, world!'"
      ]
     },
     "execution_count": 38,
     "metadata": {},
     "output_type": "execute_result"
    }
   ],
   "source": [
    "greeting = 'Hello, world!'\n",
    "new_greeting = 'J' + greeting[1:]\n",
    "new_greeting"
   ]
  },
  {
   "cell_type": "code",
   "execution_count": null,
   "id": "65ed27eb",
   "metadata": {},
   "outputs": [],
   "source": [
    "H=0\n",
    "e=1\n",
    "l=2\n",
    "l=3\n",
    "o=4\n",
    ",=5"
   ]
  },
  {
   "cell_type": "code",
   "execution_count": 40,
   "id": "814085e6",
   "metadata": {},
   "outputs": [
    {
     "data": {
      "text/plain": [
       "'Hello'"
      ]
     },
     "execution_count": 40,
     "metadata": {},
     "output_type": "execute_result"
    }
   ],
   "source": [
    "greeting[0:5]"
   ]
  },
  {
   "cell_type": "markdown",
   "id": "e6cdf202",
   "metadata": {},
   "source": [
    "This example concatenates a new **first letter** onto a **slice of greeting**. It has no effect\n",
    "on the original string"
   ]
  },
  {
   "cell_type": "markdown",
   "id": "a1b2a028",
   "metadata": {},
   "source": [
    "#### Creating a list that contains items of the string data type"
   ]
  },
  {
   "cell_type": "code",
   "execution_count": 41,
   "id": "ee3f5839",
   "metadata": {},
   "outputs": [
    {
     "name": "stdout",
     "output_type": "stream",
     "text": [
      "['shark', 'cuttlefish', 'squid', 'mantis shrimp', 'anemone']\n"
     ]
    }
   ],
   "source": [
    "sea_creatures = ['shark', 'cuttlefish', 'squid', 'mantis shrimp', 'anemone']\n",
    "print(sea_creatures)"
   ]
  },
  {
   "cell_type": "code",
   "execution_count": 42,
   "id": "5f03cfde",
   "metadata": {},
   "outputs": [
    {
     "data": {
      "text/plain": [
       "list"
      ]
     },
     "execution_count": 42,
     "metadata": {},
     "output_type": "execute_result"
    }
   ],
   "source": [
    "type(sea_creatures)"
   ]
  },
  {
   "cell_type": "markdown",
   "id": "d82b6d8c",
   "metadata": {},
   "source": [
    "As an ordered sequence of elements, each item in a list can be called individually, through indexing. Lists are a compound data type made up of smaller parts, and are very flexible because they can have values added, removed, and changed. When you need to store a lot of values or iterate over values, and you want to be able to readily modify those values, you’ll likely want to work with list data types."
   ]
  },
  {
   "cell_type": "markdown",
   "id": "55843a0b",
   "metadata": {},
   "source": [
    "**Indexing Lists**\n",
    "\n",
    "Each item in a list corresponds to an index number, which is an integer value, starting with the index number 0.\n",
    "\n",
    "For the list sea_creatures, the index breakdown looks like this:\n",
    "\n",
    "|‘shark’\t|‘cuttlefish’\t|‘squid’\t|‘mantis shrimp’\t|‘anemone’\n",
    "-----|-----|----- |----- |-----\n",
    "|0\t|1\t|2\t|3\t|4\n",
    "\n",
    "\n",
    "The first item, the string **'shark'** starts at index `0`, and the list ends at index `4` with the item **'anemone'**.\n",
    "\n",
    "Because each item in a Python list has a corresponding index number, we’re able to access and manipulate lists in the same ways we can with other sequential data types.\n",
    "\n",
    "Now we can call a discrete item of the list by referring to its index number:"
   ]
  },
  {
   "cell_type": "code",
   "execution_count": 45,
   "id": "fbef1925",
   "metadata": {},
   "outputs": [
    {
     "name": "stdout",
     "output_type": "stream",
     "text": [
      "squid\n"
     ]
    }
   ],
   "source": [
    "print(sea_creatures[2])"
   ]
  },
  {
   "cell_type": "markdown",
   "id": "8f0035fa",
   "metadata": {},
   "source": [
    "The index numbers for this list range from `0-4`, as shown in the table above. So to call any of the items individually, we would refer to the index numbers like this:\n",
    "\n",
    "* `sea_creatures[0] = 'shark'`\n",
    "* `sea_creatures[1] = 'cuttlefish'`\n",
    "* `sea_creatures[2] = 'squid'`\n",
    "* `sea_creatures[3] = 'mantis shrimp'`\n",
    "* `sea_creatures[4] = 'anemone'`\n",
    "\n",
    "If we call the list sea_creatures with an index number of any that is **greater than 4**, it will be out of range as it will not be valid:"
   ]
  },
  {
   "cell_type": "code",
   "execution_count": 62,
   "id": "10f1812e",
   "metadata": {},
   "outputs": [
    {
     "name": "stdout",
     "output_type": "stream",
     "text": [
      "['octopus', 'cuttlefish', 'squid', 'mantis shrimp', 'anemone']\n"
     ]
    }
   ],
   "source": [
    "print(sea_creatures)"
   ]
  },
  {
   "cell_type": "code",
   "execution_count": 63,
   "id": "2a1de0c0",
   "metadata": {},
   "outputs": [
    {
     "name": "stdout",
     "output_type": "stream",
     "text": [
      "['octopus', 'whale', 'squid', 'mantis shrimp', 'anemone']\n"
     ]
    }
   ],
   "source": [
    "sea_creatures[1] = 'whale'\n",
    "print(sea_creatures)"
   ]
  },
  {
   "cell_type": "code",
   "execution_count": 55,
   "id": "9c214549",
   "metadata": {},
   "outputs": [
    {
     "name": "stdout",
     "output_type": "stream",
     "text": [
      "['shark', 'cuttlefish', 'squid', 'mantis shrimp']\n"
     ]
    }
   ],
   "source": [
    "print(sea_creatures[-5:-1]) "
   ]
  },
  {
   "cell_type": "markdown",
   "id": "42bcc5c7",
   "metadata": {},
   "source": [
    "In addition to positive index numbers, we can also access items from the list with a negative index number, by counting backwards from the end of the list, starting at -1. This is especially useful if we have a long list and we want to pinpoint an item towards the end of a list.\n",
    "\n",
    "For the same list sea_creatures, the negative index breakdown looks like this:\n",
    "\n",
    "|‘shark’\t|‘cuttlefish’\t|‘squid’\t|‘mantis shrimp’\t|‘anemone’\n",
    "-----|-----|----- |----- |-----\n",
    "|-5\t|-4\t|-3\t|-2\t|-1\n",
    "\n",
    "So, if we would like to print out the item `'squid'` by using its negative index number, we can do so like this:"
   ]
  },
  {
   "cell_type": "code",
   "execution_count": 56,
   "id": "d2cefa61",
   "metadata": {},
   "outputs": [
    {
     "name": "stdout",
     "output_type": "stream",
     "text": [
      "shark\n"
     ]
    }
   ],
   "source": [
    "print(sea_creatures[0])"
   ]
  },
  {
   "cell_type": "markdown",
   "id": "49227d34",
   "metadata": {},
   "source": [
    "We can concatenate string items in a list with other strings using the `+` operator:"
   ]
  },
  {
   "cell_type": "code",
   "execution_count": 57,
   "id": "1ad45115",
   "metadata": {},
   "outputs": [
    {
     "name": "stdout",
     "output_type": "stream",
     "text": [
      "fish is a shark\n"
     ]
    }
   ],
   "source": [
    "print('fish is a ' + sea_creatures[0])"
   ]
  },
  {
   "cell_type": "markdown",
   "id": "67c18435",
   "metadata": {},
   "source": [
    "We were able to concatenate the string item at index number 0 with the string `'Sammy is a '`. We can also use the `+` operator to **concatenate 2 or more lists together**.\n",
    "\n",
    "With index numbers that correspond to items within a list, we’re able to access each item of a list discretely and work with those items."
   ]
  },
  {
   "cell_type": "markdown",
   "id": "bfaee73b",
   "metadata": {},
   "source": [
    "#### Lists Are Mutable\n",
    "\n",
    "The syntax for accessing the elements of a list is the same as for accessing the characters of a string the **bracket operator** `[]`. The expression inside the brackets specifies the\n",
    "index. Remember that the **indices start at 0**:\n"
   ]
  },
  {
   "cell_type": "code",
   "execution_count": 60,
   "id": "bd645643",
   "metadata": {},
   "outputs": [
    {
     "data": {
      "text/plain": [
       "'octopus'"
      ]
     },
     "execution_count": 60,
     "metadata": {},
     "output_type": "execute_result"
    }
   ],
   "source": [
    "sea_creatures[0]"
   ]
  },
  {
   "cell_type": "markdown",
   "id": "3f4474e8",
   "metadata": {},
   "source": [
    "Unlike strings, **lists are mutable**. When the bracket operator appears on the left side of\n",
    "an assignment, it identifies the element of the list that will be assigned:"
   ]
  },
  {
   "cell_type": "markdown",
   "id": "63ebd046",
   "metadata": {},
   "source": [
    "**Modifying Items in Lists**\n",
    "\n",
    "We can use indexing to change items within the list, by setting an index number equal to a different value. This gives us greater control over lists as we are able to modify and update the items that they contain.\n",
    "\n",
    "If we want to change the string value of the item at index `1` from `'cuttlefish'` to `'octopus'`, we can do so like this:"
   ]
  },
  {
   "cell_type": "code",
   "execution_count": 59,
   "id": "4d3515da",
   "metadata": {},
   "outputs": [],
   "source": [
    "sea_creatures[0] = 'octopus'"
   ]
  },
  {
   "cell_type": "code",
   "execution_count": null,
   "id": "92667d97",
   "metadata": {},
   "outputs": [],
   "source": [
    " = 'Whale'"
   ]
  },
  {
   "cell_type": "markdown",
   "id": "5cbfd101",
   "metadata": {},
   "source": [
    "Now when we print `sea_creatures`, the list will be different:"
   ]
  },
  {
   "cell_type": "code",
   "execution_count": 61,
   "id": "2661a676",
   "metadata": {},
   "outputs": [
    {
     "name": "stdout",
     "output_type": "stream",
     "text": [
      "['octopus', 'cuttlefish', 'squid', 'mantis shrimp', 'anemone']\n"
     ]
    }
   ],
   "source": [
    "print(sea_creatures)"
   ]
  },
  {
   "cell_type": "markdown",
   "id": "fbf6ff93",
   "metadata": {},
   "source": [
    "We can also change the value of an item by using a **negative index** number instead:"
   ]
  },
  {
   "cell_type": "code",
   "execution_count": null,
   "id": "940135f8",
   "metadata": {},
   "outputs": [],
   "source": [
    "sea_creatures[-3] = 'blobfish'\n",
    "print(sea_creatures)"
   ]
  },
  {
   "cell_type": "markdown",
   "id": "fc365c78",
   "metadata": {},
   "source": [
    "Now `'blobfish'` has replaced `'squid'` at the negative index number of `-3` **(which corresponds to the positive index number of 2)**.\n",
    "\n",
    "Being able to modify items in lists gives us the ability to change and update lists in an efficient way."
   ]
  },
  {
   "cell_type": "markdown",
   "id": "5991b68d",
   "metadata": {},
   "source": [
    "**Slicing Lists**\n",
    "\n",
    "We can also call out a few items from the list similar to String slicing. Let’s say we would like to only print the `middle items` of sea_creatures, we can do so by **creating a slice**. With slices, we can call multiple values by creating a range of index numbers separated by a colon `[x:y]`:"
   ]
  },
  {
   "cell_type": "code",
   "execution_count": 70,
   "id": "cdf9faa3",
   "metadata": {},
   "outputs": [
    {
     "name": "stdout",
     "output_type": "stream",
     "text": [
      "['whale', 'squid', 'mantis shrimp']\n"
     ]
    }
   ],
   "source": [
    "print(sea_creatures[1:4])"
   ]
  },
  {
   "cell_type": "markdown",
   "id": "697d63a3",
   "metadata": {},
   "source": [
    "When creating a slice, as in `[1:4]`, the **first index number** is where the slice starts **(inclusive)**, and the **second index number** is where the slice ends **(exclusive)**, which is why in our example above the items at position, 1, 2, and 3 are the items that print out.\n",
    "\n",
    "If we want to include either end of the list, we can omit one of the numbers in the `list[x:y]` syntax. For example, if we want to **print the first 3 items of the list sea_creatures**— which would be `'shark', 'octopus', 'blobfish'` — we can do so by typing:"
   ]
  },
  {
   "cell_type": "code",
   "execution_count": 73,
   "id": "94ef539d",
   "metadata": {},
   "outputs": [
    {
     "name": "stdout",
     "output_type": "stream",
     "text": [
      "['octopus', 'whale', 'squid']\n"
     ]
    }
   ],
   "source": [
    "print(sea_creatures[:3])"
   ]
  },
  {
   "cell_type": "markdown",
   "id": "4ffb7f75",
   "metadata": {},
   "source": [
    "This printed the beginning of the list, stopping right before index `3`.\n",
    "\n",
    "To include all the items at the end of a list, we would reverse the syntax:"
   ]
  },
  {
   "cell_type": "code",
   "execution_count": 74,
   "id": "90835b14",
   "metadata": {},
   "outputs": [
    {
     "name": "stdout",
     "output_type": "stream",
     "text": [
      "['octopus', 'whale', 'squid', 'mantis shrimp', 'anemone']\n"
     ]
    }
   ],
   "source": [
    "print(sea_creatures)"
   ]
  },
  {
   "cell_type": "code",
   "execution_count": 75,
   "id": "0ff2b3ee",
   "metadata": {},
   "outputs": [
    {
     "name": "stdout",
     "output_type": "stream",
     "text": [
      "['squid', 'mantis shrimp', 'anemone']\n"
     ]
    }
   ],
   "source": [
    "print(sea_creatures[2:])"
   ]
  },
  {
   "cell_type": "markdown",
   "id": "2da866cb",
   "metadata": {},
   "source": [
    "We can also use negative index numbers when slicing lists, similar to positive index numbers:"
   ]
  },
  {
   "cell_type": "code",
   "execution_count": null,
   "id": "1b221cc7",
   "metadata": {},
   "outputs": [],
   "source": [
    "print(sea_creatures[-4:-2])\n",
    "print(sea_creatures[-3:])"
   ]
  },
  {
   "cell_type": "markdown",
   "id": "f30fefb6",
   "metadata": {},
   "source": [
    "One last parameter that we can use with slicing is called **stride**, which refers to how many items to move forward after the first item is retrieved from the list. So far, we have omitted the stride parameter, and **Python defaults to the stride of 1**, so that every item between two index numbers is retrieved.\n",
    "\n",
    "The syntax for this construction is `list[x:y:z]`, with `z` referring to stride. Let’s make a larger list, then slice it, and give the stride a value of `2`:"
   ]
  },
  {
   "cell_type": "code",
   "execution_count": null,
   "id": "2d29a667",
   "metadata": {},
   "outputs": [],
   "source": [
    "numbers = [0, 1, 2, 3, 4, 5, 6, 7, 8, 9, 10, 11, 12]\n",
    "\n",
    "print(numbers[1:11:2])"
   ]
  },
  {
   "cell_type": "markdown",
   "id": "38ce7e48",
   "metadata": {},
   "source": [
    "Our construction `numbers[1:11:2]` prints the values between index numbers inclusive of **1 and exclusive of 11**, then the stride value of `2` tells the program to print out only every other item.\n",
    "\n",
    "We can omit the first two parameters and use stride alone as a parameter with the syntax `list[::z]`:"
   ]
  },
  {
   "cell_type": "code",
   "execution_count": null,
   "id": "20368bc8",
   "metadata": {},
   "outputs": [],
   "source": [
    "print(numbers[::3])"
   ]
  },
  {
   "cell_type": "markdown",
   "id": "8b950be9",
   "metadata": {},
   "source": [
    "By printing out the list numbers with the stride set to 3, only every third item is printed:\n",
    "\n",
    "**0**, 1, 2, **3**, 4, 5, **6**, 7, 8, **9**, 10, 11, **12**\n",
    "\n",
    "Slicing lists with both positive and negative index numbers and indicating stride provides us with the control to manipulate lists and receive the output we’re trying to achieve."
   ]
  },
  {
   "cell_type": "markdown",
   "id": "72682c38",
   "metadata": {},
   "source": [
    "#### List Operators\n",
    "Operators can be used to make modifications to lists. We’ll review using the + and * operators and their compound forms `+=` and `*=`.\n",
    "\n",
    "The `+` operator can be used to concatenate two or more lists together:"
   ]
  },
  {
   "cell_type": "code",
   "execution_count": null,
   "id": "653fbcef",
   "metadata": {},
   "outputs": [],
   "source": [
    "sea_creatures = ['shark', 'octopus', 'blobfish', 'mantis shrimp', 'anemone']\n",
    "oceans = ['Pacific', 'Atlantic', 'Indian', 'Southern', 'Arctic']\n",
    "\n",
    "print(sea_creatures + oceans)"
   ]
  },
  {
   "cell_type": "markdown",
   "id": "b8dac425",
   "metadata": {},
   "source": [
    "Because the `+` operator can concatenate, it can be used to add an item (or several) in list form to the end of another list. Remember to place the item in square brackets:"
   ]
  },
  {
   "cell_type": "markdown",
   "id": "0324b3c3",
   "metadata": {},
   "source": [
    "The `*` operator can be used to multiply lists. Perhaps you need to make copies of all the files in a directory onto a server, or share a playlist with friends — in these cases you would need to multiply collections of data.\n",
    "\n",
    "Let’s multiply the `sea_creatures list` by `2` and the `oceans list by 3`:"
   ]
  },
  {
   "cell_type": "code",
   "execution_count": null,
   "id": "1fa359d0",
   "metadata": {},
   "outputs": [],
   "source": [
    "print(sea_creatures * 2)\n",
    "print(oceans * 3)"
   ]
  },
  {
   "cell_type": "markdown",
   "id": "48ffdcf3",
   "metadata": {},
   "source": [
    "By using the `*` operator we can replicate our lists by the number of times we specify."
   ]
  },
  {
   "cell_type": "markdown",
   "id": "50f265c0",
   "metadata": {},
   "source": [
    "#### List Methods\n"
   ]
  },
  {
   "cell_type": "markdown",
   "id": "e247f0d6",
   "metadata": {},
   "source": [
    "Python provides methods that operate on lists. For example, **append** adds a new element to the end of a list:\n"
   ]
  },
  {
   "cell_type": "code",
   "execution_count": null,
   "id": "3cc08ffc",
   "metadata": {},
   "outputs": [],
   "source": [
    "t = ['a', 'b', 'c']\n",
    "t.append('d')\n",
    "t"
   ]
  },
  {
   "cell_type": "markdown",
   "id": "3beaf314",
   "metadata": {},
   "source": [
    "**extend** takes a list as an argument and appends all of the elements:"
   ]
  },
  {
   "cell_type": "code",
   "execution_count": null,
   "id": "a83929cd",
   "metadata": {},
   "outputs": [],
   "source": [
    "t1 = ['a', 'b', 'c']\n",
    "t2 = ['d', 'e']\n",
    "t1.extend(t2)\n",
    "t1\n"
   ]
  },
  {
   "cell_type": "markdown",
   "id": "1c234c5d",
   "metadata": {},
   "source": [
    "This example leaves `t2` unmodified.\n",
    "sort arranges the elements of the list from low to high:\n"
   ]
  },
  {
   "cell_type": "code",
   "execution_count": null,
   "id": "eb080382",
   "metadata": {},
   "outputs": [],
   "source": [
    "t = ['d', 'c', 'e', 'b', 'a']\n",
    "t.sort()\n",
    "t"
   ]
  },
  {
   "cell_type": "markdown",
   "id": "8805d988",
   "metadata": {},
   "source": [
    "Most `list` methods are void; they modify the `list and return None`. If you accidentally\n",
    "write `t = t.sort()`, you will be disappointed with the result"
   ]
  },
  {
   "cell_type": "markdown",
   "id": "9cb44b67",
   "metadata": {},
   "source": [
    "To add an element at a particular index in the list, we can use the `insert()` method. We’ll use it in the following format:\n",
    "\n",
    "`t.insert(index, newElement)`"
   ]
  },
  {
   "cell_type": "markdown",
   "id": "5a433863",
   "metadata": {},
   "source": [
    "If a value already exists at that index, the whole list from that value onwards will be shifted one step to the right:"
   ]
  },
  {
   "cell_type": "code",
   "execution_count": null,
   "id": "04fa8d5f",
   "metadata": {},
   "outputs": [],
   "source": [
    "num_list = [1, 2, 3, 5, 6]\n",
    "num_list.insert(3, 4)  # Inserting 4 at the 3rd index. 5 and 6 shifted ahead\n",
    "print(num_list)"
   ]
  },
  {
   "cell_type": "markdown",
   "id": "20e3ad1d",
   "metadata": {},
   "source": [
    "**Index Search**\n",
    "\n",
    "With `lists` its really easy to access a value through its index. However, the opposite operation is also possible where we can find the index of a given value.\n",
    "\n",
    "For this, we’ll use the `index()` method:"
   ]
  },
  {
   "cell_type": "code",
   "execution_count": null,
   "id": "ee62109a",
   "metadata": {},
   "outputs": [],
   "source": [
    "cities = [\"London\", \"Paris\", \"Los Angeles\", \"Beirut\"]\n",
    "print(cities.index(\"Los Angeles\"))  # It is at the 2nd index"
   ]
  },
  {
   "cell_type": "markdown",
   "id": "57d18a06",
   "metadata": {},
   "source": [
    "If we just want to verify the existence of an element in a list, we can use the `in` operator:"
   ]
  },
  {
   "cell_type": "code",
   "execution_count": null,
   "id": "85708ad8",
   "metadata": {},
   "outputs": [],
   "source": [
    "cities = [\"London\", \"Paris\", \"Los Angeles\", \"Beirut\"]\n",
    "print(\"London\" in cities)\n",
    "print(\"Moscow\" not in cities)"
   ]
  },
  {
   "cell_type": "markdown",
   "id": "cb0b871f",
   "metadata": {},
   "source": [
    "**List Sort**\n",
    "\n",
    "A `list` can be sorted in ascending order using the `sort()` method. Sorting can be done alphabetically or numerically depending on the content of the list:"
   ]
  },
  {
   "cell_type": "code",
   "execution_count": null,
   "id": "76d87b4b",
   "metadata": {},
   "outputs": [],
   "source": [
    "num_list = [20, 40, 10, 50.4, 30, 100, 5]\n",
    "num_list.sort()\n",
    "print(num_list)"
   ]
  },
  {
   "cell_type": "markdown",
   "id": "6383af2a",
   "metadata": {},
   "source": [
    "#### Deleting Elements\n",
    "There are several ways to delete elements from a list. If you know the index of the\n",
    "element you want, you can use `pop`"
   ]
  },
  {
   "cell_type": "code",
   "execution_count": null,
   "id": "4797486b",
   "metadata": {},
   "outputs": [],
   "source": [
    "t = ['a', 'b', 'c']\n",
    "x = t.pop(1)\n",
    "t\n",
    "\n"
   ]
  },
  {
   "cell_type": "code",
   "execution_count": null,
   "id": "d0e7e2cd",
   "metadata": {},
   "outputs": [],
   "source": [
    "x\n"
   ]
  },
  {
   "cell_type": "markdown",
   "id": "868d485f",
   "metadata": {},
   "source": [
    "`pop` modifies the `list` and returns the element that was removed. If you don’t provide\n",
    "an `index`, it **deletes and returns the last element**."
   ]
  },
  {
   "cell_type": "markdown",
   "id": "616b5469",
   "metadata": {},
   "source": [
    "Items can be removed from lists by using the `del` statement. This will delete the value at the index number you specify within a list.\n",
    "\n",
    "From the `sea_creatures list`, let’s remove the item `'octopus'`. This item is located at the `index` position of `1`. To remove the item, we’ll use the `del` statement then call the list variable and the index number of that item:"
   ]
  },
  {
   "cell_type": "code",
   "execution_count": null,
   "id": "4a26649c",
   "metadata": {},
   "outputs": [],
   "source": [
    "del sea_creatures[1]\n",
    "print(sea_creatures)"
   ]
  },
  {
   "cell_type": "markdown",
   "id": "9a5d1b78",
   "metadata": {},
   "source": [
    "Now the item at index position `1`, the string `'octopus'`, is no longer in our list `sea_creatures`.\n",
    "\n",
    "We can also specify a `range` with the `del` statement. Say we wanted to remove not only the item `'octopus'`, but also `'blobfish'` and `'mantis shrimp'` as well. We can call a range in sea_creatures with the del statement to accomplish this:"
   ]
  },
  {
   "cell_type": "code",
   "execution_count": null,
   "id": "d78b250a",
   "metadata": {},
   "outputs": [],
   "source": [
    "sea_creatures =['shark', 'octopus', 'blobfish', 'mantis shrimp', 'anemone', 'yeti crab']\n",
    "\n",
    "del sea_creatures[1:4]\n",
    "print(sea_creatures)"
   ]
  },
  {
   "cell_type": "markdown",
   "id": "6616ee39",
   "metadata": {},
   "source": [
    "By using a range with the `del` statement, we were able to remove the `items` between the index number of `1` **(inclusive)**, and the index number of `4` **(exclusive)**, leaving us with a list of 3 items following the removal of 3 items.\n",
    "\n",
    "The `del` statement allows us to remove specific items from the list data type."
   ]
  },
  {
   "cell_type": "markdown",
   "id": "f3a24f29",
   "metadata": {},
   "source": [
    "If you know the element you want to remove (but not the index), you can use `remove`:\n"
   ]
  },
  {
   "cell_type": "code",
   "execution_count": null,
   "id": "8dd046c4",
   "metadata": {},
   "outputs": [],
   "source": [
    "t = ['a', 'b', 'c']\n",
    "t.remove('b')\n",
    "t"
   ]
  },
  {
   "cell_type": "markdown",
   "id": "e4a5a3ad",
   "metadata": {},
   "source": [
    "#### Lists and Strings\n"
   ]
  },
  {
   "cell_type": "markdown",
   "id": "e8c45c12",
   "metadata": {},
   "source": [
    "A string is a **sequence of characters** and a list is a **sequence of values**, but a list of characters is not the same as a string. To convert from a string to a list of characters, you can use list:"
   ]
  },
  {
   "cell_type": "code",
   "execution_count": null,
   "id": "bbdd1c24",
   "metadata": {},
   "outputs": [],
   "source": [
    "s = 'spam'\n",
    "t = list(s)\n",
    "t"
   ]
  },
  {
   "cell_type": "markdown",
   "id": "6b56b21a",
   "metadata": {},
   "source": [
    "Because `list` is the name of a built-in function, you should **avoid using it as a variable name**. I also avoid `l `because it looks too much like `1`. So that’s why I use `t`.\n",
    "The list function breaks a string into individual letters. If you want to break a string\n",
    "into words, you can use the split method:\n"
   ]
  },
  {
   "cell_type": "code",
   "execution_count": null,
   "id": "ef39d027",
   "metadata": {},
   "outputs": [],
   "source": [
    "s = 'pining for the fjords'\n",
    "t = s.split()\n",
    "t\n"
   ]
  },
  {
   "cell_type": "markdown",
   "id": "01dc5063",
   "metadata": {},
   "source": [
    "An optional argument called a **delimiter** specifies which characters to use as word\n",
    "boundaries. The following example uses a hyphen as a delimiter:\n"
   ]
  },
  {
   "cell_type": "code",
   "execution_count": null,
   "id": "a75355a4",
   "metadata": {},
   "outputs": [],
   "source": [
    "s = 'spam-spam-spam'\n",
    "delimiter = '-'\n",
    "t = s.split(delimiter)\n",
    "t"
   ]
  },
  {
   "cell_type": "markdown",
   "id": "15a6ee98",
   "metadata": {},
   "source": [
    "**join** is the inverse of split. It takes a list of strings and concatenates the elements.\n",
    "join is a string method, so you have to invoke it on the delimiter and pass the list as a\n",
    "parameter:\n"
   ]
  },
  {
   "cell_type": "code",
   "execution_count": null,
   "id": "efd13492",
   "metadata": {},
   "outputs": [],
   "source": [
    "t = ['pining', 'for', 'the', 'fjords']\n",
    "delimiter = ' '\n",
    "s = delimiter.join(t)\n",
    "s\n"
   ]
  },
  {
   "cell_type": "markdown",
   "id": "9fe0bec8",
   "metadata": {},
   "source": [
    "In this case the **delimiter** is a space character, so join puts a space between words. To\n",
    "concatenate strings without spaces, you can use the empty string, '', as a delimiter.\n"
   ]
  },
  {
   "cell_type": "markdown",
   "id": "827d48f4",
   "metadata": {},
   "source": [
    "#### Constructing a List with List Items\n",
    "\n",
    "Lists can be defined with items that are made up of `lists`, with each bracketed list enclosed inside the larger brackets of the parent list:"
   ]
  },
  {
   "cell_type": "code",
   "execution_count": null,
   "id": "6a2a8aa7",
   "metadata": {},
   "outputs": [],
   "source": [
    "sea_names = [['shark', 'octopus', 'squid', 'mantis shrimp'],['Sammy', 'Jesse', 'Drew', 'Jamie']]"
   ]
  },
  {
   "cell_type": "markdown",
   "id": "122f26fd",
   "metadata": {},
   "source": [
    "These lists within lists are called nested lists.\n",
    "\n",
    "To access an item within this list, we will have to use multiple indices:"
   ]
  },
  {
   "cell_type": "code",
   "execution_count": null,
   "id": "f795d83c",
   "metadata": {},
   "outputs": [],
   "source": [
    "print(sea_names[1][0])\n",
    "print(sea_names[0][0])"
   ]
  },
  {
   "cell_type": "markdown",
   "id": "a964e543",
   "metadata": {},
   "source": [
    "The first list, since it is equal to an item, will have the index number of 0, which will be the first number in the construction, and the second list will have the index number of 1. Within each inner nested list there will be separate index numbers, which we will call in the second index number:\n",
    "\n",
    "* `sea_names[0][0] = 'shark'`\n",
    "* `sea_names[0][1] = 'octopus'`\n",
    "* `sea_names[0][2] = 'squid'`\n",
    "* `sea_names[0][3] = 'mantis shrimp'`\n",
    "* `sea_names[1][0] = 'Sammy'`\n",
    "* `sea_names[1][1] = 'Jesse'`\n",
    "* `sea_names[1][2] = 'Drew'`\n",
    "* `sea_names[1][3] = 'Jamie'`"
   ]
  },
  {
   "cell_type": "markdown",
   "id": "b5a65a7d",
   "metadata": {},
   "source": [
    "#### Aliasing\n",
    "If `a` refers to an `object` and you assign `b = a`, then both variables refer to the same\n",
    "object:"
   ]
  },
  {
   "cell_type": "code",
   "execution_count": null,
   "id": "50336a87",
   "metadata": {},
   "outputs": [],
   "source": [
    "a = [1, 2, 3]\n",
    "b = a\n",
    "b is a\n"
   ]
  },
  {
   "cell_type": "markdown",
   "id": "95fa4562",
   "metadata": {},
   "source": [
    "The **association of a variable** with an object is called a **reference**. In this example,\n",
    "there are two references to the same object.\n",
    "An object with **more than one reference** has more than one name, so we say that the\n",
    "object is **aliased**.\n",
    "If the aliased object is mutable, changes made with one alias affect the other:\n"
   ]
  },
  {
   "cell_type": "code",
   "execution_count": null,
   "id": "aa890238",
   "metadata": {},
   "outputs": [],
   "source": [
    "b[0] = 42\n",
    "a"
   ]
  },
  {
   "cell_type": "markdown",
   "id": "f2a5eee5",
   "metadata": {},
   "source": [
    "Although this behavior can be useful, it is **error-prone**. In general, it is safer to avoid\n",
    "aliasing when you are working with mutable objects.\n",
    "For immutable objects like strings, aliasing is not as much of a problem. In this example:"
   ]
  },
  {
   "cell_type": "code",
   "execution_count": null,
   "id": "2eacb842",
   "metadata": {},
   "outputs": [],
   "source": [
    "a = 'banana'\n",
    "b = 'banana'"
   ]
  },
  {
   "cell_type": "markdown",
   "id": "2e3dc8d8",
   "metadata": {},
   "source": [
    "It almost never makes a difference whether a and b refer to the same string or not"
   ]
  },
  {
   "cell_type": "markdown",
   "id": "6bfe07c6",
   "metadata": {},
   "source": [
    "### Debugging\n",
    "Careless use of lists (and other mutable objects) can lead to long hours of debugging.\n",
    "Here are some common pitfalls and ways to avoid them:\n",
    "\n",
    " 1. Most list methods modify the argument and return **None**. This is the opposite of\n",
    "the string methods, which return a new string and leave the original alone.\n",
    "If you are used to writing string code like this:\n"
   ]
  },
  {
   "cell_type": "code",
   "execution_count": null,
   "id": "b4f603d9",
   "metadata": {},
   "outputs": [],
   "source": [
    "word = word.strip()"
   ]
  },
  {
   "cell_type": "markdown",
   "id": "49344428",
   "metadata": {},
   "source": [
    "It is tempting to write list code like this:"
   ]
  },
  {
   "cell_type": "code",
   "execution_count": null,
   "id": "08090f69",
   "metadata": {},
   "outputs": [],
   "source": [
    "t = t.sort() # WRONG!"
   ]
  },
  {
   "cell_type": "markdown",
   "id": "cdeb1638",
   "metadata": {},
   "source": [
    "Because **sort** returns `None`, the next operation you perform with t is likely to fail.\n",
    "Before using **list methods and operators**, you should read the documentation\n",
    "carefully and then test them in interactive mode.\n",
    "\n",
    "2. Pick an idiom and stick with it.Part of the problem with lists is that there are too many ways to do things. For\n",
    "example, to remove an element from a list, you can use `pop, remove, del, or even\n",
    "a slice assignment`.\n",
    "To add an element, you can use the `append` method or the `+` operator. Assuming\n",
    "that `t` is a list and `x` is a list element, these are correct:"
   ]
  },
  {
   "cell_type": "code",
   "execution_count": null,
   "id": "b430aa7d",
   "metadata": {},
   "outputs": [],
   "source": [
    "t.append(x)\n",
    "t = t + [x]\n",
    "t += [x]\n"
   ]
  },
  {
   "cell_type": "markdown",
   "id": "25fe8805",
   "metadata": {},
   "source": [
    "And these are wrong:"
   ]
  },
  {
   "cell_type": "code",
   "execution_count": null,
   "id": "d872e1e6",
   "metadata": {},
   "outputs": [],
   "source": [
    "t.append([x]) # WRONG!\n",
    "t = t.append(x) # WRONG!\n",
    "t + [x] # WRONG!\n",
    "t = t + x # WRONG!"
   ]
  },
  {
   "cell_type": "markdown",
   "id": "a4998626",
   "metadata": {},
   "source": [
    "Try out each of these examples in interactive mode to make sure you understand\n",
    "what they do. Notice that only the last one causes a runtime error; the other three\n",
    "are legal, but they do the wrong thing"
   ]
  },
  {
   "cell_type": "markdown",
   "id": "ab9eae89",
   "metadata": {},
   "source": [
    "3. Make copies to avoid aliasing.\n",
    "If you want to use a method like `sort` that modifies the argument, but you need\n",
    "to keep the original list as well, you can make a `copy`:"
   ]
  },
  {
   "cell_type": "code",
   "execution_count": null,
   "id": "d2a37e31",
   "metadata": {},
   "outputs": [],
   "source": [
    "t = [3, 1, 2]\n",
    "t2 = t[:]\n",
    "t2.sort()\n",
    "print(t)\n",
    "print(t2)\n"
   ]
  },
  {
   "cell_type": "markdown",
   "id": "e69f7707",
   "metadata": {},
   "source": [
    "In this example you could also use the built-in function sorted, which returns a\n",
    "new, sorted list and leaves the original alone:"
   ]
  },
  {
   "cell_type": "code",
   "execution_count": null,
   "id": "d98d345b",
   "metadata": {},
   "outputs": [],
   "source": [
    "t2 = sorted(t)\n",
    "print(t)\n",
    "print(t2)"
   ]
  },
  {
   "cell_type": "markdown",
   "id": "55518f1a",
   "metadata": {},
   "source": [
    "### Dictionaries"
   ]
  },
  {
   "cell_type": "markdown",
   "id": "f9172228",
   "metadata": {},
   "source": [
    "A **dictionary** is like a list, but more general. In a list, the indices have to be integers; in a dictionary they can be (almost) any type. Dictionaries are **unordered** because the entries are not stored in a linear structure.\n",
    "\n",
    "A dictionary contains a collection of indices, which are called keys, and a collection of values. Each **key** is associated with a single value. The association of a **key and a value** is called a **key-value pair** or sometimes an **item**.\n",
    "\n",
    "In mathematical language, a dictionary represents a mapping from **keys to values**, so you can also say that each **key “maps to” a value**. As an example, we’ll build a dictionary that maps from English to Spanish words, so the keys and the values are all strings. The function `dict` creates a new dictionary with no items. Because `dict` is the name\n",
    "of a built-in function, you should avoid using it as a variable name."
   ]
  },
  {
   "cell_type": "code",
   "execution_count": null,
   "id": "5156243e",
   "metadata": {},
   "outputs": [],
   "source": [
    "eng2sp = dict()\n",
    "eng2sp"
   ]
  },
  {
   "cell_type": "markdown",
   "id": "c7da7bf3",
   "metadata": {},
   "source": [
    "The squiggly brackets, `{}`, represent an empty dictionary. To add items to the dictionary, you can use square brackets:\n"
   ]
  },
  {
   "cell_type": "code",
   "execution_count": null,
   "id": "e62cca5e",
   "metadata": {},
   "outputs": [],
   "source": [
    "eng2sp['one'] = 'uno'"
   ]
  },
  {
   "cell_type": "markdown",
   "id": "88adcf98",
   "metadata": {},
   "source": [
    "The line above creates an item that **maps from the key 'one' to the value 'uno'**. If we print the dictionary again, we see a key-value pair with a colon between the **key and value**:"
   ]
  },
  {
   "cell_type": "code",
   "execution_count": null,
   "id": "fbdc23ee",
   "metadata": {},
   "outputs": [],
   "source": [
    "eng2sp"
   ]
  },
  {
   "cell_type": "markdown",
   "id": "001a2e33",
   "metadata": {},
   "source": [
    "This output format is also an input format. For example, you can create a new dictionary with three items:"
   ]
  },
  {
   "cell_type": "code",
   "execution_count": null,
   "id": "f5039e0d",
   "metadata": {},
   "outputs": [],
   "source": [
    "eng2sp = {'one': 'uno', 'two': 'dos', 'three': 'tres'}"
   ]
  },
  {
   "cell_type": "markdown",
   "id": "77c6f055",
   "metadata": {},
   "source": [
    "But if you print `eng2sp`, you might be surprised:"
   ]
  },
  {
   "cell_type": "code",
   "execution_count": null,
   "id": "21434131",
   "metadata": {},
   "outputs": [],
   "source": [
    "eng2sp"
   ]
  },
  {
   "cell_type": "markdown",
   "id": "3bb92ae7",
   "metadata": {},
   "source": [
    "The **order** of the **key-value pairs** might not be the same. If you type the same example on your computer, you might get a different result. In general, the order of items in a dictionary is unpredictable. But that’s not a problem because the elements of a dictionary are never indexed withinteger indices. Instead, you use the **keys** to look up the corresponding values:\n"
   ]
  },
  {
   "cell_type": "code",
   "execution_count": null,
   "id": "cd8de71a",
   "metadata": {},
   "outputs": [],
   "source": [
    "eng2sp['two']"
   ]
  },
  {
   "cell_type": "markdown",
   "id": "0f6f2470",
   "metadata": {},
   "source": [
    "The key `'two'` always maps to the value `'dos'` so the order of the items doesn’t matter.\n",
    "**If the key isn’t in the dictionary, you get an exception:** `KeyError`"
   ]
  },
  {
   "cell_type": "code",
   "execution_count": null,
   "id": "ec361123",
   "metadata": {},
   "outputs": [],
   "source": [
    "eng2sp['four']"
   ]
  },
  {
   "cell_type": "markdown",
   "id": "1bddd03e",
   "metadata": {},
   "source": [
    "The `len` function works on dictionaries; it returns the number of `key-value pairs`:"
   ]
  },
  {
   "cell_type": "code",
   "execution_count": null,
   "id": "7e92fe83",
   "metadata": {},
   "outputs": [],
   "source": [
    "len(eng2sp)"
   ]
  },
  {
   "cell_type": "markdown",
   "id": "b92b4d36",
   "metadata": {},
   "source": [
    "The `in` operator works on dictionaries, too; it tells you whether something appears as a **key** in the dictionary (appearing as a value is not good enough)."
   ]
  },
  {
   "cell_type": "code",
   "execution_count": null,
   "id": "24c24e47",
   "metadata": {},
   "outputs": [],
   "source": [
    "'one' in eng2sp"
   ]
  },
  {
   "cell_type": "code",
   "execution_count": null,
   "id": "6098d076",
   "metadata": {},
   "outputs": [],
   "source": [
    "'uno' in eng2sp"
   ]
  },
  {
   "cell_type": "markdown",
   "id": "a7ac2aa8",
   "metadata": {},
   "source": [
    "To see whether something appears as a `value` in a dictionary, you can use the method\n",
    "`values`, which returns a **collection of values**, and then use the in operator:"
   ]
  },
  {
   "cell_type": "code",
   "execution_count": null,
   "id": "db756487",
   "metadata": {},
   "outputs": [],
   "source": [
    "vals = eng2sp.values()\n",
    "'uno' in vals"
   ]
  },
  {
   "cell_type": "markdown",
   "id": "06f9a462",
   "metadata": {},
   "source": [
    "The `in` operator uses different algorithms for `lists and dictionaries`. For lists, it\n",
    "searches the elements of the list in order. As the list gets longer, the search time gets longer in direct proportion"
   ]
  },
  {
   "cell_type": "markdown",
   "id": "be708045",
   "metadata": {},
   "source": [
    "The `in` operator uses different algorithms for lists and dictionaries. For lists, it searches the elements of the list in order, as in “Searching” on page 89. As the list gets longer, the search time gets longer in direct proportion\n",
    "\n",
    "For dictionaries, Python uses an algorithm called a hashtable that has a remarkable\n",
    "property: the in operator takes about the same amount of time no matter how many\n",
    "items are in the dictionary. I explain how that’s possible in **“Hashtables”**\n",
    "but the explanation might not make sense until when we cover more topics."
   ]
  },
  {
   "cell_type": "markdown",
   "id": "b2803b2b",
   "metadata": {},
   "source": [
    "**Using Methods to Access Elements** \n",
    "\n",
    "In addition to using keys to access values, we can also work with some built-in methods:\n",
    "\n",
    "`dict.keys() isolates keys\n",
    "dict.values() isolates values\n",
    "dict.items() returns items in a list format of (key, value) tuple pairs`\n",
    "\n",
    "To return the keys, we would use the `dict.keys()` method. In our example, that would use the variable name and be `eng2sp.keys()`. Let’s pass that to a `print()` method and look at the output:"
   ]
  },
  {
   "cell_type": "code",
   "execution_count": null,
   "id": "74adde83",
   "metadata": {},
   "outputs": [],
   "source": [
    "print(eng2sp.keys())"
   ]
  },
  {
   "cell_type": "markdown",
   "id": "141beadb",
   "metadata": {},
   "source": [
    "Both the methods `keys() and values()` return **unsorted lists of the keys and values** present in the eng2sp dictionary with the view objects of dict_keys and dict_values respectively.\n",
    "\n",
    "If we are interested in all of the items in a dictionary, we can access them with the `items()` method:"
   ]
  },
  {
   "cell_type": "code",
   "execution_count": null,
   "id": "22d3f70b",
   "metadata": {},
   "outputs": [],
   "source": [
    "print(eng2sp.items())"
   ]
  },
  {
   "cell_type": "markdown",
   "id": "588500d8",
   "metadata": {},
   "source": [
    "**Modifying Dictionaries**\n",
    "\n",
    "Dictionaries are a mutable data structure, so you are able to modify them. In this section, we’ll go over adding and deleting dictionary elements.\n",
    "\n",
    "**Adding and Changing Dictionary Elements**\n",
    "\n",
    "We’ll look at how this works in practice by adding a key-value pair to a dictionary called `usernames`:\n"
   ]
  },
  {
   "cell_type": "code",
   "execution_count": null,
   "id": "9a7f178e",
   "metadata": {},
   "outputs": [],
   "source": [
    "usernames = {'Sammy': 'sammy-shark', 'Jamie': 'mantisshrimp54'}\n",
    "\n",
    "usernames['Drew'] = 'squidly'\n",
    "\n",
    "print(usernames)"
   ]
  },
  {
   "cell_type": "markdown",
   "id": "6020458d",
   "metadata": {},
   "source": [
    "We see now that the dictionary has been updated with the `'Drew'`: `'squidly'` key-value pair. Because dictionaries may be unordered, this pair may occur anywhere in the dictionary output. If we use the `usernames` dictionary later in our program file, it will include the additional key-value pair.\n",
    "\n",
    "Additionally, this syntax can be used for modifying the value assigned to a key. In this case, we’ll reference an existing key and pass a different value to it.\n",
    "\n",
    "Let’s consider a dictionary `drew` that is one of the users on a given network. We’ll say that this user got a bump in followers today, so we need to update the integer value passed to the 'followers' key. We’ll use the `print()` function to check that the dictionary was modified."
   ]
  },
  {
   "cell_type": "code",
   "execution_count": null,
   "id": "a1911674",
   "metadata": {},
   "outputs": [],
   "source": [
    "drew = {'username': 'squidly', 'online': True, 'followers': 305}\n",
    "\n",
    "drew['followers'] = 342\n",
    "\n",
    "print(drew)"
   ]
  },
  {
   "cell_type": "markdown",
   "id": "af77b9b1",
   "metadata": {},
   "source": [
    "In the output, we see that the number of followers jumped from the integer value of `305 to 342`.\n",
    "\n",
    "We can use this method for adding key-value pairs to dictionaries with user-input. "
   ]
  },
  {
   "cell_type": "markdown",
   "id": "1916aa3f",
   "metadata": {},
   "source": [
    "We can also add and modify dictionaries by using the `dict.update()` method. This varies from the `append()` method available in lists.\n",
    "\n",
    "In the `jesse` dictionary below, let’s add the key `'followers'` and give it an integer value with `jesse.update()`. Following that, let’s `print()` the updated dictionary."
   ]
  },
  {
   "cell_type": "code",
   "execution_count": null,
   "id": "9f8bbd45",
   "metadata": {},
   "outputs": [],
   "source": [
    "jesse = {'username': 'JOctopus', 'online': False, 'points': 723}\n",
    "\n",
    "jesse.update({'followers': 481})\n",
    "\n",
    "print(jesse)"
   ]
  },
  {
   "cell_type": "markdown",
   "id": "7e981869",
   "metadata": {},
   "source": [
    "From the output, we can see that we successfully added the `'followers'`: `481 key-value pair` to the dictionary `jesse`.\n",
    "\n",
    "We can also use the `dict.update()` method to modify an existing key-value pair by replacing a given value for a specific key.\n",
    "\n",
    "Let’s change the online status of `Sammy` from `True` to `False` in the `sammy dictionary`:"
   ]
  },
  {
   "cell_type": "code",
   "execution_count": null,
   "id": "6522b7b9",
   "metadata": {},
   "outputs": [],
   "source": [
    "sammy = {'username': 'sammy-shark', 'online': True, 'followers': 987}\n",
    "\n",
    "sammy.update({'online': False})\n",
    "\n",
    "print(sammy)"
   ]
  },
  {
   "cell_type": "markdown",
   "id": "ccab7bd9",
   "metadata": {},
   "source": [
    "**The line sammy.update({'online': False})** references the existing key 'online' and modifies its Boolean value from True to False. When we call to print() the dictionary, we see the update take place in the output.\n",
    "\n",
    "To add items to dictionaries or modify values, we can use either the `dict[key] = value` syntax or the method `dict.update()`.\n",
    "\n",
    "**Deleting Dictionary Elements**\n",
    "\n",
    "Just as you can add key-value pairs and change values within the dictionary data type, you can also delete items within a dictionary.\n",
    "\n",
    "To remove a key-value pair from a dictionary, we’ll use the following syntax:"
   ]
  },
  {
   "cell_type": "code",
   "execution_count": null,
   "id": "3fc52af0",
   "metadata": {},
   "outputs": [],
   "source": [
    "del dict[key]"
   ]
  },
  {
   "cell_type": "markdown",
   "id": "d07c12e6",
   "metadata": {},
   "source": [
    "Let’s take the `jesse` dictionary that represents one of the `users`. We’ll say that `Jesse` is no longer using the online platform for playing games, so we’ll remove the item associated with the `'points'` key. Then, we’ll `print` the dictionary out to confirm that the item was deleted:"
   ]
  },
  {
   "cell_type": "code",
   "execution_count": null,
   "id": "bede0176",
   "metadata": {},
   "outputs": [],
   "source": [
    "jesse = {'username': 'JOctopus', 'online': False, 'points': 723, 'followers': 481}\n",
    "\n",
    "del jesse['points']\n",
    "\n",
    "print(jesse)"
   ]
  },
  {
   "cell_type": "markdown",
   "id": "c560aa32",
   "metadata": {},
   "source": [
    "The line `del jesse['points']` removes the key-value pair 'points': `723` from the jesse dictionary.\n",
    "\n",
    "If we would like to clear a dictionary of all of its values, we can do so with the `dict.clear()` method. This will keep a given dictionary in case we need to use it later in the program, but it will no longer contain any items.\n",
    "\n",
    "Let’s remove all the items within the `jesse` dictionary:"
   ]
  },
  {
   "cell_type": "code",
   "execution_count": null,
   "id": "25523b9b",
   "metadata": {},
   "outputs": [],
   "source": [
    "jesse = {'username': 'JOctopus', 'online': False, 'points': 723, 'followers': 481}\n",
    "\n",
    "jesse.clear()\n",
    "\n",
    "print(jesse)"
   ]
  },
  {
   "cell_type": "markdown",
   "id": "7657ad8e",
   "metadata": {},
   "source": [
    "The output shows that we now have an empty dictionary devoid of key-value pairs.\n",
    "\n",
    "If we no longer need a specific dictionary, we can use `del` to get rid of it entirely:"
   ]
  },
  {
   "cell_type": "code",
   "execution_count": null,
   "id": "b69c761d",
   "metadata": {},
   "outputs": [],
   "source": [
    "del jesse\n",
    "\n",
    "print(jesse)"
   ]
  },
  {
   "cell_type": "markdown",
   "id": "55904e14",
   "metadata": {},
   "source": [
    "Because dictionaries are mutable data types, they can be added to, modified, and have items removed and cleared."
   ]
  },
  {
   "cell_type": "markdown",
   "id": "7d34121c",
   "metadata": {},
   "source": [
    "### Tuple\n",
    "\n",
    "A **tuple** is a data structure that is an immutable, or unchangeable, ordered sequence of elements. Because tuples are immutable, their values cannot be modified. The following is an example tuple that consists of four elements:"
   ]
  },
  {
   "cell_type": "markdown",
   "id": "7c93b9a1",
   "metadata": {},
   "source": [
    "**Tuples Are Immutable**\n",
    "\n",
    "A tuple is a sequence of values. The values can be any type, and they are indexed by\n",
    "integers, so in that respect tuples are a lot like lists. The important difference is that\n",
    "tuples are immutable.\n",
    "Syntactically, a tuple is a comma-separated list of values:\n"
   ]
  },
  {
   "cell_type": "code",
   "execution_count": null,
   "id": "97edd753",
   "metadata": {},
   "outputs": [],
   "source": [
    "t = 'a', 'b', 'c', 'd', 'e'"
   ]
  },
  {
   "cell_type": "markdown",
   "id": "43a17c6b",
   "metadata": {},
   "source": [
    "Although it is not necessary, it is common to enclose tuples in parentheses:"
   ]
  },
  {
   "cell_type": "code",
   "execution_count": null,
   "id": "0cbc34ed",
   "metadata": {},
   "outputs": [],
   "source": [
    "t = ('a', 'b', 'c', 'd', 'e')"
   ]
  },
  {
   "cell_type": "markdown",
   "id": "6a8f05d7",
   "metadata": {},
   "source": [
    "To create a tuple with a single element, you have to include a final comma:"
   ]
  },
  {
   "cell_type": "code",
   "execution_count": null,
   "id": "14342223",
   "metadata": {},
   "outputs": [],
   "source": [
    "t1 = 'a',"
   ]
  },
  {
   "cell_type": "code",
   "execution_count": null,
   "id": "24573d10",
   "metadata": {},
   "outputs": [],
   "source": [
    "type(t1)"
   ]
  },
  {
   "cell_type": "markdown",
   "id": "01024fb3",
   "metadata": {},
   "source": [
    "A value in parentheses is not a tuple:"
   ]
  },
  {
   "cell_type": "code",
   "execution_count": null,
   "id": "1520dca4",
   "metadata": {},
   "outputs": [],
   "source": [
    "t2 = ('a')\n",
    "type(t2)"
   ]
  },
  {
   "cell_type": "markdown",
   "id": "4d4ba0a4",
   "metadata": {},
   "source": [
    "Another way to create a tuple is the **built-in function** tuple. With no argument, it\n",
    "creates an empty tuple:"
   ]
  },
  {
   "cell_type": "code",
   "execution_count": null,
   "id": "8b546377",
   "metadata": {},
   "outputs": [],
   "source": [
    "t = tuple()\n",
    "t"
   ]
  },
  {
   "cell_type": "markdown",
   "id": "bd8973eb",
   "metadata": {},
   "source": [
    "If the argument is a sequence **(string, list or tuple)**, the result is a tuple with the elements of the sequence:\n"
   ]
  },
  {
   "cell_type": "code",
   "execution_count": null,
   "id": "83f5be6e",
   "metadata": {},
   "outputs": [],
   "source": [
    "t = tuple('lupins')\n",
    "t"
   ]
  },
  {
   "cell_type": "markdown",
   "id": "71e06562",
   "metadata": {},
   "source": [
    "Because tuple is the name of a **built-in function**, you should avoid using it as a variable name.\n",
    "Most list operators also work on tuples. The bracket operator indexes an element:"
   ]
  },
  {
   "cell_type": "code",
   "execution_count": null,
   "id": "5dcc07aa",
   "metadata": {},
   "outputs": [],
   "source": [
    "t = ('a', 'b', 'c', 'd', 'e')\n",
    "t[0]"
   ]
  },
  {
   "cell_type": "markdown",
   "id": "49ae99da",
   "metadata": {},
   "source": [
    "And the slice operator selects a range of elements:"
   ]
  },
  {
   "cell_type": "code",
   "execution_count": null,
   "id": "1bead198",
   "metadata": {},
   "outputs": [],
   "source": [
    " t[1:3]"
   ]
  },
  {
   "cell_type": "markdown",
   "id": "b390b71c",
   "metadata": {},
   "source": [
    "But if you try to modify one of the elements of the tuple, you get an error:"
   ]
  },
  {
   "cell_type": "code",
   "execution_count": null,
   "id": "c04afe47",
   "metadata": {},
   "outputs": [],
   "source": [
    "t[0] = 'A'"
   ]
  },
  {
   "cell_type": "markdown",
   "id": "bc63fb47",
   "metadata": {},
   "source": [
    "**TypeError: object doesn't support item assignment**\n",
    "Because tuples are immutable, you can’t modify the elements. But you can replace one tuple with another:"
   ]
  },
  {
   "cell_type": "code",
   "execution_count": null,
   "id": "882c31a4",
   "metadata": {},
   "outputs": [],
   "source": [
    "t = ('A',) + t[1:]\n",
    "t"
   ]
  },
  {
   "cell_type": "markdown",
   "id": "a150ffa6",
   "metadata": {},
   "source": [
    "This statement makes a new tuple and then makes `t` refer to it.\n",
    "The relational operators work with `tuples and other sequences`; Python starts by comparing the first element from each sequence. If they are equal, it goes on to the next elements, and so on, until it finds elements that differ. Subsequent elements are not considered (even if they are really big)."
   ]
  },
  {
   "cell_type": "code",
   "execution_count": null,
   "id": "8e405e73",
   "metadata": {},
   "outputs": [],
   "source": [
    "(0, 1, 2) < (0, 3, 4)"
   ]
  },
  {
   "cell_type": "code",
   "execution_count": null,
   "id": "b5e33734",
   "metadata": {},
   "outputs": [],
   "source": [
    "(0, 1, 2000000) < (0, 3, 4)"
   ]
  },
  {
   "cell_type": "markdown",
   "id": "de140f49",
   "metadata": {},
   "source": [
    "#### Tuple Assignment\n",
    "It is often useful to swap the values of two variables. With conventional assignments, you have to use a temporary variable. For example, to swap `a` and `b`:\n"
   ]
  },
  {
   "cell_type": "code",
   "execution_count": null,
   "id": "f0a60c36",
   "metadata": {},
   "outputs": [],
   "source": [
    "temp = a\n",
    "a = b\n",
    "b = temp"
   ]
  },
  {
   "cell_type": "markdown",
   "id": "6ebe1e6b",
   "metadata": {},
   "source": [
    "This solution is cumbersome; tuple assignment is more elegant:"
   ]
  },
  {
   "cell_type": "code",
   "execution_count": null,
   "id": "9581c059",
   "metadata": {},
   "outputs": [],
   "source": [
    "a, b = b, a"
   ]
  },
  {
   "cell_type": "markdown",
   "id": "6219ea06",
   "metadata": {},
   "source": [
    "The left side is a tuple of variables; the right side is a tuple of expressions. Each value is assigned to its respective variable. All the expressions on the right side are evaluated before any of the assignments. The number of variables on the left and the number of values on the right have to be the same:"
   ]
  },
  {
   "cell_type": "code",
   "execution_count": null,
   "id": "a3810ddc",
   "metadata": {},
   "outputs": [],
   "source": [
    "a, b = 1, 2, 3"
   ]
  },
  {
   "cell_type": "markdown",
   "id": "f8cac10d",
   "metadata": {},
   "source": [
    "**ValueError: too many values to unpack**\n",
    "More generally, the right side can be any kind of sequence (string, list or tuple). For example, to split an email address into a user name and a domain, you could write:"
   ]
  },
  {
   "cell_type": "code",
   "execution_count": null,
   "id": "c4e7a380",
   "metadata": {},
   "outputs": [],
   "source": [
    "addr = 'monty@python.org'\n",
    "uname, domain = addr.split('@')\n",
    "print(uname, domain)"
   ]
  },
  {
   "cell_type": "markdown",
   "id": "d863da08",
   "metadata": {},
   "source": [
    "The return value from split is a list with two elements; the first element is assigned\n",
    "to `uname`, the second to `domain`:"
   ]
  },
  {
   "cell_type": "markdown",
   "id": "abb4c536",
   "metadata": {},
   "source": [
    "#### Tuples as Return Values\n",
    "Strictly speaking, a function can only return one value, but if the value is a tuple, the effect is the same as returning multiple values. For example, if you want to divide two integers and compute the quotient and remainder, it is inefficient to compute `x/y` and then `x%y`. It is better to compute them both at the same time.\n",
    "\n",
    "The `built-in function` `divmod` takes two arguments and returns a tuple of two values:\n",
    "the quotient and remainder. You can store the result as a tuple:"
   ]
  },
  {
   "cell_type": "code",
   "execution_count": null,
   "id": "9f07c245",
   "metadata": {},
   "outputs": [],
   "source": [
    "t = divmod(7, 3)\n",
    "t"
   ]
  },
  {
   "cell_type": "markdown",
   "id": "17f47b98",
   "metadata": {},
   "source": [
    "Or use tuple assignment to store the elements separately:"
   ]
  },
  {
   "cell_type": "code",
   "execution_count": null,
   "id": "c493f3d1",
   "metadata": {},
   "outputs": [],
   "source": [
    "quot, rem = divmod(7, 3)\n",
    "print(quot,rem)"
   ]
  },
  {
   "cell_type": "markdown",
   "id": "8b45c9af",
   "metadata": {},
   "source": [
    "#### Tuple Functions\n",
    "\n",
    "There are a few built-in functions that you can use to work with tuples. Let’s look at a few of them.\n",
    "\n",
    "**len()** \n",
    "\n",
    "Like with strings and lists, we can calculate the length of a tuple by using `len()`, where we pass the tuple as a parameter, as in:"
   ]
  },
  {
   "cell_type": "code",
   "execution_count": null,
   "id": "2b43b932",
   "metadata": {},
   "outputs": [],
   "source": [
    "coral = ('blue coral', 'staghorn coral', 'pillar coral', 'elkhorn coral')\n",
    "numbers = (0, 1, 2, 3, 4, 5, 6, 7, 8, 9, 10, 11, 12)\n",
    "kelp = ('wakame', 'alaria', 'deep-sea tangle', 'macrocystis')"
   ]
  },
  {
   "cell_type": "code",
   "execution_count": null,
   "id": "234db1ca",
   "metadata": {},
   "outputs": [],
   "source": [
    "len(coral)"
   ]
  },
  {
   "cell_type": "markdown",
   "id": "f3fcbfd6",
   "metadata": {},
   "source": [
    "This function is useful for when you need to enforce minimum or maximum collection lengths, for example, or to compare sequenced data.\n",
    "\n",
    "If we print out the length for our tuples `kelp and numbers`, we’ll receive the following output:"
   ]
  },
  {
   "cell_type": "code",
   "execution_count": null,
   "id": "a932deef",
   "metadata": {},
   "outputs": [],
   "source": [
    "print(len(kelp))\n",
    "print(len(numbers))"
   ]
  },
  {
   "cell_type": "markdown",
   "id": "803ef09f",
   "metadata": {},
   "source": [
    "Although these examples have relatively few items, the `len()` function provides us with the opportunity to see how many items are in large tuples.\n",
    "\n",
    "**max() and min()** \n",
    "\n",
    "When we work with tuples composed of numeric items, (including integers and floats) we can use the `max() and min()` functions to find the highest and lowest values contained in the respective tuple.\n",
    "\n",
    "These functions allow us to find out information about quantitative data, such as test scores, temperatures, prices, etc.\n",
    "\n",
    "Let’s look at a tuple comprised of floats:"
   ]
  },
  {
   "cell_type": "code",
   "execution_count": null,
   "id": "11e66f14",
   "metadata": {},
   "outputs": [],
   "source": [
    "more_numbers = (11.13, 34.87, 95.59, 82.49, 42.73, 11.12, 95.57)"
   ]
  },
  {
   "cell_type": "markdown",
   "id": "95980742",
   "metadata": {},
   "source": [
    "To get the `max()`, we would pass the tuple into the function, as in `max(more_numbers)`. We’ll combine this with the `print()` function so that we can output our results:"
   ]
  },
  {
   "cell_type": "markdown",
   "id": "bc7e4b4e",
   "metadata": {},
   "source": [
    "To get the `max()`, we would pass the tuple into the function, as in `max(more_numbers)`. We’ll combine this with the `print()` function so that we can output our results:"
   ]
  },
  {
   "cell_type": "code",
   "execution_count": null,
   "id": "b4aa80c0",
   "metadata": {},
   "outputs": [],
   "source": [
    "print(max(more_numbers))"
   ]
  },
  {
   "cell_type": "markdown",
   "id": "5afe6b61",
   "metadata": {},
   "source": [
    "The `max()` function returned the highest value in our tuple.\n",
    "\n",
    "Similarly, we can use the `min()` function:"
   ]
  },
  {
   "cell_type": "code",
   "execution_count": null,
   "id": "ffb07dc3",
   "metadata": {},
   "outputs": [],
   "source": [
    "print(min(more_numbers))"
   ]
  },
  {
   "cell_type": "markdown",
   "id": "561897ad",
   "metadata": {},
   "source": [
    "Here, the smallest `float` was found in the tuple and printed out.\n",
    "\n",
    "Just like with the `len()` function, the `max()` and `min()` functions can be very useful when working with tuples that contain many values."
   ]
  },
  {
   "cell_type": "markdown",
   "id": "0f12c484",
   "metadata": {},
   "source": [
    "### Set\n",
    "\n",
    "Python **Set** is an **unordered collection of unique elements**. Suppose you have a list and you need only the unique items of the list you can use Python Set. The data is also not indexed, so we can’t access elements using indices or `get()`.\n",
    "\n",
    "Similarly, if you need only unique items from input, Python set can help you to do so. You can add or delete items from it. You can initialize a set by placing elements in between curly braces. Like other sequences, one set can have elements of multiple data-types. Moreover, you can also create a set from a list by using `set()` function. The following example will give you some idea about initializing a set."
   ]
  },
  {
   "cell_type": "code",
   "execution_count": null,
   "id": "84f9ba93",
   "metadata": {},
   "outputs": [],
   "source": [
    "#set containing single data-type\n",
    "set1 = {1, 2, 3, 4, 2, 3, 1}\n",
    "print(set1)\n",
    "\n",
    "#set containing multiple data-type\n",
    "set2 = {1, 2, 3, (1, 2, 3), 2.45, \"Python\", 2, 3}\n",
    "print(set2)\n",
    "\n",
    "#creating a set from a list\n",
    "theList = [1, 2, 3, 4, 2, 3, 1]\n",
    "theSet = set(theList)\n",
    "print(theSet)"
   ]
  },
  {
   "cell_type": "markdown",
   "id": "1fd60519",
   "metadata": {},
   "source": [
    "**Adding Elements to Python Set**\n",
    "\n",
    "In previous example, we learned how to initialize Python set directly. Suppose we need to add element to set, we can do so by using `add()` function. But this function can add a single element. If you want to add iterable elements like list or set, you can do so by using `update()` function. The following example will help you understand the thing"
   ]
  },
  {
   "cell_type": "code",
   "execution_count": null,
   "id": "fc67f5d0",
   "metadata": {},
   "outputs": [],
   "source": [
    "#initialize an empty set\n",
    "theSet = set()\n",
    "\n",
    "#add a single element using add() function\n",
    "theSet.add(1)\n",
    "theSet.add(2)\n",
    "theSet.add(3)\n",
    "theSet.add(2)\n",
    "#add another data-type\n",
    "theSet.add('hello')\n",
    "\n",
    "#add iterable elements using update() function\n",
    "theSet.update([1,2,4,'hello','world']) #list as iterable element\n",
    "theSet.update({1,2,5}) #set as iterable element\n",
    "print(theSet)"
   ]
  },
  {
   "cell_type": "markdown",
   "id": "24fa75f8",
   "metadata": {},
   "source": [
    "**Remove Elements from Python Set**\n",
    "\n",
    "There are two functions to remove elements from Python Set. One is `remove()` and another is `discard()` function. If the element you are trying to remove is not in the set, the `remove()` function will raise exception for this. But the discard function will not do anything like this. The following code will show you those"
   ]
  },
  {
   "cell_type": "code",
   "execution_count": null,
   "id": "46aaceeb",
   "metadata": {},
   "outputs": [],
   "source": [
    "theSet = {1,2,3,4,5,6}\n",
    "\n",
    "#remove 3 using discard() function\n",
    "theSet.discard(3)\n",
    "print(theSet)\n",
    "\n",
    "#call discard() function again to remove 3\n",
    "theSet.discard(3) #This won't raise any exception\n",
    "print(theSet)\n",
    "\n",
    "#call remove() function to remove 5\n",
    "theSet.remove(5)\n",
    "print(theSet)\n",
    "\n",
    "#call remove() function to remove 5 again\n",
    "theSet.remove(5) #this would raise exception\n",
    "print(theSet) #this won't be printed"
   ]
  },
  {
   "cell_type": "markdown",
   "id": "67fd3064",
   "metadata": {},
   "source": [
    "**Python Set Operations**\n",
    "\n",
    "You might be familiar with some mathematical set operations like `union, intersection, difference`. We can also do those using Python set. Now, we will learn how to do that.\n",
    "\n",
    "**Python Set Union**\n",
    "\n",
    "**Union** is the operation to merge two sets. That means, union will create another set that contains all unique elements of two sets. For example, `{1, 2, 3, 4} and {2, 3, 5, 7}` are two sets. If we do union operation over them, we get `{1, 2, 3, 4, 5, 7}`. We can obtain this by using `union()` function.\n",
    "\n",
    "**Python Set Intersection**\n",
    "\n",
    "Again, intersection is the operation to get the common unique elements of two sets. For example, `{1, 2, 3, 4} and { 2, 3, 5, 7}` are two sets. If we intersect them, we get, `{2, 3}`. The intersection operation is done by `intersection()` function.\n",
    "\n",
    "**Python Set Difference**\n",
    "\n",
    "Now, difference operation compares two sets and creates a new set containing items from set A which are not common in set B. Suppose, we have two sets, `A = {1, 2, 3, 4} and B = {2, 3, 5, 7}`. Then, A - B operation will generate `{1, 4}`. Moreover,` B - A will generate {5, 7}`. The difference operation is done by `difference()` function… The following code will give you idea about how to do these set operation in python programming."
   ]
  },
  {
   "cell_type": "code",
   "execution_count": null,
   "id": "804f2c8c",
   "metadata": {},
   "outputs": [],
   "source": [
    "A = {1, 2, 3, 4} #initializing set A\n",
    "B = {2, 3, 5, 7} #initializing set B\n",
    "\n",
    "union_operation = A.union(B)\n",
    "\n",
    "print(\"A union B :\")\n",
    "print(union_operation)\n",
    "\n",
    "intersection_operation = A.intersection(B)\n",
    "\n",
    "print(\"A intersection B :\")\n",
    "print(intersection_operation)\n",
    "\n",
    "difference_operation = A.difference(B)\n",
    "\n",
    "print(\"A-B :\")\n",
    "print(difference_operation)\n",
    "\n",
    "difference_operation = B.difference(A)\n",
    "print(\"B-A :\")\n",
    "print(difference_operation)"
   ]
  },
  {
   "cell_type": "markdown",
   "id": "f3b81934",
   "metadata": {},
   "source": [
    "### Converting to a List\n",
    "\n",
    "We can convert a `tuple, set, or dictionary` to a list using the `list()` constructor. In the case of a dictionary, only the keys will be converted to a list."
   ]
  },
  {
   "cell_type": "code",
   "execution_count": null,
   "id": "bfa6b75f",
   "metadata": {},
   "outputs": [],
   "source": [
    "star_wars_tup = (\"Anakin\", \"Darth Vader\", 1000)\n",
    "print(star_wars_tup)"
   ]
  },
  {
   "cell_type": "code",
   "execution_count": null,
   "id": "5d2d539d",
   "metadata": {},
   "outputs": [],
   "source": [
    "star_wars_list = list(star_wars_tup)  # Converting from tuple\n",
    "print(star_wars_list)"
   ]
  },
  {
   "cell_type": "code",
   "execution_count": null,
   "id": "a5f77029",
   "metadata": {},
   "outputs": [],
   "source": [
    "star_wars_set = {\"Anakin\", \"Darth Vader\", 1000}\n",
    "print(star_wars_set)"
   ]
  },
  {
   "cell_type": "code",
   "execution_count": null,
   "id": "cd43c014",
   "metadata": {},
   "outputs": [],
   "source": [
    "star_wars_list = list(star_wars_set)  # Converting from set\n",
    "print(star_wars_list)"
   ]
  },
  {
   "cell_type": "code",
   "execution_count": null,
   "id": "90676373",
   "metadata": {},
   "outputs": [],
   "source": [
    "star_wars_dict = {1: \"Anakin\", 2: \"Darth Vader\", 3: 1000}\n",
    "print(star_wars_dict)"
   ]
  },
  {
   "cell_type": "code",
   "execution_count": null,
   "id": "07eb7b48",
   "metadata": {},
   "outputs": [],
   "source": [
    "star_wars_list = list(star_wars_dict)  # Converting from dictionary\n",
    "print(star_wars_list)"
   ]
  },
  {
   "cell_type": "markdown",
   "id": "59cab8d9",
   "metadata": {},
   "source": [
    "We can also use the `dict.items()` method of a dictionary to convert it into an `iterable of (key, value) tuples`. This can further be cast into a list of tuples using `list()`:"
   ]
  },
  {
   "cell_type": "code",
   "execution_count": null,
   "id": "46a8fd21",
   "metadata": {},
   "outputs": [],
   "source": [
    "star_wars_dict = {1: \"Anakin\", 2: \"Darth Vader\", 3: 1000}\n",
    "print(star_wars_dict)\n",
    "\n",
    "star_wars_list = list(star_wars_dict.items())\n",
    "print(star_wars_list)"
   ]
  },
  {
   "cell_type": "markdown",
   "id": "3217f024",
   "metadata": {},
   "source": [
    "### Converting to a Tuple \n",
    "\n",
    "Any data structure can be converted to a tuple using the `tuple()` constructor. In the case of a dictionary, only the keys will be converted to a tuple:"
   ]
  },
  {
   "cell_type": "code",
   "execution_count": null,
   "id": "24265b63",
   "metadata": {},
   "outputs": [],
   "source": [
    "star_wars_list = [\"Anakin\", \"Darth Vader\", 1000]\n",
    "print(star_wars_list)"
   ]
  },
  {
   "cell_type": "code",
   "execution_count": null,
   "id": "e3e3c996",
   "metadata": {},
   "outputs": [],
   "source": [
    "star_wars_tup = tuple(star_wars_list)  # Converting from list\n",
    "print(star_wars_tup)"
   ]
  },
  {
   "cell_type": "code",
   "execution_count": null,
   "id": "2bafab6b",
   "metadata": {},
   "outputs": [],
   "source": [
    "star_wars_set = {\"Anakin\", \"Darth Vader\", 1000}\n",
    "print(star_wars_set)"
   ]
  },
  {
   "cell_type": "code",
   "execution_count": null,
   "id": "096043eb",
   "metadata": {},
   "outputs": [],
   "source": [
    "star_wars_tup = tuple(star_wars_set)  # Converting from set\n",
    "print(star_wars_tup)"
   ]
  },
  {
   "cell_type": "code",
   "execution_count": null,
   "id": "d172354c",
   "metadata": {},
   "outputs": [],
   "source": [
    "star_wars_dict = {1: \"Anakin\", 2: \"Darth Vader\", 3: 1000}\n",
    "print(star_wars_dict)"
   ]
  },
  {
   "cell_type": "code",
   "execution_count": null,
   "id": "51d545a5",
   "metadata": {},
   "outputs": [],
   "source": [
    "star_wars_tup = tuple(star_wars_dict)  # Converting from dictionary\n",
    "print(star_wars_tup)"
   ]
  },
  {
   "cell_type": "markdown",
   "id": "2444f953",
   "metadata": {},
   "source": [
    "### Converting to a Set #\n",
    "\n",
    "The `set()` constructor can be used to create a set out of any other data structure. In the case of a dictionary, only the keys will be converted to a set:"
   ]
  },
  {
   "cell_type": "code",
   "execution_count": null,
   "id": "ac9e52ec",
   "metadata": {},
   "outputs": [],
   "source": [
    "star_wars_list = [\"Anakin\", \"Darth Vader\", 1000]\n",
    "print(star_wars_list)"
   ]
  },
  {
   "cell_type": "code",
   "execution_count": null,
   "id": "45b641ee",
   "metadata": {},
   "outputs": [],
   "source": [
    "star_wars_set = set(star_wars_list)  # Converting from list\n",
    "print(star_wars_set)"
   ]
  },
  {
   "cell_type": "code",
   "execution_count": null,
   "id": "6e443c03",
   "metadata": {},
   "outputs": [],
   "source": [
    "star_wars_tup = (\"Anakin\", \"Darth Vader\", 1000)\n",
    "print(star_wars_tup)"
   ]
  },
  {
   "cell_type": "code",
   "execution_count": null,
   "id": "aad6db85",
   "metadata": {},
   "outputs": [],
   "source": [
    "star_wars_set = set(star_wars_tup)  # Converting from tuple\n",
    "print(star_wars_set)"
   ]
  },
  {
   "cell_type": "code",
   "execution_count": null,
   "id": "3f1ccbf6",
   "metadata": {},
   "outputs": [],
   "source": [
    "star_wars_dict = {1: \"Anakin\", 2: \"Darth Vader\", 3: 1000}\n",
    "print(star_wars_dict)"
   ]
  },
  {
   "cell_type": "code",
   "execution_count": null,
   "id": "c46d126f",
   "metadata": {},
   "outputs": [],
   "source": [
    "star_wars_set = set(star_wars_dict)  # Converting from dictionary\n",
    "print(star_wars_set)"
   ]
  },
  {
   "cell_type": "markdown",
   "id": "b5440b4e",
   "metadata": {},
   "source": [
    "### Converting to a Dictionary \n",
    "\n",
    "The `dict()` constructor cannot be used in the same way as the others because it requires key-value pairs instead of just values. Hence, the data must be stored in a format where pairs exist.\n",
    "\n",
    "For example, a list of tuples where the length of each tuple is 2 can be converted into a dictionary.\n",
    "\n",
    "Those pairs will then be converted into key-value pairs:"
   ]
  },
  {
   "cell_type": "code",
   "execution_count": null,
   "id": "4360ee13",
   "metadata": {},
   "outputs": [],
   "source": [
    "star_wars_list = [[1,\"Anakin\"], [2,\"Darth Vader\"], [3, 1000]]\n",
    "print (star_wars_list)"
   ]
  },
  {
   "cell_type": "code",
   "execution_count": null,
   "id": "af4ab8ca",
   "metadata": {},
   "outputs": [],
   "source": [
    "star_wars_dict = dict(star_wars_list) # Converting from list\n",
    "print(star_wars_dict)"
   ]
  },
  {
   "cell_type": "code",
   "execution_count": null,
   "id": "8cecd606",
   "metadata": {},
   "outputs": [],
   "source": [
    "star_wars_tup = ((1, \"Anakin\"), (2, \"Darth Vader\"), (3, 1000))\n",
    "print (star_wars_tup)"
   ]
  },
  {
   "cell_type": "code",
   "execution_count": null,
   "id": "3b34ee45",
   "metadata": {},
   "outputs": [],
   "source": [
    "star_wars_dict = dict(star_wars_tup) # Converting from tuple\n",
    "print(star_wars_dict)"
   ]
  },
  {
   "cell_type": "code",
   "execution_count": null,
   "id": "1e4989f6",
   "metadata": {},
   "outputs": [],
   "source": [
    "star_wars_set = {(1, \"Anakin\"), (2, \"Darth Vader\"), (3, 1000)}\n",
    "print (star_wars_set)"
   ]
  },
  {
   "cell_type": "code",
   "execution_count": null,
   "id": "d9e0b8cc",
   "metadata": {},
   "outputs": [],
   "source": [
    "star_wars_dict = dict(star_wars_set) # Converting from set\n",
    "print(star_wars_dict)"
   ]
  },
  {
   "cell_type": "markdown",
   "id": "0a8d7829",
   "metadata": {},
   "source": [
    "### Bug-Fixing Exercises"
   ]
  },
  {
   "cell_type": "markdown",
   "id": "e9a196ee",
   "metadata": {},
   "source": [
    "#### Bug-Fixing Exercise 1\n",
    "The code below tries to extract `'b'` from the list, but there is an **error**. Try to fix the code.\n",
    "\n"
   ]
  },
  {
   "cell_type": "code",
   "execution_count": null,
   "id": "fc3e6c69",
   "metadata": {},
   "outputs": [],
   "source": [
    "elements = ['a', 'b', 'c']\n",
    "print(elements(1))"
   ]
  },
  {
   "cell_type": "markdown",
   "id": "fb0e37c7",
   "metadata": {},
   "source": [
    "#### Bug-Fixing Exercise 2\n",
    "The code below aims to update `'b'` with `'x'` in elements. However, the output of the code is still `['a', 'b', 'c']`. Try to fix the code so `'b'` is replaced with `'x'`.\n"
   ]
  },
  {
   "cell_type": "code",
   "execution_count": null,
   "id": "174c6a65",
   "metadata": {},
   "outputs": [],
   "source": [
    "elements = ['a', 'b', 'c']\n",
    "new = 'x'\n",
    "new = elements[1]\n",
    "print(elements)"
   ]
  },
  {
   "cell_type": "markdown",
   "id": "9277cd9d",
   "metadata": {},
   "source": [
    "#### Bug-Fixing Exercise 3\n",
    "\n",
    "The program further below lets the user enter an index and returns the item with that index from the menu list. However, the code has an error. Run the code to see what error you get, and then fix the error.\n"
   ]
  },
  {
   "cell_type": "code",
   "execution_count": null,
   "id": "3438c979",
   "metadata": {},
   "outputs": [],
   "source": [
    "menu = [\"pasta\", \"pizza\", \"salad\"]\n",
    " \n",
    "user_choice = input(\"Enter the index of the item: \")\n",
    " \n",
    "message = f\"You chose {menu[user_choice]}.\"\n",
    "print(message)"
   ]
  },
  {
   "cell_type": "markdown",
   "id": "612b6491",
   "metadata": {},
   "source": [
    "#### Bug-Fixing Exercise 4\n",
    "The program further below lets the user enter an index and returns the item with that index from the menu list. However, the code has an error. Run the code to see what error you get, and then fix the error.\n"
   ]
  },
  {
   "cell_type": "code",
   "execution_count": null,
   "id": "c5097634",
   "metadata": {},
   "outputs": [],
   "source": [
    "\n",
    "menu = [\"pasta\", \"pizza\", \"salad\"]\n",
    " \n",
    "user_choice = input(\"Enter the index of the item: \")\n",
    " \n",
    "message = f\"You chose {menu[user_choice]}.\"\n",
    "print(message)"
   ]
  },
  {
   "cell_type": "markdown",
   "id": "f293285d",
   "metadata": {},
   "source": [
    "Note: Since the code of the bug-fixing exercises is getting bigger day after day, don't try to find the error by just looking at the code. Instead, run the code on your IDE, inspect the error message, and finally fix the bug."
   ]
  },
  {
   "cell_type": "markdown",
   "id": "c6061212",
   "metadata": {},
   "source": [
    "### Exercise\n",
    "\n",
    "You are given a `list` called `my_list`. Using this list, you must create a tuple called `my_tuple`. The tuple will contain the list’s first element, last element, and the length of the list, in that same order.\n",
    "\n",
    "**Sample Input** \n",
    "\n",
    "`my_list = [34, 82.6, \"Darth Vader\", 17, \"Hannibal\"]`\n",
    "\n",
    "**Sample Output**\n",
    "\n",
    "`my_tuple = (34, \"Hannibal\", 5)`\n",
    "\n",
    "Coding Challenge\n",
    "There are several ways of solving the problem. Flesh out the logic before moving on to the implementation.\n"
   ]
  },
  {
   "cell_type": "code",
   "execution_count": null,
   "id": "f1692dcf",
   "metadata": {},
   "outputs": [],
   "source": [
    "my_list = [34, 82.6, \"Darth Vader\", 17, \"Hannibal\"]"
   ]
  }
 ],
 "metadata": {
  "kernelspec": {
   "display_name": "Python 3 (ipykernel)",
   "language": "python",
   "name": "python3"
  },
  "language_info": {
   "codemirror_mode": {
    "name": "ipython",
    "version": 3
   },
   "file_extension": ".py",
   "mimetype": "text/x-python",
   "name": "python",
   "nbconvert_exporter": "python",
   "pygments_lexer": "ipython3",
   "version": "3.9.12"
  },
  "vscode": {
   "interpreter": {
    "hash": "916dbcbb3f70747c44a77c7bcd40155683ae19c65e1c03b4aa3499c5328201f1"
   }
  }
 },
 "nbformat": 4,
 "nbformat_minor": 5
}
