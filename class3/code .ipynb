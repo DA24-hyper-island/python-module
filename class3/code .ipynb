{
 "cells": [
  {
   "cell_type": "code",
   "execution_count": null,
   "id": "a23f4bc9",
   "metadata": {},
   "outputs": [],
   "source": []
  },
  {
   "cell_type": "markdown",
   "id": "b8f35ee6",
   "metadata": {},
   "source": [
    "## Data Structures as Collections and their Operations.\n",
    "\n",
    "We have understood the fundamentals, let us layer the fundamentals on each other to derive secondary complex patterns.\n",
    "\n",
    "1. Lists - list operations.\n",
    "2. Tuples - tuple operations.\n",
    "3. Sets - set operations.\n",
    "4. Dictionaries - dictionary operations.\n",
    "5. Collection operations - converting data structures.\n",
    "6. Further characteristics.\n",
    "7. Debugging.\n",
    "8. Why!!"
   ]
  },
  {
   "cell_type": "markdown",
   "id": "5e9b6c23",
   "metadata": {},
   "source": [
    "### Lists"
   ]
  },
  {
   "cell_type": "markdown",
   "id": "4911539f",
   "metadata": {},
   "source": [
    "**A List Is a Sequence**\n",
    "\n",
    "Like a string, a list is a sequence of values. In a string, the values are characters; in a\n",
    "list, they can be any type. The values in a list are called elements or sometimes items.\n",
    "There are several ways to create a new list; the simplest is to enclose the elements in\n",
    "square brackets (`[ and ]`):\n",
    "\n",
    "`[10, 20, 30, 40]`\n",
    "\n",
    "`['crunchy frog', 'ram bladder', 'lark vomit']`\n",
    "\n",
    "The first example is a list of four integers. The second is a list of three strings. The\n",
    "elements of a list don’t have to be the same type. The following list contains a string, a\n",
    "float, an integer, and (lo!) another list:\n",
    "`['spam', 2.0, 5, [10, 20]]`\n",
    "\n",
    "A list within another list is nested.\n",
    "\n",
    "A list that contains no elements is called an empty list; you can create one with ***empty\n",
    "brackets**, `[]`.\n",
    "\n",
    "As you might expect, you can assign list values to variables:\n",
    "\n",
    "\n"
   ]
  },
  {
   "cell_type": "code",
   "execution_count": 1,
   "id": "0bc7264e",
   "metadata": {},
   "outputs": [
    {
     "name": "stdout",
     "output_type": "stream",
     "text": [
      "['Cheddar', 'Edam', 'Gouda'] [42, 123] []\n"
     ]
    }
   ],
   "source": [
    "cheeses = ['Cheddar', 'Edam', 'Gouda']\n",
    "numbers = [42, 123]\n",
    "empty = []\n",
    "print(cheeses, numbers, empty)"
   ]
  },
  {
   "cell_type": "markdown",
   "id": "4cb4fe37",
   "metadata": {},
   "source": [
    "### String Lists\n",
    "\n",
    "To get started, let’s deepdive into string "
   ]
  },
  {
   "cell_type": "markdown",
   "id": "c45632c8",
   "metadata": {},
   "source": [
    "#### A String Is a Sequence\n",
    "\n",
    "A string is a sequence of characters. You can access the characters one at a time with the bracket operator:\n"
   ]
  },
  {
   "cell_type": "code",
   "execution_count": null,
   "id": "e560e0f2",
   "metadata": {},
   "outputs": [],
   "source": [
    "fruit = 'banana'\n",
    "letter = fruit[1]"
   ]
  },
  {
   "cell_type": "markdown",
   "id": "1a4907bb",
   "metadata": {},
   "source": [
    "The second statement selects character number `1` from `fruit` and assigns it to `letter`.\n",
    "\n",
    "The expression in brackets is called an `index`. The `index` indicates which character in the `sequence` you want **(hence the name)**.\n",
    "\n",
    "But you might not get what you expect:"
   ]
  },
  {
   "cell_type": "code",
   "execution_count": null,
   "id": "02faa9f5",
   "metadata": {},
   "outputs": [],
   "source": [
    "print(letter)"
   ]
  },
  {
   "cell_type": "markdown",
   "id": "3c04718d",
   "metadata": {},
   "source": [
    "For most people, `the first letter of` **'banana'** is *b*, not *a*. But for computer scientists,\n",
    "the index is an offset from the beginning of the string, and the offset of the first letter\n",
    "is **zero**."
   ]
  },
  {
   "cell_type": "code",
   "execution_count": null,
   "id": "bd42c451",
   "metadata": {},
   "outputs": [],
   "source": [
    "letter = fruit[0]\n",
    "letter"
   ]
  },
  {
   "cell_type": "markdown",
   "id": "a3e2c550",
   "metadata": {},
   "source": [
    "So `b` is the `0th` letter **(“zero-eth”)** of **'banana'**, `a` is the `1th` letter **(“one-eth”)**, and `n` is\n",
    "the `2th` letter **(“two-eth”)**.\n",
    "As an index, you can use an expression that contains variables and operators:\n"
   ]
  },
  {
   "cell_type": "code",
   "execution_count": null,
   "id": "b95d4c2a",
   "metadata": {},
   "outputs": [],
   "source": [
    "i = 1\n",
    "fruit[i]"
   ]
  },
  {
   "cell_type": "code",
   "execution_count": null,
   "id": "3c5f8ba1",
   "metadata": {},
   "outputs": [],
   "source": [
    "fruit[i+1]"
   ]
  },
  {
   "cell_type": "code",
   "execution_count": null,
   "id": "ba1c03f2",
   "metadata": {},
   "outputs": [],
   "source": [
    "letter = fruit[1.5]\n",
    "print(letter)"
   ]
  },
  {
   "cell_type": "markdown",
   "id": "d60b806c",
   "metadata": {},
   "source": [
    "The value of the index has to be an integer. Otherwise you get:\n",
    "`TypeError: string indices must be integer`"
   ]
  },
  {
   "cell_type": "markdown",
   "id": "5ca7eb9c",
   "metadata": {},
   "source": [
    "**len**\n",
    "\n",
    "len is a built-in function that returns the number of characters in a string:"
   ]
  },
  {
   "cell_type": "code",
   "execution_count": null,
   "id": "2421bf37",
   "metadata": {},
   "outputs": [],
   "source": [
    "fruit = 'banana'\n",
    "len(fruit)"
   ]
  },
  {
   "cell_type": "markdown",
   "id": "02d9be83",
   "metadata": {},
   "source": [
    "To get the last letter of a string, you might be tempted to try something like this:"
   ]
  },
  {
   "cell_type": "code",
   "execution_count": null,
   "id": "fbc72845",
   "metadata": {},
   "outputs": [],
   "source": [
    "length = len(fruit)\n",
    "last = fruit[length]"
   ]
  },
  {
   "cell_type": "markdown",
   "id": "9b957f11",
   "metadata": {},
   "source": [
    "`IndexError: string index out of range`\n",
    "    \n",
    "The reason for the `IndexError` is that there is no **letter in 'banana'** with the index `6`.\n",
    "Since we started counting at `zero`, the `six letters` are numbered `0 to 5`. To get the last\n",
    "character, you have to **subtract 1 from length**:"
   ]
  },
  {
   "cell_type": "code",
   "execution_count": null,
   "id": "e030bd83",
   "metadata": {},
   "outputs": [],
   "source": [
    "last = fruit[length-1]\n",
    "last"
   ]
  },
  {
   "cell_type": "markdown",
   "id": "c74626d5",
   "metadata": {},
   "source": [
    "Or you can use negative indices, which count backward from the end of the string.\n",
    "The expression `fruit[-1]` yields the last letter, `fruit[-2]` yields the second to last,\n",
    "and so on"
   ]
  },
  {
   "cell_type": "markdown",
   "id": "6c82d94d",
   "metadata": {},
   "source": [
    "**String Slices**\n",
    "\n",
    "A segment of a string is called a `slice`. Selecting a `slice` is similar to selecting a character"
   ]
  },
  {
   "cell_type": "code",
   "execution_count": 2,
   "id": "9f0aa259",
   "metadata": {},
   "outputs": [
    {
     "data": {
      "text/plain": [
       "'Monty'"
      ]
     },
     "execution_count": 2,
     "metadata": {},
     "output_type": "execute_result"
    }
   ],
   "source": [
    "s = 'Monty Python'\n",
    "s[0:5]"
   ]
  },
  {
   "cell_type": "code",
   "execution_count": null,
   "id": "b47c7fce",
   "metadata": {},
   "outputs": [],
   "source": [
    "s[6:12]"
   ]
  },
  {
   "cell_type": "markdown",
   "id": "7b7d373f",
   "metadata": {},
   "source": [
    "The operator `[n:m]` returns the part of the string from the **“n-eth”** character to the\n",
    "**“m-eth”** character, including the first but excluding the last. This behavior is counter‐\n",
    "intuitive, but it might help to imagine the indices pointing between the characters, as\n",
    "in Table.\n",
    "\n",
    "|‘B’\t|‘a’\t|‘n’\t|‘a’\t|‘n’ |‘a’\n",
    "-----|-----|----- |----- |-----  |-----\n",
    "|0\t|1\t|2\t|3\t|4 | 5\n",
    "\n",
    "If you omit the first index **(before the colon)**, the slice starts at the beginning of the\n",
    "string. If you omit the **second index**, the slice goes to the end of the string:"
   ]
  },
  {
   "cell_type": "code",
   "execution_count": null,
   "id": "7b7e61ba",
   "metadata": {},
   "outputs": [],
   "source": [
    "fruit = 'banana'\n",
    "fruit[:3]"
   ]
  },
  {
   "cell_type": "code",
   "execution_count": null,
   "id": "602bd2f4",
   "metadata": {},
   "outputs": [],
   "source": [
    "fruit[3:]"
   ]
  },
  {
   "cell_type": "markdown",
   "id": "59571b91",
   "metadata": {},
   "source": [
    "If the first index is **greater than or equal to the second** the result is an empty string,\n",
    "represented by two quotation marks:"
   ]
  },
  {
   "cell_type": "code",
   "execution_count": null,
   "id": "0e941ab5",
   "metadata": {},
   "outputs": [],
   "source": [
    "fruit = 'banana'\n",
    "fruit[3:3]"
   ]
  },
  {
   "cell_type": "markdown",
   "id": "621bb3e0",
   "metadata": {},
   "source": [
    "An **empty string** contains no characters and has **length 0**, but other than that, it is the same as any other string.\n",
    "Continuing this example, what do you think `fruit[:]` means? Try it and see."
   ]
  },
  {
   "cell_type": "markdown",
   "id": "128fe4a6",
   "metadata": {},
   "source": [
    "**Strings Are Immutable**\n",
    "\n",
    "It is tempting to use the `[]` operator on the left side of an assignment, with the intention of changing a character in a string. For example:\n"
   ]
  },
  {
   "cell_type": "code",
   "execution_count": 4,
   "id": "ea7cf64d",
   "metadata": {},
   "outputs": [],
   "source": [
    "greeting = 'Hello, world!'\n",
    "greeting[0] = 'J'"
   ]
  },
  {
   "cell_type": "markdown",
   "id": "563b6e42",
   "metadata": {},
   "source": [
    "`TypeError: 'str' object does not support item assignment`\n",
    "    \n",
    "The reason for the error is that strings are **immutable**, which means you **can’t change\n",
    "an existing string**. The best you can do is create a new string that is a variation on the\n",
    "original:\n"
   ]
  },
  {
   "cell_type": "code",
   "execution_count": null,
   "id": "f9a1111d",
   "metadata": {},
   "outputs": [],
   "source": [
    "greeting = 'Hello, world!'\n",
    "new_greeting = 'J' + greeting[1:]\n",
    "new_greeting"
   ]
  },
  {
   "cell_type": "markdown",
   "id": "48552429",
   "metadata": {},
   "source": [
    "This example concatenates a new **first letter** onto a **slice of greeting**. It has no effect\n",
    "on the original string"
   ]
  },
  {
   "cell_type": "markdown",
   "id": "00c18c7b",
   "metadata": {},
   "source": [
    "#### Creating a list that contains items of the string data type"
   ]
  },
  {
   "cell_type": "code",
   "execution_count": null,
   "id": "7fc71d3b",
   "metadata": {},
   "outputs": [],
   "source": [
    "sea_creatures = ['shark', 'cuttlefish', 'squid', 'mantis shrimp', 'anemone']\n",
    "print(sea_creatures)"
   ]
  },
  {
   "cell_type": "markdown",
   "id": "5d5c3e31",
   "metadata": {},
   "source": [
    "As an ordered sequence of elements, each item in a list can be called individually, through indexing. Lists are a compound data type made up of smaller parts, and are very flexible because they can have values added, removed, and changed. When you need to store a lot of values or iterate over values, and you want to be able to readily modify those values, you’ll likely want to work with list data types."
   ]
  },
  {
   "cell_type": "markdown",
   "id": "6b7cacb4",
   "metadata": {},
   "source": [
    "**Indexing Lists**\n",
    "\n",
    "Each item in a list corresponds to an index number, which is an integer value, starting with the index number 0.\n",
    "\n",
    "For the list sea_creatures, the index breakdown looks like this:\n",
    "\n",
    "|‘shark’\t|‘cuttlefish’\t|‘squid’\t|‘mantis shrimp’\t|‘anemone’\n",
    "-----|-----|----- |----- |-----\n",
    "|0\t|1\t|2\t|3\t|4\n",
    "\n",
    "\n",
    "The first item, the string **'shark'** starts at index `0`, and the list ends at index `4` with the item **'anemone'**.\n",
    "\n",
    "Because each item in a Python list has a corresponding index number, we’re able to access and manipulate lists in the same ways we can with other sequential data types.\n",
    "\n",
    "Now we can call a discrete item of the list by referring to its index number:"
   ]
  },
  {
   "cell_type": "code",
   "execution_count": null,
   "id": "e6c77137",
   "metadata": {},
   "outputs": [],
   "source": [
    "print(sea_creatures[1])"
   ]
  },
  {
   "cell_type": "markdown",
   "id": "a2298746",
   "metadata": {},
   "source": [
    "The index numbers for this list range from `0-4`, as shown in the table above. So to call any of the items individually, we would refer to the index numbers like this:\n",
    "\n",
    "* `sea_creatures[0] = 'shark'`\n",
    "* `sea_creatures[1] = 'cuttlefish'`\n",
    "* `sea_creatures[2] = 'squid'`\n",
    "* `sea_creatures[3] = 'mantis shrimp'`\n",
    "* `sea_creatures[4] = 'anemone'`\n",
    "\n",
    "If we call the list sea_creatures with an index number of any that is **greater than 4**, it will be out of range as it will not be valid:"
   ]
  },
  {
   "cell_type": "code",
   "execution_count": null,
   "id": "47c87a13",
   "metadata": {},
   "outputs": [],
   "source": [
    "print(sea_creatures[18])"
   ]
  },
  {
   "cell_type": "markdown",
   "id": "cfb014ab",
   "metadata": {},
   "source": [
    "In addition to positive index numbers, we can also access items from the list with a negative index number, by counting backwards from the end of the list, starting at -1. This is especially useful if we have a long list and we want to pinpoint an item towards the end of a list.\n",
    "\n",
    "For the same list sea_creatures, the negative index breakdown looks like this:\n",
    "\n",
    "|‘shark’\t|‘cuttlefish’\t|‘squid’\t|‘mantis shrimp’\t|‘anemone’\n",
    "-----|-----|----- |----- |-----\n",
    "|-5\t|-4\t|-3\t|-2\t|-1\n",
    "\n",
    "So, if we would like to print out the item `'squid'` by using its negative index number, we can do so like this:"
   ]
  },
  {
   "cell_type": "code",
   "execution_count": null,
   "id": "9ce88b49",
   "metadata": {},
   "outputs": [],
   "source": [
    "print(sea_creatures[-3])"
   ]
  },
  {
   "cell_type": "markdown",
   "id": "00b8121d",
   "metadata": {},
   "source": [
    "We can concatenate string items in a list with other strings using the `+` operator:"
   ]
  },
  {
   "cell_type": "code",
   "execution_count": null,
   "id": "1b8e9a8f",
   "metadata": {},
   "outputs": [],
   "source": [
    "print('Sammy is a ' + sea_creatures[0])"
   ]
  },
  {
   "cell_type": "markdown",
   "id": "4ac30717",
   "metadata": {},
   "source": [
    "We were able to concatenate the string item at index number 0 with the string `'Sammy is a '`. We can also use the `+` operator to **concatenate 2 or more lists together**.\n",
    "\n",
    "With index numbers that correspond to items within a list, we’re able to access each item of a list discretely and work with those items."
   ]
  },
  {
   "cell_type": "markdown",
   "id": "89768b2f",
   "metadata": {},
   "source": [
    "#### Lists Are Mutable\n",
    "\n",
    "The syntax for accessing the elements of a list is the same as for accessing the characters of a string the **bracket operator** `[]`. The expression inside the brackets specifies the\n",
    "index. Remember that the **indices start at 0**:\n"
   ]
  },
  {
   "cell_type": "code",
   "execution_count": null,
   "id": "6029f64e",
   "metadata": {},
   "outputs": [],
   "source": [
    "sea_creatures[0]"
   ]
  },
  {
   "cell_type": "markdown",
   "id": "3b61ac0b",
   "metadata": {},
   "source": [
    "Unlike strings, **lists are mutable**. When the bracket operator appears on the left side of\n",
    "an assignment, it identifies the element of the list that will be assigned:"
   ]
  },
  {
   "cell_type": "markdown",
   "id": "f266b5b8",
   "metadata": {},
   "source": [
    "**Modifying Items in Lists**\n",
    "\n",
    "We can use indexing to change items within the list, by setting an index number equal to a different value. This gives us greater control over lists as we are able to modify and update the items that they contain.\n",
    "\n",
    "If we want to change the string value of the item at index `1` from `'cuttlefish'` to `'octopus'`, we can do so like this:"
   ]
  },
  {
   "cell_type": "code",
   "execution_count": null,
   "id": "85fd01b3",
   "metadata": {},
   "outputs": [],
   "source": [
    "sea_creatures[1] = 'octopus'"
   ]
  },
  {
   "cell_type": "markdown",
   "id": "844131b7",
   "metadata": {},
   "source": [
    "Now when we print `sea_creatures`, the list will be different:"
   ]
  },
  {
   "cell_type": "code",
   "execution_count": null,
   "id": "4c11941b",
   "metadata": {},
   "outputs": [],
   "source": [
    "print(sea_creatures)"
   ]
  },
  {
   "cell_type": "markdown",
   "id": "d631bf0f",
   "metadata": {},
   "source": [
    "We can also change the value of an item by using a **negative index** number instead:"
   ]
  },
  {
   "cell_type": "code",
   "execution_count": null,
   "id": "2eceeff0",
   "metadata": {},
   "outputs": [],
   "source": [
    "sea_creatures[-3] = 'blobfish'\n",
    "print(sea_creatures)"
   ]
  },
  {
   "cell_type": "markdown",
   "id": "d996e28d",
   "metadata": {},
   "source": [
    "Now `'blobfish'` has replaced `'squid'` at the negative index number of `-3` **(which corresponds to the positive index number of 2)**.\n",
    "\n",
    "Being able to modify items in lists gives us the ability to change and update lists in an efficient way."
   ]
  },
  {
   "cell_type": "markdown",
   "id": "eea6427c",
   "metadata": {},
   "source": [
    "**Slicing Lists**\n",
    "\n",
    "We can also call out a few items from the list similar to String slicing. Let’s say we would like to only print the `middle items` of sea_creatures, we can do so by **creating a slice**. With slices, we can call multiple values by creating a range of index numbers separated by a colon `[x:y]`:"
   ]
  },
  {
   "cell_type": "code",
   "execution_count": null,
   "id": "2306e8a0",
   "metadata": {},
   "outputs": [],
   "source": [
    "print(sea_creatures[1:4])"
   ]
  },
  {
   "cell_type": "markdown",
   "id": "52f5bd04",
   "metadata": {},
   "source": [
    "When creating a slice, as in `[1:4]`, the **first index number** is where the slice starts **(inclusive)**, and the **second index number** is where the slice ends **(exclusive)**, which is why in our example above the items at position, 1, 2, and 3 are the items that print out.\n",
    "\n",
    "If we want to include either end of the list, we can omit one of the numbers in the `list[x:y]` syntax. For example, if we want to **print the first 3 items of the list sea_creatures**— which would be `'shark', 'octopus', 'blobfish'` — we can do so by typing:"
   ]
  },
  {
   "cell_type": "code",
   "execution_count": null,
   "id": "ec7e8edc",
   "metadata": {},
   "outputs": [],
   "source": [
    "print(sea_creatures[:3])"
   ]
  },
  {
   "cell_type": "markdown",
   "id": "c8d2e83a",
   "metadata": {},
   "source": [
    "This printed the beginning of the list, stopping right before index `3`.\n",
    "\n",
    "To include all the items at the end of a list, we would reverse the syntax:"
   ]
  },
  {
   "cell_type": "code",
   "execution_count": null,
   "id": "d1f8e016",
   "metadata": {},
   "outputs": [],
   "source": [
    "print(sea_creatures[2:])"
   ]
  },
  {
   "cell_type": "markdown",
   "id": "f6110e28",
   "metadata": {},
   "source": [
    "We can also use negative index numbers when slicing lists, similar to positive index numbers:"
   ]
  },
  {
   "cell_type": "code",
   "execution_count": null,
   "id": "a9753f6c",
   "metadata": {},
   "outputs": [],
   "source": [
    "print(sea_creatures[-4:-2])\n",
    "print(sea_creatures[-3:])"
   ]
  },
  {
   "cell_type": "markdown",
   "id": "5186b64c",
   "metadata": {},
   "source": [
    "One last parameter that we can use with slicing is called **stride**, which refers to how many items to move forward after the first item is retrieved from the list. So far, we have omitted the stride parameter, and **Python defaults to the stride of 1**, so that every item between two index numbers is retrieved.\n",
    "\n",
    "The syntax for this construction is `list[x:y:z]`, with `z` referring to stride. Let’s make a larger list, then slice it, and give the stride a value of `2`:"
   ]
  },
  {
   "cell_type": "code",
   "execution_count": null,
   "id": "77ef1a0c",
   "metadata": {},
   "outputs": [],
   "source": [
    "numbers = [0, 1, 2, 3, 4, 5, 6, 7, 8, 9, 10, 11, 12]\n",
    "\n",
    "print(numbers[1:11:2])"
   ]
  },
  {
   "cell_type": "markdown",
   "id": "7e84b6d3",
   "metadata": {},
   "source": [
    "Our construction `numbers[1:11:2]` prints the values between index numbers inclusive of **1 and exclusive of 11**, then the stride value of `2` tells the program to print out only every other item.\n",
    "\n",
    "We can omit the first two parameters and use stride alone as a parameter with the syntax `list[::z]`:"
   ]
  },
  {
   "cell_type": "code",
   "execution_count": null,
   "id": "5a4e7bd7",
   "metadata": {},
   "outputs": [],
   "source": [
    "print(numbers[::3])"
   ]
  },
  {
   "cell_type": "markdown",
   "id": "88b5f5d0",
   "metadata": {},
   "source": [
    "By printing out the list numbers with the stride set to 3, only every third item is printed:\n",
    "\n",
    "**0**, 1, 2, **3**, 4, 5, **6**, 7, 8, **9**, 10, 11, **12**\n",
    "\n",
    "Slicing lists with both positive and negative index numbers and indicating stride provides us with the control to manipulate lists and receive the output we’re trying to achieve."
   ]
  },
  {
   "cell_type": "markdown",
   "id": "7e8ea3f9",
   "metadata": {},
   "source": [
    "#### List Operators\n",
    "Operators can be used to make modifications to lists. We’ll review using the + and * operators and their compound forms `+=` and `*=`.\n",
    "\n",
    "The `+` operator can be used to concatenate two or more lists together:"
   ]
  },
  {
   "cell_type": "code",
   "execution_count": null,
   "id": "6072047c",
   "metadata": {},
   "outputs": [],
   "source": [
    "sea_creatures = ['shark', 'octopus', 'blobfish', 'mantis shrimp', 'anemone']\n",
    "oceans = ['Pacific', 'Atlantic', 'Indian', 'Southern', 'Arctic']\n",
    "\n",
    "print(sea_creatures + oceans)"
   ]
  },
  {
   "cell_type": "markdown",
   "id": "3e51eb51",
   "metadata": {},
   "source": [
    "Because the `+` operator can concatenate, it can be used to add an item (or several) in list form to the end of another list. Remember to place the item in square brackets:"
   ]
  },
  {
   "cell_type": "markdown",
   "id": "71bdb7ed",
   "metadata": {},
   "source": [
    "The `*` operator can be used to multiply lists. Perhaps you need to make copies of all the files in a directory onto a server, or share a playlist with friends — in these cases you would need to multiply collections of data.\n",
    "\n",
    "Let’s multiply the `sea_creatures list` by `2` and the `oceans list by 3`:"
   ]
  },
  {
   "cell_type": "code",
   "execution_count": null,
   "id": "738e099a",
   "metadata": {},
   "outputs": [],
   "source": [
    "print(sea_creatures * 2)\n",
    "print(oceans * 3)"
   ]
  },
  {
   "cell_type": "markdown",
   "id": "62950bc5",
   "metadata": {},
   "source": [
    "By using the `*` operator we can replicate our lists by the number of times we specify.\n",
    "\n",
    "We can also use compound forms of the `+` and `*` operators with the assignment operator `=`. The `+=` and `*=` compound operators can be used to populate lists in a quick and automated way. You can use these operators to fill in lists with placeholders that you can modify at a later time with user-provided input, for example.\n",
    "\n",
    "Let’s add an item in list form to the list `sea_creatures`. This item will act as a placeholder, and we’d like to add this placeholder item several times. To do this, we’ll use the `+=` operator with a `for loop`."
   ]
  },
  {
   "cell_type": "code",
   "execution_count": null,
   "id": "75ef98de",
   "metadata": {},
   "outputs": [],
   "source": [
    "for x in range(1,4):\n",
    "    sea_creatures += ['fish']\n",
    "    print(sea_creatures)"
   ]
  },
  {
   "cell_type": "markdown",
   "id": "ecac12f0",
   "metadata": {},
   "source": [
    "For each iteration of the for loop, an extra list item of 'fish' is added to the original list sea_creatures.\n",
    "`sea_creatures += ['fish']` is the same as `sea_creatures = sea_creatures + ['fish']`\n",
    "\n",
    "The `*=` operator behaves in a similar way:\n",
    "\n",
    "We will talk more about a `for loop` in later exercise"
   ]
  },
  {
   "cell_type": "code",
   "execution_count": null,
   "id": "675d2ff2",
   "metadata": {},
   "outputs": [],
   "source": [
    "sharks = ['shark']\n",
    "\n",
    "for x in range(1,4):\n",
    "    sharks *= 2\n",
    "    print(sharks)"
   ]
  },
  {
   "cell_type": "markdown",
   "id": "725c4303",
   "metadata": {},
   "source": [
    "`sharks *= 2` is the same as `sharks = shark * 2`"
   ]
  },
  {
   "cell_type": "markdown",
   "id": "5704574a",
   "metadata": {},
   "source": [
    "#### List Methods\n"
   ]
  },
  {
   "cell_type": "markdown",
   "id": "83c34eb9",
   "metadata": {},
   "source": [
    "Python provides methods that operate on lists. For example, **append** adds a new element to the end of a list:\n"
   ]
  },
  {
   "cell_type": "code",
   "execution_count": null,
   "id": "5faa2a4b",
   "metadata": {},
   "outputs": [],
   "source": [
    "t = ['a', 'b', 'c']\n",
    "t.append('d')\n",
    "t"
   ]
  },
  {
   "cell_type": "markdown",
   "id": "1ebed371",
   "metadata": {},
   "source": [
    "**extend** takes a list as an argument and appends all of the elements:"
   ]
  },
  {
   "cell_type": "code",
   "execution_count": 5,
   "id": "4484ac9f",
   "metadata": {},
   "outputs": [
    {
     "data": {
      "text/plain": [
       "['a', 'b', 'c', 'd', 'e']"
      ]
     },
     "execution_count": 5,
     "metadata": {},
     "output_type": "execute_result"
    }
   ],
   "source": [
    "t1 = ['a', 'b', 'c']\n",
    "t2 = ['d', 'e']\n",
    "t1.extend(t2)\n",
    "t1\n"
   ]
  },
  {
   "cell_type": "markdown",
   "id": "c180cbfd",
   "metadata": {},
   "source": [
    "This example leaves `t2` unmodified.\n",
    "sort arranges the elements of the list from low to high:\n"
   ]
  },
  {
   "cell_type": "code",
   "execution_count": null,
   "id": "03a7b7c9",
   "metadata": {},
   "outputs": [],
   "source": [
    "t = ['d', 'c', 'e', 'b', 'a']\n",
    "t.sort()\n",
    "t"
   ]
  },
  {
   "cell_type": "markdown",
   "id": "587aa1c1",
   "metadata": {},
   "source": [
    "Most `list` methods are void; they modify the `list and return None`. If you accidentally\n",
    "write `t = t.sort()`, you will be disappointed with the result"
   ]
  },
  {
   "cell_type": "markdown",
   "id": "ac340efe",
   "metadata": {},
   "source": [
    "#### Deleting Elements\n",
    "There are several ways to delete elements from a list. If you know the index of the\n",
    "element you want, you can use `pop`"
   ]
  },
  {
   "cell_type": "code",
   "execution_count": 8,
   "id": "5cd2783a",
   "metadata": {},
   "outputs": [
    {
     "data": {
      "text/plain": [
       "['a', 'c']"
      ]
     },
     "execution_count": 8,
     "metadata": {},
     "output_type": "execute_result"
    }
   ],
   "source": [
    "t = ['a', 'b', 'c']\n",
    "x = t.pop(1)\n",
    "t\n",
    "\n"
   ]
  },
  {
   "cell_type": "code",
   "execution_count": 9,
   "id": "923b8bf2",
   "metadata": {},
   "outputs": [
    {
     "data": {
      "text/plain": [
       "'b'"
      ]
     },
     "execution_count": 9,
     "metadata": {},
     "output_type": "execute_result"
    }
   ],
   "source": [
    "x\n"
   ]
  },
  {
   "cell_type": "markdown",
   "id": "6818b317",
   "metadata": {},
   "source": [
    "`pop` modifies the `list` and returns the element that was removed. If you don’t provide\n",
    "an `index`, it **deletes and returns the last element**."
   ]
  },
  {
   "cell_type": "markdown",
   "id": "27071800",
   "metadata": {},
   "source": [
    "Items can be removed from lists by using the `del` statement. This will delete the value at the index number you specify within a list.\n",
    "\n",
    "From the `sea_creatures list`, let’s remove the item `'octopus'`. This item is located at the `index` position of `1`. To remove the item, we’ll use the `del` statement then call the list variable and the index number of that item:"
   ]
  },
  {
   "cell_type": "code",
   "execution_count": null,
   "id": "3f60785c",
   "metadata": {},
   "outputs": [],
   "source": [
    "del sea_creatures[1]\n",
    "print(sea_creatures)"
   ]
  },
  {
   "cell_type": "markdown",
   "id": "f8442be7",
   "metadata": {},
   "source": [
    "Now the item at index position `1`, the string `'octopus'`, is no longer in our list `sea_creatures`.\n",
    "\n",
    "We can also specify a `range` with the `del` statement. Say we wanted to remove not only the item `'octopus'`, but also `'blobfish'` and `'mantis shrimp'` as well. We can call a range in sea_creatures with the del statement to accomplish this:"
   ]
  },
  {
   "cell_type": "code",
   "execution_count": null,
   "id": "a87e677a",
   "metadata": {},
   "outputs": [],
   "source": [
    "sea_creatures =['shark', 'octopus', 'blobfish', 'mantis shrimp', 'anemone', 'yeti crab']\n",
    "\n",
    "del sea_creatures[1:4]\n",
    "print(sea_creatures)"
   ]
  },
  {
   "cell_type": "markdown",
   "id": "4468ceff",
   "metadata": {},
   "source": [
    "By using a range with the `del` statement, we were able to remove the `items` between the index number of `1` **(inclusive)**, and the index number of `4` **(exclusive)**, leaving us with a list of 3 items following the removal of 3 items.\n",
    "\n",
    "The `del` statement allows us to remove specific items from the list data type."
   ]
  },
  {
   "cell_type": "markdown",
   "id": "be1aef00",
   "metadata": {},
   "source": [
    "If you know the element you want to remove (but not the index), you can use `remove`:\n"
   ]
  },
  {
   "cell_type": "code",
   "execution_count": 10,
   "id": "2f3e71a5",
   "metadata": {},
   "outputs": [
    {
     "data": {
      "text/plain": [
       "['a', 'c']"
      ]
     },
     "execution_count": 10,
     "metadata": {},
     "output_type": "execute_result"
    }
   ],
   "source": [
    "t = ['a', 'b', 'c']\n",
    "t.remove('b')\n",
    "t"
   ]
  },
  {
   "cell_type": "markdown",
   "id": "4a29e2e8",
   "metadata": {},
   "source": [
    "#### Lists and Strings\n"
   ]
  },
  {
   "cell_type": "markdown",
   "id": "a4b10e93",
   "metadata": {},
   "source": [
    "A string is a **sequence of characters** and a list is a **sequence of values**, but a list of characters is not the same as a string. To convert from a string to a list of characters, you can use list:"
   ]
  },
  {
   "cell_type": "code",
   "execution_count": null,
   "id": "87757f37",
   "metadata": {},
   "outputs": [],
   "source": [
    "s = 'spam'\n",
    "t = list(s)\n",
    "t"
   ]
  },
  {
   "cell_type": "markdown",
   "id": "aa840537",
   "metadata": {},
   "source": [
    "Because `list` is the name of a built-in function, you should **avoid using it as a variable name**. I also avoid `l `because it looks too much like `1`. So that’s why I use `t`.\n",
    "The list function breaks a string into individual letters. If you want to break a string\n",
    "into words, you can use the split method:\n"
   ]
  },
  {
   "cell_type": "code",
   "execution_count": null,
   "id": "3d4aa7b3",
   "metadata": {},
   "outputs": [],
   "source": [
    "s = 'pining for the fjords'\n",
    "t = s.split()\n",
    "t\n"
   ]
  },
  {
   "cell_type": "markdown",
   "id": "2aa563f9",
   "metadata": {},
   "source": [
    "An optional argument called a **delimiter** specifies which characters to use as word\n",
    "boundaries. The following example uses a hyphen as a delimiter:\n"
   ]
  },
  {
   "cell_type": "code",
   "execution_count": null,
   "id": "ea50c326",
   "metadata": {},
   "outputs": [],
   "source": [
    "s = 'spam-spam-spam'\n",
    "delimiter = '-'\n",
    "t = s.split(delimiter)\n",
    "t"
   ]
  },
  {
   "cell_type": "markdown",
   "id": "5add8628",
   "metadata": {},
   "source": [
    "**join** is the inverse of split. It takes a list of strings and concatenates the elements.\n",
    "join is a string method, so you have to invoke it on the delimiter and pass the list as a\n",
    "parameter:\n"
   ]
  },
  {
   "cell_type": "code",
   "execution_count": null,
   "id": "a819c1f2",
   "metadata": {},
   "outputs": [],
   "source": [
    "t = ['pining', 'for', 'the', 'fjords']\n",
    "delimiter = ' '\n",
    "s = delimiter.join(t)\n",
    "s\n"
   ]
  },
  {
   "cell_type": "markdown",
   "id": "c160a245",
   "metadata": {},
   "source": [
    "In this case the **delimiter** is a space character, so join puts a space between words. To\n",
    "concatenate strings without spaces, you can use the empty string, '', as a delimiter.\n"
   ]
  },
  {
   "cell_type": "markdown",
   "id": "fee2b3f2",
   "metadata": {},
   "source": [
    "#### Aliasing\n",
    "If `a` refers to an `object` and you assign `b = a`, then both variables refer to the same\n",
    "object:"
   ]
  },
  {
   "cell_type": "code",
   "execution_count": null,
   "id": "34470573",
   "metadata": {},
   "outputs": [],
   "source": [
    "a = [1, 2, 3]\n",
    "b = a\n",
    "b is a\n"
   ]
  },
  {
   "cell_type": "markdown",
   "id": "6aac648c",
   "metadata": {},
   "source": [
    "The **association of a variable** with an object is called a **reference**. In this example,\n",
    "there are two references to the same object.\n",
    "An object with **more than one reference** has more than one name, so we say that the\n",
    "object is **aliased**.\n",
    "If the aliased object is mutable, changes made with one alias affect the other:\n"
   ]
  },
  {
   "cell_type": "code",
   "execution_count": null,
   "id": "e27bbf4c",
   "metadata": {},
   "outputs": [],
   "source": [
    "b[0] = 42\n",
    "a"
   ]
  },
  {
   "cell_type": "markdown",
   "id": "649f99ff",
   "metadata": {},
   "source": [
    "Although this behavior can be useful, it is **error-prone**. In general, it is safer to avoid\n",
    "aliasing when you are working with mutable objects.\n",
    "For immutable objects like strings, aliasing is not as much of a problem. In this example:"
   ]
  },
  {
   "cell_type": "code",
   "execution_count": null,
   "id": "d6b71596",
   "metadata": {},
   "outputs": [],
   "source": [
    "a = 'banana'\n",
    "b = 'banana'"
   ]
  },
  {
   "cell_type": "markdown",
   "id": "69869ba3",
   "metadata": {},
   "source": [
    "It almost never makes a difference whether a and b refer to the same string or not"
   ]
  },
  {
   "cell_type": "markdown",
   "id": "1471d413",
   "metadata": {},
   "source": [
    "### Debugging\n",
    "Careless use of lists (and other mutable objects) can lead to long hours of debugging.\n",
    "Here are some common pitfalls and ways to avoid them:\n",
    "\n",
    " 1. Most list methods modify the argument and return **None**. This is the opposite of\n",
    "the string methods, which return a new string and leave the original alone.\n",
    "If you are used to writing string code like this:\n"
   ]
  },
  {
   "cell_type": "code",
   "execution_count": null,
   "id": "5250fa2c",
   "metadata": {},
   "outputs": [],
   "source": [
    "word = word.strip()"
   ]
  },
  {
   "cell_type": "markdown",
   "id": "ce730e73",
   "metadata": {},
   "source": [
    "It is tempting to write list code like this:"
   ]
  },
  {
   "cell_type": "code",
   "execution_count": null,
   "id": "d3ac5c1e",
   "metadata": {},
   "outputs": [],
   "source": [
    "t = t.sort() # WRONG!"
   ]
  },
  {
   "cell_type": "markdown",
   "id": "9761a581",
   "metadata": {},
   "source": [
    "Because **sort** returns `None`, the next operation you perform with t is likely to fail.\n",
    "Before using **list methods and operators**, you should read the documentation\n",
    "carefully and then test them in interactive mode.\n",
    "\n",
    "2. Pick an idiom and stick with it.Part of the problem with lists is that there are too many ways to do things. For\n",
    "example, to remove an element from a list, you can use `pop, remove, del, or even\n",
    "a slice assignment`.\n",
    "To add an element, you can use the `append` method or the `+` operator. Assuming\n",
    "that `t` is a list and `x` is a list element, these are correct:"
   ]
  },
  {
   "cell_type": "code",
   "execution_count": null,
   "id": "6a8a5384",
   "metadata": {},
   "outputs": [],
   "source": [
    "t.append(x)\n",
    "t = t + [x]\n",
    "t += [x]\n"
   ]
  },
  {
   "cell_type": "markdown",
   "id": "e0ee195d",
   "metadata": {},
   "source": [
    "And these are wrong:"
   ]
  },
  {
   "cell_type": "code",
   "execution_count": null,
   "id": "a460f592",
   "metadata": {},
   "outputs": [],
   "source": [
    "t.append([x]) # WRONG!\n",
    "t = t.append(x) # WRONG!\n",
    "t + [x] # WRONG!\n",
    "t = t + x # WRONG!"
   ]
  },
  {
   "cell_type": "markdown",
   "id": "dbc484e0",
   "metadata": {},
   "source": [
    "Try out each of these examples in interactive mode to make sure you understand\n",
    "what they do. Notice that only the last one causes a runtime error; the other three\n",
    "are legal, but they do the wrong thing"
   ]
  },
  {
   "cell_type": "markdown",
   "id": "fee3d817",
   "metadata": {},
   "source": [
    "3. Make copies to avoid aliasing.\n",
    "If you want to use a method like `sort` that modifies the argument, but you need\n",
    "to keep the original list as well, you can make a `copy`:"
   ]
  },
  {
   "cell_type": "code",
   "execution_count": 13,
   "id": "49a95a7d",
   "metadata": {},
   "outputs": [
    {
     "name": "stdout",
     "output_type": "stream",
     "text": [
      "[3, 1, 2]\n",
      "[1, 2, 3]\n"
     ]
    }
   ],
   "source": [
    "t = [3, 1, 2]\n",
    "t2 = t[:]\n",
    "t2.sort()\n",
    "print(t)\n",
    "print(t2)\n"
   ]
  },
  {
   "cell_type": "markdown",
   "id": "d0ef79e8",
   "metadata": {},
   "source": [
    "In this example you could also use the built-in function sorted, which returns a\n",
    "new, sorted list and leaves the original alone:"
   ]
  },
  {
   "cell_type": "code",
   "execution_count": null,
   "id": "262e4458",
   "metadata": {},
   "outputs": [],
   "source": [
    "t2 = sorted(t)\n",
    "print(t)\n",
    "print(t2)"
   ]
  },
  {
   "cell_type": "markdown",
   "id": "cf251105",
   "metadata": {},
   "source": [
    "### Bug-Fixing Exercises"
   ]
  },
  {
   "cell_type": "markdown",
   "id": "14ceaf0b",
   "metadata": {},
   "source": [
    "#### Bug-Fixing Exercise 1\n",
    "The code below tries to extract `'b'` from the list, but there is an **error**. Try to fix the code.\n",
    "\n"
   ]
  },
  {
   "cell_type": "code",
   "execution_count": null,
   "id": "46a41b47",
   "metadata": {},
   "outputs": [],
   "source": [
    "elements = ['a', 'b', 'c']\n",
    "print(elements(1))"
   ]
  },
  {
   "cell_type": "markdown",
   "id": "e4879592",
   "metadata": {},
   "source": [
    "#### Bug-Fixing Exercise 2\n",
    "The code below aims to update `'b'` with `'x'` in elements. However, the output of the code is still `['a', 'b', 'c']`. Try to fix the code so `'b'` is replaced with `'x'`.\n"
   ]
  },
  {
   "cell_type": "code",
   "execution_count": null,
   "id": "64f6b905",
   "metadata": {},
   "outputs": [],
   "source": [
    "elements = ['a', 'b', 'c']\n",
    "new = 'x'\n",
    "new = elements[1]\n",
    "print(elements)"
   ]
  }
 ],
 "metadata": {
  "kernelspec": {
   "display_name": "Python 3 (ipykernel)",
   "language": "python",
   "name": "python3"
  },
  "language_info": {
   "codemirror_mode": {
    "name": "ipython",
    "version": 3
   },
   "file_extension": ".py",
   "mimetype": "text/x-python",
   "name": "python",
   "nbconvert_exporter": "python",
   "pygments_lexer": "ipython3",
   "version": "3.9.12"
  }
 },
 "nbformat": 4,
 "nbformat_minor": 5
}
