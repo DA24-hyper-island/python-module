{
 "cells": [
  {
   "cell_type": "code",
   "execution_count": null,
   "id": "abbb1d80",
   "metadata": {},
   "outputs": [],
   "source": []
  },
  {
   "cell_type": "markdown",
   "id": "c4f7ae9a",
   "metadata": {},
   "source": [
    "## Data Structures as Collections and their Operations.\n",
    "\n",
    "We have understood the fundamentals, let us layer the fundamentals on each other to derive secondary complex patterns.\n",
    "\n",
    "1. Lists - list operations.\n",
    "2. Tuples - tuple operations.\n",
    "3. Sets - set operations.\n",
    "4. Dictionaries - dictionary operations.\n",
    "5. Collection operations - converting data structures.\n",
    "6. Further characteristics.\n",
    "7. Debugging.\n",
    "8. Why!!"
   ]
  },
  {
   "cell_type": "markdown",
   "id": "54a181c2",
   "metadata": {},
   "source": [
    "### Lists"
   ]
  },
  {
   "cell_type": "markdown",
   "id": "64d6de05",
   "metadata": {},
   "source": [
    "**A List Is a Sequence**\n",
    "\n",
    "Like a string, a list is a sequence of values. In a string, the values are characters; in a\n",
    "list, they can be any type. The values in a list are called elements or sometimes items.\n",
    "There are several ways to create a new list; the simplest is to enclose the elements in\n",
    "square brackets (`[ and ]`):\n",
    "\n",
    "`[10, 20, 30, 40]`\n",
    "\n",
    "`['crunchy frog', 'ram bladder', 'lark vomit']`\n",
    "\n",
    "The first example is a list of four integers. The second is a list of three strings. The\n",
    "elements of a list don’t have to be the same type. The following list contains a string, a\n",
    "float, an integer, and (lo!) another list:\n",
    "`['spam', 2.0, 5, [10, 20]]`\n",
    "\n",
    "A list within another list is nested.\n",
    "\n",
    "A list that contains no elements is called an empty list; you can create one with ***empty\n",
    "brackets**, `[]`.\n",
    "\n",
    "As you might expect, you can assign list values to variables:\n",
    "\n",
    "\n"
   ]
  },
  {
   "cell_type": "code",
   "execution_count": 1,
   "id": "88771ed1",
   "metadata": {},
   "outputs": [
    {
     "name": "stdout",
     "output_type": "stream",
     "text": [
      "['Cheddar', 'Edam', 'Gouda'] [42, 123] []\n"
     ]
    }
   ],
   "source": [
    "cheeses = ['Cheddar', 'Edam', 'Gouda']\n",
    "numbers = [42, 123]\n",
    "empty = []\n",
    "print(cheeses, numbers, empty)"
   ]
  },
  {
   "cell_type": "markdown",
   "id": "672474df",
   "metadata": {},
   "source": [
    "### String Lists\n",
    "\n",
    "To get started, let’s deepdive into string "
   ]
  },
  {
   "cell_type": "markdown",
   "id": "1f461a72",
   "metadata": {},
   "source": [
    "#### A String Is a Sequence\n",
    "\n",
    "A string is a sequence of characters. You can access the characters one at a time with the bracket operator:\n"
   ]
  },
  {
   "cell_type": "code",
   "execution_count": null,
   "id": "27281411",
   "metadata": {},
   "outputs": [],
   "source": [
    "fruit = 'banana'\n",
    "letter = fruit[1]"
   ]
  },
  {
   "cell_type": "markdown",
   "id": "71f5eadc",
   "metadata": {},
   "source": [
    "The second statement selects character number `1` from `fruit` and assigns it to `letter`.\n",
    "\n",
    "The expression in brackets is called an `index`. The `index` indicates which character in the `sequence` you want **(hence the name)**.\n",
    "\n",
    "But you might not get what you expect:"
   ]
  },
  {
   "cell_type": "code",
   "execution_count": null,
   "id": "04c3bbfb",
   "metadata": {},
   "outputs": [],
   "source": [
    "print(letter)"
   ]
  },
  {
   "cell_type": "markdown",
   "id": "2cc5855e",
   "metadata": {},
   "source": [
    "For most people, `the first letter of` **'banana'** is *b*, not *a*. But for computer scientists,\n",
    "the index is an offset from the beginning of the string, and the offset of the first letter\n",
    "is **zero**."
   ]
  },
  {
   "cell_type": "code",
   "execution_count": null,
   "id": "c81f8ecb",
   "metadata": {},
   "outputs": [],
   "source": [
    "letter = fruit[0]\n",
    "letter"
   ]
  },
  {
   "cell_type": "markdown",
   "id": "62dbe680",
   "metadata": {},
   "source": [
    "So `b` is the `0th` letter **(“zero-eth”)** of **'banana'**, `a` is the `1th` letter **(“one-eth”)**, and `n` is\n",
    "the `2th` letter **(“two-eth”)**.\n",
    "As an index, you can use an expression that contains variables and operators:\n"
   ]
  },
  {
   "cell_type": "code",
   "execution_count": null,
   "id": "d0143dbf",
   "metadata": {},
   "outputs": [],
   "source": [
    "i = 1\n",
    "fruit[i]"
   ]
  },
  {
   "cell_type": "code",
   "execution_count": null,
   "id": "5049d6b9",
   "metadata": {},
   "outputs": [],
   "source": [
    "fruit[i+1]"
   ]
  },
  {
   "cell_type": "code",
   "execution_count": null,
   "id": "638eea26",
   "metadata": {},
   "outputs": [],
   "source": [
    "letter = fruit[1.5]\n",
    "print(letter)"
   ]
  },
  {
   "cell_type": "markdown",
   "id": "06fea2c3",
   "metadata": {},
   "source": [
    "The value of the index has to be an integer. Otherwise you get:\n",
    "`TypeError: string indices must be integer`"
   ]
  },
  {
   "cell_type": "markdown",
   "id": "e5d9335b",
   "metadata": {},
   "source": [
    "**len**\n",
    "\n",
    "len is a built-in function that returns the number of characters in a string:"
   ]
  },
  {
   "cell_type": "code",
   "execution_count": null,
   "id": "e4d02fa8",
   "metadata": {},
   "outputs": [],
   "source": [
    "fruit = 'banana'\n",
    "len(fruit)"
   ]
  },
  {
   "cell_type": "markdown",
   "id": "f42cf533",
   "metadata": {},
   "source": [
    "To get the last letter of a string, you might be tempted to try something like this:"
   ]
  },
  {
   "cell_type": "code",
   "execution_count": null,
   "id": "d5921ea1",
   "metadata": {},
   "outputs": [],
   "source": [
    "length = len(fruit)\n",
    "last = fruit[length]"
   ]
  },
  {
   "cell_type": "markdown",
   "id": "b3b3eac6",
   "metadata": {},
   "source": [
    "`IndexError: string index out of range`\n",
    "    \n",
    "The reason for the `IndexError` is that there is no **letter in 'banana'** with the index `6`.\n",
    "Since we started counting at `zero`, the `six letters` are numbered `0 to 5`. To get the last\n",
    "character, you have to **subtract 1 from length**:"
   ]
  },
  {
   "cell_type": "code",
   "execution_count": null,
   "id": "f05e2754",
   "metadata": {},
   "outputs": [],
   "source": [
    "last = fruit[length-1]\n",
    "last"
   ]
  },
  {
   "cell_type": "markdown",
   "id": "720f3072",
   "metadata": {},
   "source": [
    "Or you can use negative indices, which count backward from the end of the string.\n",
    "The expression `fruit[-1]` yields the last letter, `fruit[-2]` yields the second to last,\n",
    "and so on"
   ]
  },
  {
   "cell_type": "markdown",
   "id": "cd0b196b",
   "metadata": {},
   "source": [
    "**String Slices**\n",
    "\n",
    "A segment of a string is called a `slice`. Selecting a `slice` is similar to selecting a character"
   ]
  },
  {
   "cell_type": "code",
   "execution_count": 2,
   "id": "6893ebe8",
   "metadata": {},
   "outputs": [
    {
     "data": {
      "text/plain": [
       "'Monty'"
      ]
     },
     "execution_count": 2,
     "metadata": {},
     "output_type": "execute_result"
    }
   ],
   "source": [
    "s = 'Monty Python'\n",
    "s[0:5]"
   ]
  },
  {
   "cell_type": "code",
   "execution_count": null,
   "id": "49464fd5",
   "metadata": {},
   "outputs": [],
   "source": [
    "s[6:12]"
   ]
  },
  {
   "cell_type": "markdown",
   "id": "49e3cb3a",
   "metadata": {},
   "source": [
    "The operator `[n:m]` returns the part of the string from the **“n-eth”** character to the\n",
    "**“m-eth”** character, including the first but excluding the last. This behavior is counter‐\n",
    "intuitive, but it might help to imagine the indices pointing between the characters, as\n",
    "in Table.\n",
    "\n",
    "|‘B’\t|‘a’\t|‘n’\t|‘a’\t|‘n’ |‘a’\n",
    "-----|-----|----- |----- |-----  |-----\n",
    "|0\t|1\t|2\t|3\t|4 | 5\n",
    "\n",
    "If you omit the first index **(before the colon)**, the slice starts at the beginning of the\n",
    "string. If you omit the **second index**, the slice goes to the end of the string:"
   ]
  },
  {
   "cell_type": "code",
   "execution_count": null,
   "id": "c81f8edc",
   "metadata": {},
   "outputs": [],
   "source": [
    "fruit = 'banana'\n",
    "fruit[:3]"
   ]
  },
  {
   "cell_type": "code",
   "execution_count": null,
   "id": "d128de2b",
   "metadata": {},
   "outputs": [],
   "source": [
    "fruit[3:]"
   ]
  },
  {
   "cell_type": "markdown",
   "id": "7fbddf42",
   "metadata": {},
   "source": [
    "If the first index is **greater than or equal to the second** the result is an empty string,\n",
    "represented by two quotation marks:"
   ]
  },
  {
   "cell_type": "code",
   "execution_count": null,
   "id": "1afb93ed",
   "metadata": {},
   "outputs": [],
   "source": [
    "fruit = 'banana'\n",
    "fruit[3:3]"
   ]
  },
  {
   "cell_type": "markdown",
   "id": "a6b41179",
   "metadata": {},
   "source": [
    "An **empty string** contains no characters and has **length 0**, but other than that, it is the same as any other string.\n",
    "Continuing this example, what do you think `fruit[:]` means? Try it and see."
   ]
  },
  {
   "cell_type": "markdown",
   "id": "d267d204",
   "metadata": {},
   "source": [
    "**Strings Are Immutable**\n",
    "\n",
    "It is tempting to use the `[]` operator on the left side of an assignment, with the intention of changing a character in a string. For example:\n"
   ]
  },
  {
   "cell_type": "code",
   "execution_count": 4,
   "id": "01cca72d",
   "metadata": {},
   "outputs": [],
   "source": [
    "greeting = 'Hello, world!'\n",
    "greeting[0] = 'J'"
   ]
  },
  {
   "cell_type": "markdown",
   "id": "291c6f6f",
   "metadata": {},
   "source": [
    "`TypeError: 'str' object does not support item assignment`\n",
    "    \n",
    "The reason for the error is that strings are **immutable**, which means you **can’t change\n",
    "an existing string**. The best you can do is create a new string that is a variation on the\n",
    "original:\n"
   ]
  },
  {
   "cell_type": "code",
   "execution_count": null,
   "id": "b11363c7",
   "metadata": {},
   "outputs": [],
   "source": [
    "greeting = 'Hello, world!'\n",
    "new_greeting = 'J' + greeting[1:]\n",
    "new_greeting"
   ]
  },
  {
   "cell_type": "markdown",
   "id": "d9ff89fe",
   "metadata": {},
   "source": [
    "This example concatenates a new **first letter** onto a **slice of greeting**. It has no effect\n",
    "on the original string"
   ]
  },
  {
   "cell_type": "markdown",
   "id": "2393b64c",
   "metadata": {},
   "source": [
    "#### Creating a list that contains items of the string data type"
   ]
  },
  {
   "cell_type": "code",
   "execution_count": null,
   "id": "c5a55ad1",
   "metadata": {},
   "outputs": [],
   "source": [
    "sea_creatures = ['shark', 'cuttlefish', 'squid', 'mantis shrimp', 'anemone']\n",
    "print(sea_creatures)"
   ]
  },
  {
   "cell_type": "markdown",
   "id": "acc70ac6",
   "metadata": {},
   "source": [
    "As an ordered sequence of elements, each item in a list can be called individually, through indexing. Lists are a compound data type made up of smaller parts, and are very flexible because they can have values added, removed, and changed. When you need to store a lot of values or iterate over values, and you want to be able to readily modify those values, you’ll likely want to work with list data types."
   ]
  },
  {
   "cell_type": "markdown",
   "id": "f1963d7d",
   "metadata": {},
   "source": [
    "**Indexing Lists**\n",
    "\n",
    "Each item in a list corresponds to an index number, which is an integer value, starting with the index number 0.\n",
    "\n",
    "For the list sea_creatures, the index breakdown looks like this:\n",
    "\n",
    "|‘shark’\t|‘cuttlefish’\t|‘squid’\t|‘mantis shrimp’\t|‘anemone’\n",
    "-----|-----|----- |----- |-----\n",
    "|0\t|1\t|2\t|3\t|4\n",
    "\n",
    "\n",
    "The first item, the string **'shark'** starts at index `0`, and the list ends at index `4` with the item **'anemone'**.\n",
    "\n",
    "Because each item in a Python list has a corresponding index number, we’re able to access and manipulate lists in the same ways we can with other sequential data types.\n",
    "\n",
    "Now we can call a discrete item of the list by referring to its index number:"
   ]
  },
  {
   "cell_type": "code",
   "execution_count": null,
   "id": "c00107fd",
   "metadata": {},
   "outputs": [],
   "source": [
    "print(sea_creatures[1])"
   ]
  },
  {
   "cell_type": "markdown",
   "id": "613d1b28",
   "metadata": {},
   "source": [
    "The index numbers for this list range from `0-4`, as shown in the table above. So to call any of the items individually, we would refer to the index numbers like this:\n",
    "\n",
    "* `sea_creatures[0] = 'shark'`\n",
    "* `sea_creatures[1] = 'cuttlefish'`\n",
    "* `sea_creatures[2] = 'squid'`\n",
    "* `sea_creatures[3] = 'mantis shrimp'`\n",
    "* `sea_creatures[4] = 'anemone'`\n",
    "\n",
    "If we call the list sea_creatures with an index number of any that is **greater than 4**, it will be out of range as it will not be valid:"
   ]
  },
  {
   "cell_type": "code",
   "execution_count": null,
   "id": "26fe3c75",
   "metadata": {},
   "outputs": [],
   "source": [
    "print(sea_creatures[18])"
   ]
  },
  {
   "cell_type": "markdown",
   "id": "a86cb27d",
   "metadata": {},
   "source": [
    "In addition to positive index numbers, we can also access items from the list with a negative index number, by counting backwards from the end of the list, starting at -1. This is especially useful if we have a long list and we want to pinpoint an item towards the end of a list.\n",
    "\n",
    "For the same list sea_creatures, the negative index breakdown looks like this:\n",
    "\n",
    "|‘shark’\t|‘cuttlefish’\t|‘squid’\t|‘mantis shrimp’\t|‘anemone’\n",
    "-----|-----|----- |----- |-----\n",
    "|-5\t|-4\t|-3\t|-2\t|-1\n",
    "\n",
    "So, if we would like to print out the item `'squid'` by using its negative index number, we can do so like this:"
   ]
  },
  {
   "cell_type": "code",
   "execution_count": null,
   "id": "7eb63c2c",
   "metadata": {},
   "outputs": [],
   "source": [
    "print(sea_creatures[-3])"
   ]
  },
  {
   "cell_type": "markdown",
   "id": "4e4e99d4",
   "metadata": {},
   "source": [
    "We can concatenate string items in a list with other strings using the `+` operator:"
   ]
  },
  {
   "cell_type": "code",
   "execution_count": null,
   "id": "383c1b80",
   "metadata": {},
   "outputs": [],
   "source": [
    "print('Sammy is a ' + sea_creatures[0])"
   ]
  },
  {
   "cell_type": "markdown",
   "id": "8a3890a1",
   "metadata": {},
   "source": [
    "We were able to concatenate the string item at index number 0 with the string `'Sammy is a '`. We can also use the `+` operator to **concatenate 2 or more lists together**.\n",
    "\n",
    "With index numbers that correspond to items within a list, we’re able to access each item of a list discretely and work with those items."
   ]
  },
  {
   "cell_type": "markdown",
   "id": "c0210ca7",
   "metadata": {},
   "source": [
    "#### Lists Are Mutable\n",
    "\n",
    "The syntax for accessing the elements of a list is the same as for accessing the characters of a string the **bracket operator** `[]`. The expression inside the brackets specifies the\n",
    "index. Remember that the **indices start at 0**:\n"
   ]
  },
  {
   "cell_type": "code",
   "execution_count": null,
   "id": "e2ba153b",
   "metadata": {},
   "outputs": [],
   "source": [
    "sea_creatures[0]"
   ]
  },
  {
   "cell_type": "markdown",
   "id": "9ea2e7e4",
   "metadata": {},
   "source": [
    "Unlike strings, **lists are mutable**. When the bracket operator appears on the left side of\n",
    "an assignment, it identifies the element of the list that will be assigned:"
   ]
  },
  {
   "cell_type": "markdown",
   "id": "31946a56",
   "metadata": {},
   "source": [
    "**Modifying Items in Lists**\n",
    "\n",
    "We can use indexing to change items within the list, by setting an index number equal to a different value. This gives us greater control over lists as we are able to modify and update the items that they contain.\n",
    "\n",
    "If we want to change the string value of the item at index `1` from `'cuttlefish'` to `'octopus'`, we can do so like this:"
   ]
  },
  {
   "cell_type": "code",
   "execution_count": null,
   "id": "ce81a012",
   "metadata": {},
   "outputs": [],
   "source": [
    "sea_creatures[1] = 'octopus'"
   ]
  },
  {
   "cell_type": "markdown",
   "id": "4711f701",
   "metadata": {},
   "source": [
    "Now when we print `sea_creatures`, the list will be different:"
   ]
  },
  {
   "cell_type": "code",
   "execution_count": null,
   "id": "7ba49bda",
   "metadata": {},
   "outputs": [],
   "source": [
    "print(sea_creatures)"
   ]
  },
  {
   "cell_type": "markdown",
   "id": "cdd903cb",
   "metadata": {},
   "source": [
    "We can also change the value of an item by using a **negative index** number instead:"
   ]
  },
  {
   "cell_type": "code",
   "execution_count": null,
   "id": "dda5f238",
   "metadata": {},
   "outputs": [],
   "source": [
    "sea_creatures[-3] = 'blobfish'\n",
    "print(sea_creatures)"
   ]
  },
  {
   "cell_type": "markdown",
   "id": "ccc39b9c",
   "metadata": {},
   "source": [
    "Now `'blobfish'` has replaced `'squid'` at the negative index number of `-3` **(which corresponds to the positive index number of 2)**.\n",
    "\n",
    "Being able to modify items in lists gives us the ability to change and update lists in an efficient way."
   ]
  },
  {
   "cell_type": "markdown",
   "id": "6f577230",
   "metadata": {},
   "source": [
    "***Slicing Lists**\n",
    "\n",
    "We can also call out a few items from the list similar to String slicing. Let’s say we would like to only print the `middle items` of sea_creatures, we can do so by **creating a slice**. With slices, we can call multiple values by creating a range of index numbers separated by a colon `[x:y]`:"
   ]
  },
  {
   "cell_type": "code",
   "execution_count": null,
   "id": "fd656e6d",
   "metadata": {},
   "outputs": [],
   "source": [
    "print(sea_creatures[1:4])"
   ]
  },
  {
   "cell_type": "markdown",
   "id": "73554630",
   "metadata": {},
   "source": [
    "When creating a slice, as in `[1:4]`, the **first index number** is where the slice starts **(inclusive)**, and the **second index number** is where the slice ends **(exclusive)**, which is why in our example above the items at position, 1, 2, and 3 are the items that print out.\n",
    "\n",
    "If we want to include either end of the list, we can omit one of the numbers in the `list[x:y]` syntax. For example, if we want to **print the first 3 items of the list sea_creatures**— which would be `'shark', 'octopus', 'blobfish'` — we can do so by typing:"
   ]
  },
  {
   "cell_type": "code",
   "execution_count": null,
   "id": "eaa502c8",
   "metadata": {},
   "outputs": [],
   "source": []
  }
 ],
 "metadata": {
  "kernelspec": {
   "display_name": "Python 3 (ipykernel)",
   "language": "python",
   "name": "python3"
  },
  "language_info": {
   "codemirror_mode": {
    "name": "ipython",
    "version": 3
   },
   "file_extension": ".py",
   "mimetype": "text/x-python",
   "name": "python",
   "nbconvert_exporter": "python",
   "pygments_lexer": "ipython3",
   "version": "3.9.12"
  }
 },
 "nbformat": 4,
 "nbformat_minor": 5
}
