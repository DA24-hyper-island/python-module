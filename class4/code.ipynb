{
 "cells": [
  {
   "cell_type": "code",
   "execution_count": null,
   "id": "a2c1197f",
   "metadata": {},
   "outputs": [],
   "source": []
  },
  {
   "cell_type": "markdown",
   "id": "2ffc2111",
   "metadata": {},
   "source": [
    "### Functions.\n",
    "\n",
    "The bedrock of modular programming and code reusability. We try to ensure we keep by one of the fundamental rules of programming - Don’t Repeat Yourself (DRY).\n",
    "\n",
    "1. Function calls.\n",
    "2. Inbuilt functions - math, random, len, input, etc.\n",
    "3. Creating functions with operations.\n",
    "4. The flow of execution.\n",
    "5. Parameters and arguments.\n",
    "6. Localization of variables and parameters.\n",
    "7. Fruitful and void functions.\n",
    "8. Debugging.\n",
    "9. Why!!"
   ]
  },
  {
   "cell_type": "markdown",
   "id": "2e71a534",
   "metadata": {},
   "source": [
    "A **function** is a block of instructions that performs an action and, once defined, can be reused. Functions make code more modular, allowing you to use the same code over and over again.\n",
    "\n",
    "**Why Use Functions?**\n",
    "\n",
    "Think of a function as a box which performs a task. We give it an input and it returns an output.\n",
    "\n",
    "We don’t need to write the set of instructions again for a different input, we could just call the function again.\n",
    "\n",
    "Functions are useful because they make the code concise and simple. The primary benefits of using functions are:\n",
    "\n",
    "* Reusability: A function can be used over and over again. You do not have to write redundant code. For example, a sum() function could compute the sum of all the integers we provide it. We won’t have to write the summing operation ourselves each time.\n",
    "\n",
    "* Simplicity: Functions are easy to use and make the code readable. We only need to know the inputs and the purpose of the function without focusing on the inner workings. This abstraction allows us to focus more on gaining the output instead of figuring out how it was computed."
   ]
  },
  {
   "cell_type": "markdown",
   "id": "01ed3300",
   "metadata": {},
   "source": [
    "### Function Calls\n",
    "We have already seen one example of a function call:"
   ]
  },
  {
   "cell_type": "code",
   "execution_count": null,
   "id": "095d82e7",
   "metadata": {},
   "outputs": [],
   "source": [
    "type(42)"
   ]
  },
  {
   "cell_type": "markdown",
   "id": "a70b8432",
   "metadata": {},
   "source": [
    "The name of the function is type. The expression in parentheses is called the argument of the function. The result, for this function, is the type of the argument. It is common to say that a function “takes” an argument and `“returns”` a result. \n",
    "\n",
    "The result is also called the return value. Python provides functions that convert values from one type to another. The `int` function takes any value and converts it to an `integer`, if it can, or complains otherwise:"
   ]
  },
  {
   "cell_type": "code",
   "execution_count": null,
   "id": "28a682fc",
   "metadata": {},
   "outputs": [],
   "source": [
    "int('32')"
   ]
  },
  {
   "cell_type": "code",
   "execution_count": null,
   "id": "13b4acb9",
   "metadata": {},
   "outputs": [],
   "source": [
    "int('Hello')"
   ]
  },
  {
   "cell_type": "markdown",
   "id": "8f3e6e8b",
   "metadata": {},
   "source": [
    "`ValueError: invalid literal for int(): Hello`\n",
    "`int` can convert floating-point values to integers, but it doesn’t round off; it chops off\n",
    "the fraction part:"
   ]
  },
  {
   "cell_type": "code",
   "execution_count": null,
   "id": "2a58eecb",
   "metadata": {},
   "outputs": [],
   "source": [
    "int(3.99999)"
   ]
  },
  {
   "cell_type": "code",
   "execution_count": null,
   "id": "6d69f398",
   "metadata": {},
   "outputs": [],
   "source": [
    "int(-2.3)"
   ]
  },
  {
   "cell_type": "code",
   "execution_count": null,
   "id": "babaab0b",
   "metadata": {},
   "outputs": [],
   "source": [
    "`float` converts integers and strings to floating-point numbers:\n"
   ]
  }
 ],
 "metadata": {
  "kernelspec": {
   "display_name": "Python 3 (ipykernel)",
   "language": "python",
   "name": "python3"
  },
  "language_info": {
   "codemirror_mode": {
    "name": "ipython",
    "version": 3
   },
   "file_extension": ".py",
   "mimetype": "text/x-python",
   "name": "python",
   "nbconvert_exporter": "python",
   "pygments_lexer": "ipython3",
   "version": "3.9.12"
  }
 },
 "nbformat": 4,
 "nbformat_minor": 5
}
