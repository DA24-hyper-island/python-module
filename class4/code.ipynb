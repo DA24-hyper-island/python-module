{
 "cells": [
  {
   "cell_type": "markdown",
   "id": "f29468cd",
   "metadata": {},
   "source": [
    "<a href='https://ibb.co/W34pJdv'> <img src=\"https://i.ibb.co/z5THvLV/HI-Logotype-Black-high-res.jpg\" /></a>"
   ]
  },
  {
   "cell_type": "markdown",
   "id": "6b711321",
   "metadata": {},
   "source": [
    "### Functions.\n",
    "\n",
    "The bedrock of modular programming and code reusability. We try to ensure we keep by one of the fundamental rules of programming - Don’t Repeat Yourself (DRY).\n",
    "\n",
    "1. Function calls.\n",
    "2. Inbuilt functions - math, random, len, input, etc.\n",
    "3. Creating functions with operations.\n",
    "4. The flow of execution.\n",
    "5. Parameters and arguments.\n",
    "6. Localization of variables and parameters.\n",
    "7. Fruitful and void functions.\n",
    "8. Debugging.\n",
    "9. Why!!"
   ]
  },
  {
   "cell_type": "markdown",
   "id": "c986743c",
   "metadata": {},
   "source": [
    "A **function** is a block of instructions that performs an action and, once defined, can be reused. Functions make code more modular, allowing you to use the same code over and over again.\n",
    "\n",
    "**Why Use Functions?**\n",
    "\n",
    "Think of a function as a box which performs a task. We give it an input and it returns an output.\n",
    "\n",
    "We don’t need to write the set of instructions again for a different input, we could just call the function again.\n",
    "\n",
    "Functions are useful because they make the code concise and simple. The primary benefits of using functions are:\n",
    "\n",
    "* Reusability: A function can be used over and over again. You do not have to write redundant code. For example, a sum() function could compute the sum of all the integers we provide it. We won’t have to write the summing operation ourselves each time.\n",
    "\n",
    "* Simplicity: Functions are easy to use and make the code readable. We only need to know the inputs and the purpose of the function without focusing on the inner workings. This abstraction allows us to focus more on gaining the output instead of figuring out how it was computed."
   ]
  },
  {
   "cell_type": "markdown",
   "id": "ee6fd59c",
   "metadata": {},
   "source": [
    "### Function Calls\n",
    "We have already seen one example of a function call:"
   ]
  },
  {
   "cell_type": "code",
   "execution_count": null,
   "id": "e3e1319f",
   "metadata": {},
   "outputs": [],
   "source": [
    "type(42)"
   ]
  },
  {
   "cell_type": "markdown",
   "id": "b911c532",
   "metadata": {},
   "source": [
    "The name of the function is type. The expression in parentheses is called the argument of the function. The result, for this function, is the type of the argument. It is common to say that a function “takes” an argument and `“returns”` a result. \n",
    "\n",
    "The result is also called the return value. Python provides functions that convert values from one type to another. The `int` function takes any value and converts it to an `integer`, if it can, or complains otherwise:"
   ]
  },
  {
   "cell_type": "code",
   "execution_count": null,
   "id": "e3757fcc",
   "metadata": {},
   "outputs": [],
   "source": [
    "int('32')"
   ]
  },
  {
   "cell_type": "code",
   "execution_count": null,
   "id": "05c10823",
   "metadata": {},
   "outputs": [],
   "source": [
    "int('Hello')"
   ]
  },
  {
   "cell_type": "markdown",
   "id": "65ec5361",
   "metadata": {},
   "source": [
    "`ValueError: invalid literal for int(): Hello`\n",
    "`int` can convert floating-point values to integers, but it doesn’t round off; it chops off\n",
    "the fraction part:"
   ]
  },
  {
   "cell_type": "code",
   "execution_count": null,
   "id": "c7dcf2ea",
   "metadata": {},
   "outputs": [],
   "source": [
    "int(3.99999)"
   ]
  },
  {
   "cell_type": "code",
   "execution_count": null,
   "id": "013c4b5b",
   "metadata": {},
   "outputs": [],
   "source": [
    "int(-2.3)"
   ]
  },
  {
   "cell_type": "markdown",
   "id": "f59758d1",
   "metadata": {},
   "source": [
    "`float` converts integers and strings to floating-point numbers:"
   ]
  },
  {
   "cell_type": "code",
   "execution_count": null,
   "id": "b2ca6112",
   "metadata": {},
   "outputs": [],
   "source": [
    "float(32)"
   ]
  },
  {
   "cell_type": "code",
   "execution_count": null,
   "id": "80f901e5",
   "metadata": {},
   "outputs": [],
   "source": [
    "float('3.14159')"
   ]
  },
  {
   "cell_type": "markdown",
   "id": "a85eba2d",
   "metadata": {},
   "source": [
    "Finally, `str` converts its argument to a `string`:"
   ]
  },
  {
   "cell_type": "code",
   "execution_count": null,
   "id": "99f561b6",
   "metadata": {},
   "outputs": [],
   "source": [
    "str(32)"
   ]
  },
  {
   "cell_type": "code",
   "execution_count": null,
   "id": "38d808ea",
   "metadata": {},
   "outputs": [],
   "source": [
    "str(3.14159)"
   ]
  },
  {
   "cell_type": "markdown",
   "id": "24c67f2b",
   "metadata": {},
   "source": [
    "### Types of Functions in Python\n",
    "Functions are perhaps the most commonly used feature of Python. \n",
    "\n",
    "There are two basic types of functions in Python:\n",
    "\n",
    "* Built-in functions\n",
    "* User-defined functions\n",
    "`len()`, `min()`,`int()`,`float()` and `print()` are examples of built-in functions.\n",
    "\n",
    "**Built-in functions** are those that are already defined in Python libraries and we can call them directly. \n",
    "\n",
    "**User defined functions** are those that we define ourselves in our program and then call them wherever we want.\n",
    "\n",
    "The coolest feature, however, is that the language allows us to create our own functions that perform the tasks we require."
   ]
  },
  {
   "cell_type": "markdown",
   "id": "756d4613",
   "metadata": {},
   "source": [
    "**Built in functions**\n",
    "\n",
    "**Math Functions**\n",
    "\n",
    "Python has a math module that provides most of the familiar mathematical functions.\n",
    "A module is a file that contains a collection of related functions.\n",
    "Before we can use the functions in a module, we have to import it with an import\n",
    "statement:\n",
    "\n",
    "`import math`\n",
    "\n",
    "This statement creates a module object named math. If you display the module object, you get some information about it:\n",
    "\n",
    "`math`\n",
    "`<module 'math' (built-in)>`\n",
    "\n",
    "The module object contains the functions and variables defined in the module. To access one of the functions, you have to specify the name of the module and the nameof the function, separated by a dot (also known as a period). This format is called dot notation.\n"
   ]
  },
  {
   "cell_type": "code",
   "execution_count": null,
   "id": "9268326f",
   "metadata": {},
   "outputs": [],
   "source": [
    "import math\n",
    "ratio = signal_power / noise_power\n",
    "decibels = 10 * math.log10(ratio)\n",
    "radians = 0.7\n",
    "height = math.sin(radians)"
   ]
  },
  {
   "cell_type": "markdown",
   "id": "7a0e0072",
   "metadata": {},
   "source": [
    "The first example uses `math.log10` to compute a signal-to-noise ratio in decibels (assuming that signal_power and noise_power are defined). The math module also provides log, which computes logarithms base e.\n",
    "\n",
    "The second example finds the sine of radians. The name of the variable is a hint that sin and the other trigonometric functions (cos, tan, etc.) take arguments in radians. To convert from degrees to radians, divide by 180 and multiply by `π`:"
   ]
  },
  {
   "cell_type": "code",
   "execution_count": null,
   "id": "229fa735",
   "metadata": {},
   "outputs": [],
   "source": [
    "degrees = 45\n",
    "radians = degrees / 180.0 * math.pi\n",
    "math.sin(radians)"
   ]
  },
  {
   "cell_type": "markdown",
   "id": "47540828",
   "metadata": {},
   "source": [
    "The expression `math.pi` gets the variable pi from the math module. Its value is a floating-point approximation of π, accurate to about 15 digits.\n",
    "If you know trigonometry, you can check the previous result by comparing it to the\n",
    "square root of 2 divided by 2:"
   ]
  },
  {
   "cell_type": "code",
   "execution_count": null,
   "id": "af8e367a",
   "metadata": {},
   "outputs": [],
   "source": [
    "math.sqrt(2) / 2.0"
   ]
  },
  {
   "cell_type": "markdown",
   "id": "e53c74c8",
   "metadata": {},
   "source": [
    "**Composition**\n",
    "\n",
    "So far, we have looked at the elements of a program—variables, expressions, and statements—in isolation, without talking about how to combine them. One of the most useful features of programming languages is their ability to take\n",
    "small building blocks and compose them. For example, the argument of a function\n",
    "can be any kind of expression, including arithmetic operators:"
   ]
  },
  {
   "cell_type": "code",
   "execution_count": null,
   "id": "783cbed5",
   "metadata": {},
   "outputs": [],
   "source": [
    "x = math.sin(degrees / 360.0 * 2 * math.pi)\n",
    "\n",
    "x = math.exp(math.log(x+1))"
   ]
  },
  {
   "cell_type": "markdown",
   "id": "66cbc925",
   "metadata": {},
   "source": [
    "Almost anywhere you can put a value, you can put an arbitrary expression, with one\n",
    "exception: the left side of an assignment statement has to be a variable name. Any\n",
    "other expression on the left side is a syntax error (we will see exceptions to this rule\n",
    "later)."
   ]
  },
  {
   "cell_type": "code",
   "execution_count": null,
   "id": "b23dee49",
   "metadata": {},
   "outputs": [],
   "source": [
    "minutes = hours * 60 # right\n",
    "hours * 60 = minutes # wrong!"
   ]
  },
  {
   "cell_type": "markdown",
   "id": "8b7dea19",
   "metadata": {},
   "source": [
    "if you run the second line above you get an error `SyntaxError: can't assign to operator`"
   ]
  },
  {
   "cell_type": "markdown",
   "id": "4efe336c",
   "metadata": {},
   "source": [
    "**Creating Functions**\n",
    "\n",
    "So far, we have only been using the functions that come with Python, but it is also\n",
    "possible to add new functions. A function definition specifies the name of a new\n",
    "function and the sequence of statements that run when the function is called.\n",
    "Here is an example:"
   ]
  },
  {
   "cell_type": "code",
   "execution_count": null,
   "id": "1125e7ba",
   "metadata": {},
   "outputs": [],
   "source": [
    "def print_lyrics():\n",
    "    print(\"I'm a lumberjack, and I'm okay.\")\n",
    "    print(\"I sleep all night and I work all day.\")"
   ]
  },
  {
   "cell_type": "markdown",
   "id": "ab17a8db",
   "metadata": {},
   "source": [
    "**def** is a keyword that indicates that this is a function definition. The name of the\n",
    "function is print_lyrics. The rules for **function** names are the same as for variable\n",
    "names: \n",
    "1. letters, numbers and underscore are legal, first character can’t be a number. \n",
    "2. You can’t use a keyword as the name of a function\n",
    "3. Avoid having a variable and a function with the same name.\n",
    "4. The empty parentheses after the name indicate that this function doesn’t take any arguments.\n",
    "\n",
    "The first line of the function definition is called the header; the rest is called the\n",
    "body. **The header has to end with a colon** and the body has to be indented. By convention, **indentation is always four spaces**. The body can contain any number of statements.\n"
   ]
  },
  {
   "cell_type": "markdown",
   "id": "9b846fb0",
   "metadata": {},
   "source": [
    "Defining a `function` creates a function object, which has type function:"
   ]
  },
  {
   "cell_type": "code",
   "execution_count": null,
   "id": "411b8dbc",
   "metadata": {},
   "outputs": [],
   "source": [
    "print(print_lyrics)"
   ]
  },
  {
   "cell_type": "code",
   "execution_count": null,
   "id": "1c0594ff",
   "metadata": {},
   "outputs": [],
   "source": [
    "type(print_lyrics)"
   ]
  },
  {
   "cell_type": "markdown",
   "id": "d5b74333",
   "metadata": {},
   "source": [
    "The syntax for calling the new function is the same as for built-in functions:"
   ]
  },
  {
   "cell_type": "code",
   "execution_count": null,
   "id": "6aca1d34",
   "metadata": {},
   "outputs": [],
   "source": [
    "print_lyrics()"
   ]
  },
  {
   "cell_type": "markdown",
   "id": "b542def0",
   "metadata": {},
   "source": [
    "Once you have defined a function, you can use it inside another function. For example, to repeat the previous refrain, we could write a function called repeat_lyrics:"
   ]
  },
  {
   "cell_type": "code",
   "execution_count": null,
   "id": "6e129cf7",
   "metadata": {},
   "outputs": [],
   "source": [
    "def repeat_lyrics():\n",
    " print_lyrics()\n",
    " print_lyrics()"
   ]
  },
  {
   "cell_type": "markdown",
   "id": "052a2ccc",
   "metadata": {},
   "source": [
    "And then call repeat_lyrics:"
   ]
  },
  {
   "cell_type": "code",
   "execution_count": null,
   "id": "39fbd455",
   "metadata": {},
   "outputs": [],
   "source": [
    "repeat_lyrics()"
   ]
  },
  {
   "cell_type": "markdown",
   "id": "a43cee0c",
   "metadata": {},
   "source": [
    "**Definitions and Uses**\n",
    "\n",
    "Pulling together the code fragments from the previous section, the whole program\n",
    "looks like this:"
   ]
  },
  {
   "cell_type": "code",
   "execution_count": null,
   "id": "95564f01",
   "metadata": {},
   "outputs": [],
   "source": [
    "def print_lyrics():\n",
    "    print(\"I'm a lumberjack, and I'm okay.\")\n",
    "    print(\"I sleep all night and I work all day.\")\n",
    "def repeat_lyrics():\n",
    "    print_lyrics()\n",
    "    print_lyrics()\n",
    "    repeat_lyrics()\n"
   ]
  },
  {
   "cell_type": "markdown",
   "id": "e34a1529",
   "metadata": {},
   "source": [
    "This program contains two function definitions: `print_lyrics` and `repeat_lyrics.`\n",
    "Function definitions get executed just like other statements, but the effect is to create\n",
    "function objects. The statements inside the function do not run until the function is\n",
    "called, and the function definition generates no output."
   ]
  },
  {
   "cell_type": "markdown",
   "id": "fdcbcfc8",
   "metadata": {},
   "source": [
    "### Flow of Execution\n",
    "\n",
    "To ensure that a function is defined before its first use, you have to know the order\n",
    "statements run in, which is called the **flow of execution**.\n",
    "Execution always begins at the first statement of the program. Statements are run one\n",
    "at a time, in order from top to bottom.\n",
    "Function definitions do not alter the flow of execution of the program, but remember\n",
    "that statements inside the function don’t run until the function is called.\n"
   ]
  },
  {
   "cell_type": "markdown",
   "id": "e70e01a2",
   "metadata": {},
   "source": [
    "### Parameters and Arguments\n",
    "\n",
    "Some of the functions we have seen require arguments. For example, when you call\n",
    "math.sin you pass a number as an argument. Some functions take more than one\n",
    "argument: math.pow takes two, the base and the exponent.\n",
    "Inside the function, the arguments are assigned to variables called parameters. Here\n",
    "is a definition for a function that takes an argument:\n"
   ]
  },
  {
   "cell_type": "code",
   "execution_count": null,
   "id": "92b63615",
   "metadata": {},
   "outputs": [],
   "source": [
    "def print_twice(bruce):\n",
    "    print(bruce)\n",
    "    print(bruce)"
   ]
  },
  {
   "cell_type": "markdown",
   "id": "c1294a71",
   "metadata": {},
   "source": [
    "This function assigns the argument to a parameter named bruce. When the function\n",
    "is called, it prints the value of the parameter (whatever it is) twice.\n",
    "This function works with any value that can be printed:"
   ]
  },
  {
   "cell_type": "code",
   "execution_count": null,
   "id": "95cdfdf9",
   "metadata": {},
   "outputs": [],
   "source": [
    "print_twice('Spam')\n",
    "\n",
    "print_twice(42)\n",
    "\n",
    "print_twice(math.pi)\n"
   ]
  },
  {
   "cell_type": "markdown",
   "id": "06a7737a",
   "metadata": {},
   "source": [
    "The same rules of composition that apply to `built-in` functions also apply to\n",
    "programmer-defined functions, so we can use any kind of expression as an argument\n",
    "for print_twice:"
   ]
  },
  {
   "cell_type": "code",
   "execution_count": null,
   "id": "d8e7ba9a",
   "metadata": {},
   "outputs": [],
   "source": [
    "print_twice('Spam '*4)\n",
    "\n",
    "print_twice(math.cos(math.pi))"
   ]
  },
  {
   "cell_type": "markdown",
   "id": "5431314f",
   "metadata": {},
   "source": [
    "The argument is evaluated before the function is called, so in the examples the\n",
    "expressions `'Spam '*4` and `math.cos(math.pi)` are only evaluated once.\n",
    "You can also use a variable as an argument:"
   ]
  },
  {
   "cell_type": "code",
   "execution_count": null,
   "id": "b9d17de7",
   "metadata": {},
   "outputs": [],
   "source": [
    "michael = 'Eric, the half a bee.'\n",
    "print_twice(michael)"
   ]
  },
  {
   "cell_type": "markdown",
   "id": "51f396e8",
   "metadata": {},
   "source": [
    "The name of the variable we pass as an argument `(michael)` has nothing to do with\n",
    "the name of the parameter `(bruce)`. It doesn’t matter what the value was called back\n",
    "home (in the caller); here in print_twice, we call everybody bruce."
   ]
  },
  {
   "cell_type": "markdown",
   "id": "080a94ef",
   "metadata": {},
   "source": [
    "**Working with Parameters**\n",
    "\n",
    "Let’s create a small program that takes in parameters x, y, and z. We’ll create a function that adds the parameters together in different configurations. The sums of these will be printed by the function. Then we’ll call the function and pass numbers into the function."
   ]
  },
  {
   "cell_type": "code",
   "execution_count": null,
   "id": "a7c27e85",
   "metadata": {},
   "outputs": [],
   "source": [
    "def add_numbers(x, y, z):\n",
    "    a = x + y\n",
    "    b = x + z\n",
    "    c = y + z\n",
    "    print(a, b, c)\n",
    "\n",
    "add_numbers(1, 2, 3)"
   ]
  },
  {
   "cell_type": "markdown",
   "id": "7f2d7e1c",
   "metadata": {},
   "source": [
    "We passed the number `1` in for the x parameter, `2` in for the y parameter, and `3` in for the z parameter. These values correspond with each parameter in the order they are given.\n",
    "\n",
    "The program is essentially doing the following math based on the values we passed to the parameters:"
   ]
  },
  {
   "cell_type": "code",
   "execution_count": null,
   "id": "4dde3222",
   "metadata": {},
   "outputs": [],
   "source": [
    "a = 1 + 2\n",
    "b = 1 + 3\n",
    "c = 2 + 3"
   ]
  },
  {
   "cell_type": "markdown",
   "id": "da11872d",
   "metadata": {},
   "source": [
    "When we pass `1`, `2`, and `3` as parameters to the `add_numbers()` function, we receive the expected output.\n",
    "\n",
    "Parameters are arguments that are typically defined as variables within function definitions. They can be assigned values when you run the method, passing the arguments into the function.\n"
   ]
  },
  {
   "cell_type": "markdown",
   "id": "136605e8",
   "metadata": {},
   "source": [
    "**Keyword Arguments**\n",
    "\n",
    "In addition to calling parameters in order, you can use keyword arguments in a function call, in which the caller identifies the arguments by the parameter name.\n",
    "\n",
    "When you use keyword arguments, you can use parameters out of order because the Python interpreter will use the keywords provided to match the values to the parameters.\n",
    "\n",
    "Let’s create a function that will show us profile information for a user. We’ll pass parameters to it in the form of username (intended as a string), and followers (intended as an integer)."
   ]
  },
  {
   "cell_type": "code",
   "execution_count": null,
   "id": "e80b7a03",
   "metadata": {},
   "outputs": [],
   "source": [
    "# Define function with parameters\n",
    "def profile_info(username, followers):\n",
    "    print(\"Username: \" + username)\n",
    "    print(\"Followers: \" + str(followers))"
   ]
  },
  {
   "cell_type": "markdown",
   "id": "738922e7",
   "metadata": {},
   "source": [
    "Within the function definition statement, username and followers are contained in the parentheses of the `profile_info()` function. The block of the function prints out information about the user as strings, making use of the two parameters.\n",
    "\n",
    "Now, we can call the function and assign parameters to it:"
   ]
  },
  {
   "cell_type": "code",
   "execution_count": null,
   "id": "5c096693",
   "metadata": {},
   "outputs": [],
   "source": [
    "def profile_info(username, followers):\n",
    "    print(\"Username: \" + username)\n",
    "    print(\"Followers: \" + str(followers))\n",
    "\n",
    "# Call function with parameters assigned as above\n",
    "profile_info(\"sammyshark\", 945)\n",
    "\n",
    "# Call function with keyword arguments\n",
    "profile_info(username=\"AlexAnglerfish\", followers=342)"
   ]
  },
  {
   "cell_type": "markdown",
   "id": "102dd1c4",
   "metadata": {},
   "source": [
    "In the first function call, we have filled in the information with a username of sammyshark and followers being 945, in the second function call we used keyword arguments, assigning values to the argument variables."
   ]
  },
  {
   "cell_type": "markdown",
   "id": "725ee5e3",
   "metadata": {},
   "source": [
    "**Default Argument Values**\n",
    "\n",
    "We can also provide default values for one or both of the parameters. Let’s create a default value for the followers parameter with a value of `1`:"
   ]
  },
  {
   "cell_type": "code",
   "execution_count": null,
   "id": "42e2fd0f",
   "metadata": {},
   "outputs": [],
   "source": [
    "def profile_info(username, followers=1):\n",
    "    print(\"Username: \" + username)\n",
    "    print(\"Followers: \" + str(followers))"
   ]
  },
  {
   "cell_type": "markdown",
   "id": "d6fed4b4",
   "metadata": {},
   "source": [
    "Now, we can run the function with only the username function assigned, and the number of followers will automatically default to `1`. We can also still change the number of followers if we would like."
   ]
  },
  {
   "cell_type": "code",
   "execution_count": null,
   "id": "ad51d007",
   "metadata": {},
   "outputs": [],
   "source": [
    "def profile_info(username, followers=1):\n",
    "    print(\"Username: \" + username)\n",
    "    print(\"Followers: \" + str(followers))\n",
    "\n",
    "profile_info(username=\"JOctopus\")\n",
    "profile_info(username=\"sammyshark\", followers=945)"
   ]
  },
  {
   "cell_type": "markdown",
   "id": "2dc7afb1",
   "metadata": {},
   "source": [
    "**Returning a Value**\n",
    "\n",
    "You can pass a parameter value into a function, and a function can also produce a value.\n",
    "\n",
    "A function can produce a value with the return statement, which will exit a function and optionally pass an expression back to the caller. If you use a return statement with no arguments, the function will return None.\n",
    "\n",
    "So far, we have used the `print()` statement instead of the return statement in our functions. Let’s create a program that instead of printing will return a variable.\n",
    "\n",
    "In a new text file called square.py, we’ll create a program that squares the `parameter x` and returns the `variable y`. We issue a call to print the result variable, which is formed by running the square() function with 3 passed into it."
   ]
  },
  {
   "cell_type": "code",
   "execution_count": null,
   "id": "f9c250f4",
   "metadata": {},
   "outputs": [],
   "source": [
    "def square(x):\n",
    "    y = x ** 2\n",
    "    return y\n",
    "\n",
    "result = square(3)\n",
    "print(result)"
   ]
  },
  {
   "cell_type": "markdown",
   "id": "727ea6be",
   "metadata": {},
   "source": [
    "The integer `9` is returned as output, which is what we would expect by asking Python to find the square of `3`.\n",
    "\n",
    "To further understand how the return statement works, we can comment out the `return statement` in the program:"
   ]
  },
  {
   "cell_type": "code",
   "execution_count": null,
   "id": "99b0ec3f",
   "metadata": {},
   "outputs": [],
   "source": [
    "def square(x):\n",
    "    y = x ** 2\n",
    "    # return y\n",
    "\n",
    "result = square(3)\n",
    "print(result)"
   ]
  },
  {
   "cell_type": "markdown",
   "id": "276a2fc1",
   "metadata": {},
   "source": [
    "Without using the `return statement` here, the program cannot return a value so the value defaults to `None`.\n",
    "\n",
    "As another example, in the add_numbers.py program above, we could swap out the `print()` statement for a return statement."
   ]
  },
  {
   "cell_type": "code",
   "execution_count": null,
   "id": "62b9cca8",
   "metadata": {},
   "outputs": [],
   "source": [
    "def add_numbers(x, y, z):\n",
    "    a = x + y\n",
    "    b = x + z\n",
    "    c = y + z\n",
    "    return a, b, c\n",
    "\n",
    "sums = add_numbers(1, 2, 3)\n",
    "print(sums)"
   ]
  },
  {
   "cell_type": "markdown",
   "id": "fa1e6ad8",
   "metadata": {},
   "source": [
    "Outside of the function, we set the variable sums equal to the result of the function taking in `1`, `2`, and `3` as we did above. Then we called a print of the `sums variable`."
   ]
  },
  {
   "cell_type": "markdown",
   "id": "e11d4404",
   "metadata": {},
   "source": [
    "We receive the same numbers `3`, `4`, and `5` as output that we received previously by using the `print()` statement in the function. This time it is delivered as a tuple because the return statement’s expression list has at least one comma.\n",
    "\n",
    "Functions exit immediately when they hit a return statement, whether or not they’re returning a value."
   ]
  },
  {
   "cell_type": "markdown",
   "id": "9da62668",
   "metadata": {},
   "source": [
    "**Using `main()` as a Function**\n",
    "\n",
    "Although in Python you can call the function at the bottom of your program and it will run (as we have done in the examples above), many programming languages (like C++ and Java) require a main function in order to execute. Including a main() function, though not required, can structure our Python programs in a logical way that puts the most important components of the program into one function. It can also make our programs easier for non-Python programmers to read.\n",
    "\n",
    "We’ll start with adding a `main()` function to the hello.py program above. We’ll keep our `hello()` function, and then define a main() function:"
   ]
  },
  {
   "cell_type": "code",
   "execution_count": null,
   "id": "9137c3e2",
   "metadata": {},
   "outputs": [],
   "source": [
    "def hello():\n",
    "    print(\"Hello, World!\")\n",
    "\n",
    "def main():"
   ]
  },
  {
   "cell_type": "markdown",
   "id": "019a7f53",
   "metadata": {},
   "source": [
    "Within the `main()` function, let’s include a `print()` statement to let us know that we’re in the `main()` function. Additionally, let’s call the `hello()` function within the `main()` function:"
   ]
  },
  {
   "cell_type": "code",
   "execution_count": null,
   "id": "f3e5f164",
   "metadata": {},
   "outputs": [],
   "source": [
    "def hello():\n",
    "    print(\"Hello, World!\")\n",
    "\n",
    "\n",
    "def main():\n",
    "    print(\"This is the main function\")\n",
    "    hello()"
   ]
  },
  {
   "cell_type": "markdown",
   "id": "59e17d30",
   "metadata": {},
   "source": [
    "Finally, at the bottom of the program we’ll call the `main()` function:"
   ]
  },
  {
   "cell_type": "code",
   "execution_count": null,
   "id": "c0724392",
   "metadata": {},
   "outputs": [],
   "source": [
    "def hello():\n",
    "    print(\"Hello, World!\")\n",
    "\n",
    "def main():\n",
    "    print(\"This is the main function.\")\n",
    "    hello()\n",
    "\n",
    "main()"
   ]
  },
  {
   "cell_type": "markdown",
   "id": "2a1db5a0",
   "metadata": {},
   "source": [
    "Because we called the `hello()` function within `main()` and then only called `main()` to run, the Hello, World! text printed only once, after the string that told us we were in the main function."
   ]
  },
  {
   "cell_type": "markdown",
   "id": "68f6923e",
   "metadata": {},
   "source": [
    "Next we’re going to be working with multiple functions, so it is worth reviewing the variable scope of `global and local variables`. If you define a variable within a function block, you’ll only be able to use that variable within that function. If you would like to use variables across functions it may be better to declare a global variable.\n",
    "\n",
    "In Python, `'__main__'` is the name of the scope where top-level code will execute. When a program is run from standard input, a script, or from an interactive prompt, its __name__ is set equal to '__main__'.\n",
    "\n",
    "Because of this, there is a convention to use the following construction:"
   ]
  },
  {
   "cell_type": "code",
   "execution_count": null,
   "id": "37a1ee10",
   "metadata": {},
   "outputs": [],
   "source": [
    "if __name__ == '__main__':\n",
    "    # Code to run when this is the main program here"
   ]
  },
  {
   "cell_type": "markdown",
   "id": "b24f29a6",
   "metadata": {},
   "source": [
    "This lets program files be used either:\n",
    "\n",
    "1. as the main program and run what follows the if statement\n",
    "2. as a module and not run what follows the if statement.\n",
    "\n",
    "Any code that is not contained within this statement will be executed upon running. If you’re using your program file as a module, the code that is not in this statement will also execute upon its import while running the secondary file.\n"
   ]
  },
  {
   "cell_type": "markdown",
   "id": "1124bf7f",
   "metadata": {},
   "source": [
    "### Variables and Parameters Are Local\n",
    "When you create a variable inside a function, it is local, which means that it only\n",
    "exists inside the function. For example:"
   ]
  },
  {
   "cell_type": "code",
   "execution_count": null,
   "id": "9dc6d219",
   "metadata": {},
   "outputs": [],
   "source": [
    "def cat_twice(part1, part2):\n",
    "    cat = part1 + part2\n",
    "    print_twice(cat)"
   ]
  },
  {
   "cell_type": "markdown",
   "id": "e3d57cc7",
   "metadata": {},
   "source": [
    "This function takes `two arguments`, concatenates them, and prints the result twice.\n",
    "Here is an example that uses it:"
   ]
  },
  {
   "cell_type": "code",
   "execution_count": null,
   "id": "f76d0368",
   "metadata": {},
   "outputs": [],
   "source": [
    "line1 = 'Bing tiddle '\n",
    "line2 = 'tiddle bang.'\n",
    "cat_twice(line1, line2)"
   ]
  },
  {
   "cell_type": "markdown",
   "id": "24e71032",
   "metadata": {},
   "source": [
    "When `cat_twice` terminates, the variable cat is destroyed. If we try to print it, we get\n",
    "an exception:"
   ]
  },
  {
   "cell_type": "code",
   "execution_count": null,
   "id": "426d0f08",
   "metadata": {},
   "outputs": [],
   "source": [
    "print(cat)"
   ]
  },
  {
   "cell_type": "markdown",
   "id": "79ea850f",
   "metadata": {},
   "source": [
    "`NameError: name 'cat' is not defined`\n",
    "    \n",
    "Parameters are also local. For example, outside print_twice, there is no such thing as\n",
    "bruce"
   ]
  },
  {
   "cell_type": "markdown",
   "id": "9d6d8cc5",
   "metadata": {},
   "source": [
    "### Fruitful Functions and Void Functions\n",
    "\n",
    "Some of the functions we have used, such as the math functions, return results; for\n",
    "lack of a better name, I call them fruitful functions. Other functions, like\n",
    "print_twice, perform an action but don’t return a value. They are called void func‐\n",
    "tions.\n",
    "When you call a fruitful function, you almost always want to do something with the\n",
    "result; for example, you might assign it to a variable or use it as part of an expression:"
   ]
  },
  {
   "cell_type": "code",
   "execution_count": null,
   "id": "654997e5",
   "metadata": {},
   "outputs": [],
   "source": [
    "x = math.cos(radians)\n",
    "golden = (math.sqrt(5) + 1) / 2"
   ]
  },
  {
   "cell_type": "markdown",
   "id": "bbf3b46c",
   "metadata": {},
   "source": [
    "When you call a function in interactive mode, Python displays the result:"
   ]
  },
  {
   "cell_type": "code",
   "execution_count": null,
   "id": "4ef80372",
   "metadata": {},
   "outputs": [],
   "source": [
    "math.sqrt(5)"
   ]
  },
  {
   "cell_type": "markdown",
   "id": "0506adaf",
   "metadata": {},
   "source": [
    "But in a script, if you call a `fruitful function` all by itself, the return value is lost forever!"
   ]
  },
  {
   "cell_type": "code",
   "execution_count": null,
   "id": "999f7e6e",
   "metadata": {},
   "outputs": [],
   "source": [
    "math.sqrt(5)"
   ]
  },
  {
   "cell_type": "markdown",
   "id": "0736b197",
   "metadata": {},
   "source": [
    "This script computes the square root of `5`, but since it doesn’t store or display the\n",
    "result, it is not very useful.\n",
    "\n",
    "Void functions might display something on the screen or have some other effect, but\n",
    "they don’t have a return value. If you assign the result to a variable, you get a special\n",
    "value called None:"
   ]
  },
  {
   "cell_type": "code",
   "execution_count": null,
   "id": "babe3438",
   "metadata": {},
   "outputs": [],
   "source": [
    "result = print_twice('Bing')\n",
    "\n",
    "print(result)"
   ]
  },
  {
   "cell_type": "markdown",
   "id": "7624af60",
   "metadata": {},
   "source": [
    "The value None is not the same as the string `'None'`. It is a special value that has its\n",
    "own type:"
   ]
  },
  {
   "cell_type": "code",
   "execution_count": null,
   "id": "362641d0",
   "metadata": {},
   "outputs": [],
   "source": [
    "print(type(None))"
   ]
  },
  {
   "cell_type": "markdown",
   "id": "9c23439e",
   "metadata": {},
   "source": [
    "**Coding Exercise 1**\n",
    "\n",
    "The code below is incomplete. It should calculate and print out the maximum value of the grades list. Please complete the function and then call it."
   ]
  },
  {
   "cell_type": "code",
   "execution_count": null,
   "id": "30325842",
   "metadata": {},
   "outputs": [],
   "source": [
    "def get_max():\n",
    "    grades = [9.6, 9.2, 9.7]\n"
   ]
  },
  {
   "cell_type": "markdown",
   "id": "2d82dbb7",
   "metadata": {},
   "source": [
    "The output of your code should be: `9.7`\n",
    "\n",
    "Hint: You can use the `max(list)` function to find the maximal value of a list."
   ]
  },
  {
   "cell_type": "markdown",
   "id": "0f587460",
   "metadata": {},
   "source": [
    "**Coding Exercise 2**\n",
    "\n",
    "The function we wrote in exercise 1 returned 9.7.  Change the function so this time it returns `Max: 9.7, Min: 9.2 where 9.7 is the maximum and 9.2` is the minimum."
   ]
  },
  {
   "cell_type": "markdown",
   "id": "74991358",
   "metadata": {},
   "source": [
    "### Bug-Fixing Exercise 1\n",
    "\n",
    "The function further down should return the maximum value of the celsius list. Then, the last line should convert the returned value to Fahrenheit units.\n",
    "\n",
    "However, when running the code, a `TypeError`: unsupported operand `type(s)` for *: `'NoneType' and 'float'` is generated.\n",
    "\n",
    "Try to fix the problem so that the last line can correctly get the maximal celsius value from the function definition and convert that value to Fahrenheit.\n"
   ]
  },
  {
   "cell_type": "code",
   "execution_count": null,
   "id": "3bb4f7c0",
   "metadata": {},
   "outputs": [],
   "source": [
    "def get_maximum():\n",
    "    celsius = [14, 15.1, 12.3]\n",
    "    maximum = max(celsius)\n",
    "    print(maximum)\n",
    "    \n",
    "celsius = get_maximum()\n",
    "fahrenheit = celsius * 1.8 + 32\n",
    "print(fahrenheit)"
   ]
  }
 ],
 "metadata": {
  "kernelspec": {
   "display_name": "Python 3 (ipykernel)",
   "language": "python",
   "name": "python3"
  },
  "language_info": {
   "codemirror_mode": {
    "name": "ipython",
    "version": 3
   },
   "file_extension": ".py",
   "mimetype": "text/x-python",
   "name": "python",
   "nbconvert_exporter": "python",
   "pygments_lexer": "ipython3",
   "version": "3.9.12"
  },
  "vscode": {
   "interpreter": {
    "hash": "916dbcbb3f70747c44a77c7bcd40155683ae19c65e1c03b4aa3499c5328201f1"
   }
  }
 },
 "nbformat": 4,
 "nbformat_minor": 5
}
