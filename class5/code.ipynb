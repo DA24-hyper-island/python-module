{
 "cells": [
  {
   "cell_type": "markdown",
   "id": "4791165c",
   "metadata": {},
   "source": [
    "<a href='https://ibb.co/W34pJdv'> <img src=\"https://i.ibb.co/z5THvLV/HI-Logotype-Black-high-res.jpg\" /></a>"
   ]
  },
  {
   "cell_type": "markdown",
   "id": "cfb1e46f",
   "metadata": {},
   "source": [
    "## Iterations and Looping.\n",
    "\n",
    "Now we take the above knowledge and apply it to collections - large and small. We should be able to interact with data in collections as well as make decisions on data while in continuous operation.\n",
    "\n",
    "1. Loops - while, for, etc.\n",
    "2. Loop operations - break, continue, pass, etc.\n",
    "3. Traversing data structures\n",
    "4. Ternary operations and comprehensions - lambda, data structure comprehensions.\n",
    "5. Pseudo algorithms\n",
    "6. Debugging.\n",
    "7. Why!!"
   ]
  },
  {
   "cell_type": "markdown",
   "id": "b9adae3f",
   "metadata": {},
   "source": [
    "The **for loop** in Python is an iterating function. If you have a sequence object like a list, you can use the **for loop** to iterate over the items contained within the list.\n",
    "\n",
    "The functionality of the for loop isn’t very different from what you see in multiple other programming languages.\n",
    "\n",
    "In this article, we’ll explore the Python for loop in detail and learn to iterate over different sequences including lists, tuples, and more. Additionally, we’ll learn to control the flow of the loop using the break and continue statements."
   ]
  },
  {
   "cell_type": "markdown",
   "id": "287cb7d2",
   "metadata": {},
   "source": [
    "**Basic Syntax of the Python for loop**\n",
    "\n",
    "The basic syntax of the for loop in Python looks something similar to the one mentioned below."
   ]
  },
  {
   "cell_type": "code",
   "execution_count": null,
   "id": "0dda8a35",
   "metadata": {},
   "outputs": [],
   "source": [
    "for itarator_variable in sequence_name:\n",
    "    Statements\n",
    "    . . .\n",
    "    Statements"
   ]
  },
  {
   "cell_type": "markdown",
   "id": "24e53ccc",
   "metadata": {},
   "source": [
    "**Let me explain the syntax of the Python for loop better.**\n",
    "\n",
    "* The first word of the statement starts with the keyword “for” which signifies the beginning of the for loop.\n",
    "* Then we have the iterator variable which iterates over the sequence and can be used within the loop to perform various functions\n",
    "* The next is the “in” keyword in Python which tells the iterator variable to loop for elements within the sequence\n",
    "* And finally, we have the sequence variable which can either be a list, a tuple, or any other kind of iterator.\n",
    "* The statements part of the loop is where you can play around with the iterator variable and perform various function"
   ]
  },
  {
   "cell_type": "markdown",
   "id": "7bb4c98e",
   "metadata": {},
   "source": [
    "**Print individual letters of a string using the for loop**\n",
    "\n",
    "Python string is a sequence of characters. If within any of your programming applications, you need to go over the characters of a string individually, you can use the for loop here.\n",
    "\n",
    "Here’s how that would work out for you."
   ]
  },
  {
   "cell_type": "code",
   "execution_count": null,
   "id": "ecf6c9d4",
   "metadata": {},
   "outputs": [],
   "source": [
    "word=\"anaconda\"\n",
    "for letter in word:\n",
    "    print (letter)"
   ]
  },
  {
   "cell_type": "markdown",
   "id": "5fd2716b",
   "metadata": {},
   "source": [
    "The reason why this loop works is because Python considers a “string” as a sequence of characters instead of looking at the string as a whole.\n"
   ]
  },
  {
   "cell_type": "code",
   "execution_count": null,
   "id": "f70cc783",
   "metadata": {},
   "outputs": [],
   "source": [
    "word = 'banana'\n",
    "count = 0\n",
    "for letter in word:\n",
    "    if letter == 'a':\n",
    "        count = count + 1\n",
    "print(count)\n"
   ]
  },
  {
   "cell_type": "markdown",
   "id": "35b42f51",
   "metadata": {},
   "source": [
    "This program demonstrates another pattern of computation called a counter. The\n",
    "variable count is initialized to 0 and then incremented each time an a is found. When\n",
    "the loop exits, count contains the result the total number of a’s."
   ]
  },
  {
   "cell_type": "code",
   "execution_count": null,
   "id": "a4d17c4d",
   "metadata": {},
   "outputs": [],
   "source": [
    "for example, the following function prints all the letters from word1 that also appearin word2:\n",
    "def in_both(word1, word2):\n",
    "    for letter in word1:\n",
    "        if letter in word2:\n",
    "            print(letter)"
   ]
  },
  {
   "cell_type": "markdown",
   "id": "419c6ade",
   "metadata": {},
   "source": [
    "With well-chosen variable names, Python sometimes reads like English. You could\n",
    "read this loop, “for (each) letter in (the first) word, if (the) letter (appears) in (the second) word, print (the) letter.”\n",
    "Here’s what you get if you compare apples and oranges:"
   ]
  },
  {
   "cell_type": "code",
   "execution_count": null,
   "id": "57f58296",
   "metadata": {},
   "outputs": [],
   "source": [
    "in_both('apples', 'oranges')"
   ]
  },
  {
   "cell_type": "markdown",
   "id": "ae56e870",
   "metadata": {},
   "source": [
    "**Python for loop with range() function** \n",
    "\n",
    "Python `range()` is one of the built-in functions. When you want the for loop to run for a specific number of times, or you need to specify a range of objects to print out, the range function works really well. Consider the following example where I want to print the numbers 1, 2, and 3."
   ]
  },
  {
   "cell_type": "code",
   "execution_count": null,
   "id": "45fac0ce",
   "metadata": {},
   "outputs": [],
   "source": [
    "for x in range(3):\n",
    "    print(\"Printing:\", x)\n",
    "    \n",
    "# Output\n",
    "\n",
    "# Printing: 0\n",
    "# Printing: 1\n",
    "# Printing: 2"
   ]
  },
  {
   "cell_type": "markdown",
   "id": "7f30cf57",
   "metadata": {},
   "source": [
    "The `range function` also takes another parameter apart from the start and the stop. This is the step parameter. It tells the range function how many numbers to skip between each count.\n",
    "\n",
    "In the below example, I’ve used number 3 as the step and you can see the output numbers are the previous number + 3."
   ]
  },
  {
   "cell_type": "code",
   "execution_count": null,
   "id": "73364b17",
   "metadata": {},
   "outputs": [],
   "source": [
    "for n in range(1, 10, 3):\n",
    "    print(\"Printing with step:\", n)\n",
    "    \n",
    "# Output\n",
    "\n",
    "# Printing with step: 1\n",
    "# Printing with step: 4\n",
    "# Printing with step: 7"
   ]
  },
  {
   "cell_type": "markdown",
   "id": "69fe0974",
   "metadata": {},
   "source": [
    "**Map, Filter and Reduce**\n",
    "\n",
    "To add up all the numbers in a list, you can use a loop like this:\n"
   ]
  },
  {
   "cell_type": "code",
   "execution_count": null,
   "id": "518296c8",
   "metadata": {},
   "outputs": [],
   "source": [
    "def add_all(t):\n",
    "    total = 0\n",
    "    for x in t:\n",
    "        total += x\n",
    "    return total"
   ]
  },
  {
   "cell_type": "markdown",
   "id": "929b4fc9",
   "metadata": {},
   "source": [
    "`total` is initialized to `0`. Each time through the loop, x gets one element from the list.\n",
    "The `+=` operator provides a short way to update a variable. This augmented assignment statement,\n",
    "\n",
    "`total += x`\n",
    "\n",
    "is equivalent to\n",
    "\n",
    "`total = total + x`"
   ]
  },
  {
   "cell_type": "markdown",
   "id": "5cacb92a",
   "metadata": {},
   "source": [
    "As the loop runs, total accumulates the sum of the elements; a variable used this way\n",
    "is sometimes called an accumulator."
   ]
  },
  {
   "cell_type": "markdown",
   "id": "a57ebf1b",
   "metadata": {},
   "source": [
    "Adding up the elements of a list is such a common operation that Python provides it\n",
    "as a built-in function, sum:"
   ]
  },
  {
   "cell_type": "code",
   "execution_count": null,
   "id": "de1712da",
   "metadata": {},
   "outputs": [],
   "source": [
    "t = [1, 2, 3]\n",
    "sum(t)"
   ]
  },
  {
   "cell_type": "markdown",
   "id": "79923416",
   "metadata": {},
   "source": [
    "An operation like this that combines a sequence of elements into a single value is sometimes called **reduce**.\n",
    "\n",
    "Sometimes you want to traverse one list while building another. For example, the following function takes a list of strings and returns a new list that contains capitalized\n",
    "strings:"
   ]
  },
  {
   "cell_type": "code",
   "execution_count": null,
   "id": "3ed605ca",
   "metadata": {},
   "outputs": [],
   "source": [
    "def capitalize_all(t):\n",
    "    res = []\n",
    "    for s in t:\n",
    "        res.append(s.capitalize())\n",
    "        return res"
   ]
  },
  {
   "cell_type": "markdown",
   "id": "0904fb71",
   "metadata": {},
   "source": [
    "`res` is initialized with an empty list; each time through the loop, we append the next\n",
    "element. So `res` is another kind of accumulator.\n",
    "An operation like capitalize_all is sometimes called a map because it **“maps”** a\n",
    "function (in this case the method capitalize) onto each of the elements in a\n",
    "sequence.\n",
    "\n",
    "Another common operation is to select some of the elements from a list and return a\n",
    "sublist. For example, the following function takes a list of strings and returns a list\n",
    "that contains only the uppercase strings:"
   ]
  },
  {
   "cell_type": "code",
   "execution_count": null,
   "id": "7842ade9",
   "metadata": {},
   "outputs": [],
   "source": [
    "def only_upper(t):\n",
    "    res = []\n",
    "    for s in t:\n",
    "        if s.isupper():\n",
    "            res.append(s)\n",
    "    return res"
   ]
  },
  {
   "cell_type": "markdown",
   "id": "eb3134c0",
   "metadata": {},
   "source": [
    "`isupper` is a string method that returns `True` if the string contains only uppercase letters.\n",
    "An operation like only_upper is called a **filter** because it selects some of the elements and filters out the others.\n"
   ]
  },
  {
   "cell_type": "markdown",
   "id": "89651a31",
   "metadata": {},
   "source": [
    "**While Loop**\n",
    "\n",
    "In Python, while loops are constructed like so:"
   ]
  },
  {
   "cell_type": "code",
   "execution_count": null,
   "id": "3a228e84",
   "metadata": {},
   "outputs": [],
   "source": [
    "while [a condition is True]:\n",
    "    [do something]"
   ]
  },
  {
   "cell_type": "markdown",
   "id": "148b24f5",
   "metadata": {},
   "source": [
    "The something that is being done will continue to be executed until the condition that is being assessed is no longer true.\n",
    "\n",
    "Let’s create a small program that executes a while loop. In this program, we’ll ask for the user to input a password. While going through this loop, there are two possible outcomes:\n",
    "\n",
    "* If the password is correct, the while loop will exit.\n",
    "* If the password is not correct, the while loop will continue to execute."
   ]
  },
  {
   "cell_type": "code",
   "execution_count": null,
   "id": "9f4bc1d0",
   "metadata": {},
   "outputs": [],
   "source": [
    "password = ''"
   ]
  },
  {
   "cell_type": "markdown",
   "id": "c013e12f",
   "metadata": {},
   "source": [
    "The empty string will be used to take in input from the user within the while loop.\n",
    "\n",
    "Now, we’ll construct the while statement along with its condition:"
   ]
  },
  {
   "cell_type": "code",
   "execution_count": null,
   "id": "8cbea53d",
   "metadata": {},
   "outputs": [],
   "source": [
    "password = ''\n",
    "\n",
    "while password != 'password':"
   ]
  },
  {
   "cell_type": "markdown",
   "id": "d4d5cde3",
   "metadata": {},
   "source": [
    "Here, the while is followed by the variable password. We are looking to see if the variable password is set to the string password (based on the user input later), but you can choose whichever string you’d like.\n",
    "\n",
    "This means that if the user inputs the string password, then the loop will stop and the program will continue to execute any code outside of the loop. However, if the string that the user inputs is not equal to the string password, the loop will continue.\n",
    "\n",
    "Next, we’ll add the block of code that does something within the while loop:"
   ]
  },
  {
   "cell_type": "code",
   "execution_count": null,
   "id": "29dba6a7",
   "metadata": {},
   "outputs": [],
   "source": [
    "password = ''\n",
    "\n",
    "while password != 'password':\n",
    "    print('What is the password?')\n",
    "    password = input()"
   ]
  },
  {
   "cell_type": "markdown",
   "id": "8f82ecc0",
   "metadata": {},
   "source": [
    "Inside of the while loop, the program runs a print statement that prompts for the password. Then the variable password is set to the user’s input with the `input()` function.\n",
    "\n",
    "The program will check to see if the variable password is assigned to the string password, and if it is, the while loop will end. Let’s give the program another line of code for when that happens:"
   ]
  },
  {
   "cell_type": "code",
   "execution_count": null,
   "id": "f3ae037d",
   "metadata": {},
   "outputs": [],
   "source": [
    "password = ''\n",
    "\n",
    "while password != 'password':\n",
    "    print('What is the password?')\n",
    "    password = input()\n",
    "\n",
    "print('Yes, the password is ' + password + '. You may enter.')"
   ]
  },
  {
   "cell_type": "markdown",
   "id": "99132f9f",
   "metadata": {},
   "source": [
    "The last `print()` statement is outside of the `while loop`, so when the user enters password as the password, they will see the final `print` statement outside of the loop.\n",
    "\n",
    "However, if the user never enters the word password, they will never get to the last `print()` statement and will be stuck in an infinite loop.\n",
    "\n",
    "An infinite loop occurs when a program keeps executing within one loop, never leaving it. To exit out of infinite loops on the command line, press `CTRL + C`.\n",
    "\n",
    "Save the program and run it:"
   ]
  },
  {
   "cell_type": "code",
   "execution_count": null,
   "id": "c7a7a5d3",
   "metadata": {},
   "outputs": [],
   "source": [
    "#What does the following function do?\n",
    "\n",
    "def find(word, letter):\n",
    "    index = 0\n",
    "    while index < len(word):\n",
    "        if word[index] == letter:\n",
    "            return index\n",
    "        index = index + 1\n",
    "        return -1"
   ]
  },
  {
   "cell_type": "markdown",
   "id": "94aa9493",
   "metadata": {},
   "source": [
    "In a sense, find is the inverse of the `[]` operator. Instead of taking an index and\n",
    "extracting the corresponding character, it takes a character and finds the index where\n",
    "that character appears. If the character is not found, the function returns -1. \n",
    "\n",
    "If `word[index] == letter`, the function breaks out of the loop and returns immediately.\n",
    "If the character doesn’t appear in the string, the program exits the loop normally and\n",
    "returns -1.\n",
    "This pattern of computation—traversing a sequence and returning when we find\n",
    "what we are looking for—is called a **search**.\n"
   ]
  },
  {
   "cell_type": "markdown",
   "id": "770451f4",
   "metadata": {},
   "source": [
    "Another while statement. Here is a version of countdown that uses a while statement:"
   ]
  },
  {
   "cell_type": "code",
   "execution_count": null,
   "id": "21c0e343",
   "metadata": {},
   "outputs": [],
   "source": [
    "def countdown(n):\n",
    "    while n > 0:\n",
    "        print(n)\n",
    "        n = n - 1\n",
    "    print('Blastoff!')"
   ]
  },
  {
   "cell_type": "markdown",
   "id": "10bec289",
   "metadata": {},
   "source": [
    "You can almost read the while statement as if it were English. It means, “While `n` is greater than `0`, display the value of n and then decrement n. When you get to 0, display the word `Blastoff!`”\n",
    "More formally, here is the flow of execution for a while statement:\n",
    "    \n",
    "1. Determine whether the condition is true or false.\n",
    "2. If false, exit the while statement and continue execution at the next statement.\n",
    "3. If the condition is true, run the body and then go back to step 1.\n",
    "\n",
    "This type of flow is called a loop because the third step loops back around to the top."
   ]
  },
  {
   "cell_type": "code",
   "execution_count": null,
   "id": "9c601164",
   "metadata": {},
   "outputs": [],
   "source": [
    "def sequence(n):\n",
    "    while n != 1:\n",
    "        print(n)\n",
    "        if n % 2 == 0: # n is even\n",
    "            n = n / 2\n",
    "        else: # n is odd\n",
    "            n = n*3 + 1"
   ]
  },
  {
   "cell_type": "markdown",
   "id": "191ff479",
   "metadata": {},
   "source": [
    "The condition for this loop is `n != 1`, so the loop will continue until n is 1, which makes the condition false.\n",
    "Each time through the loop, the program outputs the value of `n` and then checks\n",
    "whether it is even or odd. `If it is even, n is divided by 2`. If it is odd, the value of n is\n",
    "replaced with n*3 + 1. For example, if the argument passed to sequence is 3, the\n",
    "resulting values of n are 3, 10, 5, 16, 8, 4, 2, 1."
   ]
  },
  {
   "cell_type": "code",
   "execution_count": null,
   "id": "ff3f0066",
   "metadata": {},
   "outputs": [],
   "source": [
    "fruit = 'banana'\n",
    "index = 0\n",
    "while index < len(fruit):\n",
    "    letter = fruit[index]\n",
    "    print(letter)\n",
    "    index = index + 1"
   ]
  },
  {
   "cell_type": "markdown",
   "id": "f2c62fb4",
   "metadata": {},
   "source": [
    "This loop traverses the string and displays each letter on a line by itself. The loop condition is `index < len(fruit)`, so when index is equal to the length of the string, the condition is false, and the body of the loop doesn’t run. The last character accessed is the one with the index `len(fruit)-1`, which is the last character in the string."
   ]
  },
  {
   "cell_type": "code",
   "execution_count": null,
   "id": "996cd9ab",
   "metadata": {},
   "outputs": [],
   "source": [
    "#This loop outputs these names in order:\n",
    "prefixes = 'JKLMNOPQ'\n",
    "suffix = 'ack'\n",
    "for letter in prefixes:\n",
    "    print(letter + suffix)"
   ]
  },
  {
   "cell_type": "markdown",
   "id": "7c42f2f2",
   "metadata": {},
   "source": [
    "### Loop operations - break, continue, pass, etc."
   ]
  },
  {
   "cell_type": "markdown",
   "id": "3cdfb459",
   "metadata": {},
   "source": [
    "**Break Statement**\n",
    "\n",
    "In Python, the break statement provides you with the opportunity to exit out of a loop when an external condition is triggered. You’ll put the break statement within the block of code under your loop statement, usually after a conditional if statement."
   ]
  },
  {
   "cell_type": "code",
   "execution_count": null,
   "id": "2d98861e",
   "metadata": {},
   "outputs": [],
   "source": [
    "number = 0\n",
    "\n",
    "for number in range(10):\n",
    "    if number == 5:\n",
    "        break    # break here\n",
    "\n",
    "    print('Number is ' + str(number))\n",
    "\n",
    "print('Out of loop')"
   ]
  },
  {
   "cell_type": "markdown",
   "id": "2c0c4b04",
   "metadata": {},
   "source": [
    "In this small program, the variable number is initialized at `0`. Then a for statement constructs the loop as long as the variable number is less than `10`.\n",
    "\n",
    "Within the for loop, there is an if statement that presents the condition that if the variable number is equivalent to the integer `5`, then the loop will break.\n",
    "\n",
    "Within the loop is also a `print()` statement that will execute with each iteration of the for loop until the loop breaks, since it is after the break statement.\n",
    "\n",
    "To know when we are out of the loop, we have included a final `print()` statement outside of the for loop.\n",
    "\n",
    "The break statement causes a program to break out of a loop.\n"
   ]
  },
  {
   "cell_type": "markdown",
   "id": "7d7b4082",
   "metadata": {},
   "source": [
    "**Continue Statement**\n",
    "\n",
    "The continue statement gives you the option to skip over the part of a loop where an external condition is triggered, but to go on to complete the rest of the loop. That is, the current iteration of the loop will be disrupted, but the program will return to the top of the loop.\n",
    "\n",
    "The continue statement will be within the block of code under the loop statement, usually after a conditional if statement.\n",
    "\n",
    "Using the same for loop program as in the Break Statement section above, we’ll use a continue statement rather than a break statement:"
   ]
  },
  {
   "cell_type": "code",
   "execution_count": null,
   "id": "9933956b",
   "metadata": {},
   "outputs": [],
   "source": [
    "number = 0\n",
    "\n",
    "for number in range(10):\n",
    "    if number == 5:\n",
    "        continue    # continue here\n",
    "\n",
    "    print('Number is ' + str(number))\n",
    "\n",
    "print('Out of loop')"
   ]
  },
  {
   "cell_type": "markdown",
   "id": "cce5c138",
   "metadata": {},
   "source": [
    "The difference in using the continue statement rather than a break statement is that our code will continue despite the disruption when the variable number is evaluated as equivalent to 5."
   ]
  },
  {
   "cell_type": "markdown",
   "id": "ba7ae656",
   "metadata": {},
   "source": [
    "Here, `Number is 5` never occurs in the output, but the loop continues after that point to print lines for the numbers `6–10` before leaving the loop.\n",
    "\n",
    "You can use the continue statement to avoid deeply nested conditional code, or to optimize a loop by eliminating frequently occurring cases that you would like to reject.\n",
    "\n",
    "The continue statement causes a program to skip certain factors that come up within a loop, but then continue through the rest of the loop."
   ]
  },
  {
   "cell_type": "markdown",
   "id": "bc5dd717",
   "metadata": {},
   "source": [
    "**Pass Statement**\n",
    "\n",
    "When an external condition is triggered, the pass statement allows you to handle the condition without the loop being impacted in any way; all of the code will continue to be read unless a break or other statement occurs.\n",
    "\n",
    "As with the other statements, the pass statement will be within the block of code under the loop statement, typically after a conditional if statement.\n",
    "\n",
    "Using the same code block as above, let’s replace the break or continue statement with a pass statement:"
   ]
  },
  {
   "cell_type": "code",
   "execution_count": null,
   "id": "e7f6bc1d",
   "metadata": {},
   "outputs": [],
   "source": [
    "number = 0\n",
    "\n",
    "for number in range(10):\n",
    "    if number == 5:\n",
    "        pass    # pass here\n",
    "\n",
    "    print('Number is ' + str(number))\n",
    "\n",
    "print('Out of loop')"
   ]
  },
  {
   "cell_type": "markdown",
   "id": "ad31af21",
   "metadata": {},
   "source": [
    "The pass statement occurring after the if conditional statement is telling the program to continue to run the loop and ignore the fact that the variable number evaluates as equivalent to 5 during one of its iterations.\n",
    "\n",
    "By using the pass statement in this program, we notice that the program runs exactly as it would if there were no conditional statement in the program. The pass statement tells the program to disregard that condition and continue to run the program as usual.\n",
    "\n",
    "The pass statement can create minimal classes, or act as a placeholder when working on new code and thinking on an algorithmic level before hammering out details."
   ]
  },
  {
   "cell_type": "markdown",
   "id": "25f4e5a8",
   "metadata": {},
   "source": [
    "### Traversing data structures"
   ]
  },
  {
   "cell_type": "markdown",
   "id": "26bc9dc8",
   "metadata": {},
   "source": [
    "\n",
    "**Using the for loop to iterate over a Python list or tuple**\n",
    "\n",
    "Lists and Tuples are iterable objects. Let’s look at how we can loop over the elements within these objects now."
   ]
  },
  {
   "cell_type": "markdown",
   "id": "ca5e3f4b",
   "metadata": {},
   "source": [
    "The most common way to traverse the elements of a list is with a for loop. The syntax is the same as for strings:\n"
   ]
  },
  {
   "cell_type": "code",
   "execution_count": null,
   "id": "11979b41",
   "metadata": {},
   "outputs": [],
   "source": [
    "for cheese in cheeses:\n",
    "    print(cheese)"
   ]
  },
  {
   "cell_type": "markdown",
   "id": "1b0bece2",
   "metadata": {},
   "source": [
    "This works well if you only need to read the elements of the list. But if you want to\n",
    "write or update the elements, you need the indices. A common way to do that is to\n",
    "combine the built-in functions range and len:"
   ]
  },
  {
   "cell_type": "code",
   "execution_count": null,
   "id": "31470592",
   "metadata": {},
   "outputs": [],
   "source": [
    "for i in range(len(numbers)):\n",
    "    numbers[i] = numbers[i] * 2"
   ]
  },
  {
   "cell_type": "markdown",
   "id": "1d420814",
   "metadata": {},
   "source": [
    "This loop traverses the list and updates each element. `len` returns the number of elements in the list. range returns a list of indices from `0` to `n-1`, where n is the length of the list. Each time through the loop, `i` gets the index of the next element. The assignment statement in the body uses `i` to read the old value of the element and to assign\n",
    "the new value.\n"
   ]
  },
  {
   "cell_type": "code",
   "execution_count": null,
   "id": "68ec5757",
   "metadata": {},
   "outputs": [],
   "source": [
    "#A for loop over an empty list never runs the body:\n",
    "for x in []:\n",
    "    print('This never happens.')"
   ]
  },
  {
   "cell_type": "code",
   "execution_count": null,
   "id": "683a1279",
   "metadata": {},
   "outputs": [],
   "source": [
    "words= [\"Apple\", \"Banana\", \"Car\", \"Dolphin\" ]\n",
    "for word in words:\n",
    "    print (word)"
   ]
  },
  {
   "cell_type": "code",
   "execution_count": null,
   "id": "8b176a55",
   "metadata": {},
   "outputs": [],
   "source": [
    "nums = (1, 2, 3, 4)\n",
    "\n",
    "sum_nums = 0\n",
    "\n",
    "for num in nums:\n",
    "    sum_nums = sum_nums + num\n",
    "\n",
    "print(f'Sum of numbers is {sum_nums}')\n",
    "\n",
    "# Output\n",
    "# Sum of numbers is 10"
   ]
  },
  {
   "cell_type": "code",
   "execution_count": null,
   "id": "048cad78",
   "metadata": {},
   "outputs": [],
   "source": [
    "d = {'foo': 1, 'bar': 2, 'baz': 3}\n",
    "for k in d:\n",
    "    print(k)"
   ]
  },
  {
   "cell_type": "markdown",
   "id": "78afaad8",
   "metadata": {},
   "source": [
    "To access the dictionary values within the loop, you can make a dictionary reference using the key as usual:"
   ]
  },
  {
   "cell_type": "code",
   "execution_count": null,
   "id": "2eea1c8e",
   "metadata": {},
   "outputs": [],
   "source": [
    "for k in d:\n",
    "    print(d[k])"
   ]
  },
  {
   "cell_type": "markdown",
   "id": "bd7835fe",
   "metadata": {},
   "source": [
    "You can also iterate through a dictionary’s values directly by using `.values()`:"
   ]
  },
  {
   "cell_type": "code",
   "execution_count": null,
   "id": "0f8da463",
   "metadata": {},
   "outputs": [],
   "source": [
    "for v in d.values():\n",
    "    print(v)"
   ]
  },
  {
   "cell_type": "markdown",
   "id": "35acce5d",
   "metadata": {},
   "source": [
    "The dictionary method `.items()` effectively returns a list of key/value pairs as tuples:"
   ]
  },
  {
   "cell_type": "code",
   "execution_count": null,
   "id": "f6566d48",
   "metadata": {},
   "outputs": [],
   "source": [
    "d = {'foo': 1, 'bar': 2, 'baz': 3}\n",
    "\n",
    "d.items()"
   ]
  },
  {
   "cell_type": "markdown",
   "id": "98bc0fa0",
   "metadata": {},
   "source": [
    "Thus, the Pythonic way to iterate through a dictionary accessing both the keys and values looks like this:"
   ]
  },
  {
   "cell_type": "code",
   "execution_count": null,
   "id": "344e8a77",
   "metadata": {},
   "outputs": [],
   "source": [
    "d = {'foo': 1, 'bar': 2, 'baz': 3}\n",
    "for k, v in d.items():\n",
    "    print('k =', k, ', v =', v)"
   ]
  },
  {
   "cell_type": "markdown",
   "id": "7201ff79",
   "metadata": {},
   "source": [
    "**3. Nesting Python for loops**\n",
    "\n",
    "When we have a for loop inside another for loop, it’s called a nested for loop. There are multiple applications of a nested for loop.\n",
    "\n",
    "Consider the list example above. The for loop prints out individual words from the list. But what if we want to print out the individual characters of each of the words within the list instead?\n",
    "\n",
    "This is where a nested for loop works better. The first loop (parent loop) will go over the words one by one. The second loop (child loop) will loop over the characters of each of the words."
   ]
  },
  {
   "cell_type": "code",
   "execution_count": null,
   "id": "7af19984",
   "metadata": {},
   "outputs": [],
   "source": [
    "words= [\"Apple\", \"Banana\", \"Car\", \"Dolphin\" ]\n",
    "for word in words:\n",
    "        #This loop is fetching word from the list\n",
    "        print (\"The following lines will print each letters of \"+word)\n",
    "        for letter in word:\n",
    "                #This loop is fetching letter for the word\n",
    "                print (letter)\n",
    "        print(\"\") #This print is used to print a blank line"
   ]
  }
 ],
 "metadata": {
  "kernelspec": {
   "display_name": "Python 3 (ipykernel)",
   "language": "python",
   "name": "python3"
  },
  "language_info": {
   "codemirror_mode": {
    "name": "ipython",
    "version": 3
   },
   "file_extension": ".py",
   "mimetype": "text/x-python",
   "name": "python",
   "nbconvert_exporter": "python",
   "pygments_lexer": "ipython3",
   "version": "3.9.12"
  }
 },
 "nbformat": 4,
 "nbformat_minor": 5
}
